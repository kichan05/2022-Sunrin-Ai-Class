{
 "cells": [
  {
   "cell_type": "markdown",
   "metadata": {
    "pycharm": {
     "name": "#%% md\n"
    }
   },
   "source": [
    "# 0331 수업 요약\n",
    "- k-최근접 이웃 회귀 알고리즘 실습\n",
    "- 농어의 길이를 보고 무게 예측하기"
   ]
  },
  {
   "cell_type": "markdown",
   "metadata": {
    "pycharm": {
     "name": "#%% md\n"
    }
   },
   "source": [
    "# 0406 수업 요약\n",
    "- k최근접 이웃 알고리즘에서 k 값을 변경해서 모델의 성능을 높인다."
   ]
  },
  {
   "cell_type": "markdown",
   "metadata": {
    "pycharm": {
     "name": "#%% md\n"
    }
   },
   "source": [
    "# 0407 수업 요약\n",
    "- 데이터를 훈련 세트와 데이터 세트로 분류해서 모델을 학습하고 평가한다."
   ]
  },
  {
   "cell_type": "markdown",
   "metadata": {
    "pycharm": {
     "name": "#%% md\n"
    }
   },
   "source": [
    "# 0413 수업 요약\n",
    "- k최근접 이웃 알고리즘의 한계\n",
    "- 선형 회귀"
   ]
  },
  {
   "cell_type": "markdown",
   "metadata": {
    "pycharm": {
     "name": "#%% md\n"
    }
   },
   "source": [
    "# 0414 수업 요약\n",
    "- 선형 회귀의 한계점을 극복한 다항 회귀 알고리즘"
   ]
  },
  {
   "cell_type": "code",
   "execution_count": 1,
   "metadata": {
    "pycharm": {
     "name": "#%%\n"
    }
   },
   "outputs": [
    {
     "data": {
      "text/plain": "    Species  Weight  Length   Height   Width\n0     Bream   242.0    25.4  11.5200  4.0200\n1     Bream   290.0    26.3  12.4800  4.3056\n2     Bream   340.0    26.5  12.3778  4.6961\n3     Bream   363.0    29.0  12.7300  4.4555\n4     Bream   430.0    29.0  12.4440  5.1340\n..      ...     ...     ...      ...     ...\n154   Smelt    12.2    12.2   2.0904  1.3936\n155   Smelt    13.4    12.4   2.4300  1.2690\n156   Smelt    12.2    13.0   2.2770  1.2558\n157   Smelt    19.7    14.3   2.8728  2.0672\n158   Smelt    19.9    15.0   2.9322  1.8792\n\n[159 rows x 5 columns]",
      "text/html": "<div>\n<style scoped>\n    .dataframe tbody tr th:only-of-type {\n        vertical-align: middle;\n    }\n\n    .dataframe tbody tr th {\n        vertical-align: top;\n    }\n\n    .dataframe thead th {\n        text-align: right;\n    }\n</style>\n<table border=\"1\" class=\"dataframe\">\n  <thead>\n    <tr style=\"text-align: right;\">\n      <th></th>\n      <th>Species</th>\n      <th>Weight</th>\n      <th>Length</th>\n      <th>Height</th>\n      <th>Width</th>\n    </tr>\n  </thead>\n  <tbody>\n    <tr>\n      <th>0</th>\n      <td>Bream</td>\n      <td>242.0</td>\n      <td>25.4</td>\n      <td>11.5200</td>\n      <td>4.0200</td>\n    </tr>\n    <tr>\n      <th>1</th>\n      <td>Bream</td>\n      <td>290.0</td>\n      <td>26.3</td>\n      <td>12.4800</td>\n      <td>4.3056</td>\n    </tr>\n    <tr>\n      <th>2</th>\n      <td>Bream</td>\n      <td>340.0</td>\n      <td>26.5</td>\n      <td>12.3778</td>\n      <td>4.6961</td>\n    </tr>\n    <tr>\n      <th>3</th>\n      <td>Bream</td>\n      <td>363.0</td>\n      <td>29.0</td>\n      <td>12.7300</td>\n      <td>4.4555</td>\n    </tr>\n    <tr>\n      <th>4</th>\n      <td>Bream</td>\n      <td>430.0</td>\n      <td>29.0</td>\n      <td>12.4440</td>\n      <td>5.1340</td>\n    </tr>\n    <tr>\n      <th>...</th>\n      <td>...</td>\n      <td>...</td>\n      <td>...</td>\n      <td>...</td>\n      <td>...</td>\n    </tr>\n    <tr>\n      <th>154</th>\n      <td>Smelt</td>\n      <td>12.2</td>\n      <td>12.2</td>\n      <td>2.0904</td>\n      <td>1.3936</td>\n    </tr>\n    <tr>\n      <th>155</th>\n      <td>Smelt</td>\n      <td>13.4</td>\n      <td>12.4</td>\n      <td>2.4300</td>\n      <td>1.2690</td>\n    </tr>\n    <tr>\n      <th>156</th>\n      <td>Smelt</td>\n      <td>12.2</td>\n      <td>13.0</td>\n      <td>2.2770</td>\n      <td>1.2558</td>\n    </tr>\n    <tr>\n      <th>157</th>\n      <td>Smelt</td>\n      <td>19.7</td>\n      <td>14.3</td>\n      <td>2.8728</td>\n      <td>2.0672</td>\n    </tr>\n    <tr>\n      <th>158</th>\n      <td>Smelt</td>\n      <td>19.9</td>\n      <td>15.0</td>\n      <td>2.9322</td>\n      <td>1.8792</td>\n    </tr>\n  </tbody>\n</table>\n<p>159 rows × 5 columns</p>\n</div>"
     },
     "execution_count": 1,
     "metadata": {},
     "output_type": "execute_result"
    }
   ],
   "source": [
    "import pandas as pd\n",
    "import numpy as np\n",
    "import matplotlib.pyplot as plt\n",
    "\n",
    "fish_all = pd.read_csv(\"./Fish.csv\")\n",
    "# CSV파일을 읽어 온다\n",
    "\n",
    "fish_all"
   ]
  },
  {
   "cell_type": "code",
   "execution_count": 2,
   "metadata": {
    "scrolled": false,
    "pycharm": {
     "name": "#%%\n"
    }
   },
   "outputs": [
    {
     "data": {
      "text/html": [
       "<div>\n",
       "<style scoped>\n",
       "    .dataframe tbody tr th:only-of-type {\n",
       "        vertical-align: middle;\n",
       "    }\n",
       "\n",
       "    .dataframe tbody tr th {\n",
       "        vertical-align: top;\n",
       "    }\n",
       "\n",
       "    .dataframe thead th {\n",
       "        text-align: right;\n",
       "    }\n",
       "</style>\n",
       "<table border=\"1\" class=\"dataframe\">\n",
       "  <thead>\n",
       "    <tr style=\"text-align: right;\">\n",
       "      <th></th>\n",
       "      <th>Species</th>\n",
       "      <th>Weight</th>\n",
       "      <th>Length</th>\n",
       "      <th>Height</th>\n",
       "      <th>Width</th>\n",
       "    </tr>\n",
       "  </thead>\n",
       "  <tbody>\n",
       "    <tr>\n",
       "      <th>72</th>\n",
       "      <td>Perch</td>\n",
       "      <td>5.9</td>\n",
       "      <td>8.4</td>\n",
       "      <td>2.1120</td>\n",
       "      <td>1.4080</td>\n",
       "    </tr>\n",
       "    <tr>\n",
       "      <th>73</th>\n",
       "      <td>Perch</td>\n",
       "      <td>32.0</td>\n",
       "      <td>13.7</td>\n",
       "      <td>3.5280</td>\n",
       "      <td>1.9992</td>\n",
       "    </tr>\n",
       "    <tr>\n",
       "      <th>74</th>\n",
       "      <td>Perch</td>\n",
       "      <td>40.0</td>\n",
       "      <td>15.0</td>\n",
       "      <td>3.8240</td>\n",
       "      <td>2.4320</td>\n",
       "    </tr>\n",
       "    <tr>\n",
       "      <th>75</th>\n",
       "      <td>Perch</td>\n",
       "      <td>51.5</td>\n",
       "      <td>16.2</td>\n",
       "      <td>4.5924</td>\n",
       "      <td>2.6316</td>\n",
       "    </tr>\n",
       "    <tr>\n",
       "      <th>76</th>\n",
       "      <td>Perch</td>\n",
       "      <td>70.0</td>\n",
       "      <td>17.4</td>\n",
       "      <td>4.5880</td>\n",
       "      <td>2.9415</td>\n",
       "    </tr>\n",
       "    <tr>\n",
       "      <th>77</th>\n",
       "      <td>Perch</td>\n",
       "      <td>100.0</td>\n",
       "      <td>18.0</td>\n",
       "      <td>5.2224</td>\n",
       "      <td>3.3216</td>\n",
       "    </tr>\n",
       "    <tr>\n",
       "      <th>78</th>\n",
       "      <td>Perch</td>\n",
       "      <td>78.0</td>\n",
       "      <td>18.7</td>\n",
       "      <td>5.1992</td>\n",
       "      <td>3.1234</td>\n",
       "    </tr>\n",
       "    <tr>\n",
       "      <th>79</th>\n",
       "      <td>Perch</td>\n",
       "      <td>80.0</td>\n",
       "      <td>19.0</td>\n",
       "      <td>5.6358</td>\n",
       "      <td>3.0502</td>\n",
       "    </tr>\n",
       "    <tr>\n",
       "      <th>80</th>\n",
       "      <td>Perch</td>\n",
       "      <td>85.0</td>\n",
       "      <td>19.6</td>\n",
       "      <td>5.1376</td>\n",
       "      <td>3.0368</td>\n",
       "    </tr>\n",
       "    <tr>\n",
       "      <th>81</th>\n",
       "      <td>Perch</td>\n",
       "      <td>85.0</td>\n",
       "      <td>20.0</td>\n",
       "      <td>5.0820</td>\n",
       "      <td>2.7720</td>\n",
       "    </tr>\n",
       "    <tr>\n",
       "      <th>82</th>\n",
       "      <td>Perch</td>\n",
       "      <td>110.0</td>\n",
       "      <td>21.0</td>\n",
       "      <td>5.6925</td>\n",
       "      <td>3.5550</td>\n",
       "    </tr>\n",
       "    <tr>\n",
       "      <th>83</th>\n",
       "      <td>Perch</td>\n",
       "      <td>115.0</td>\n",
       "      <td>21.0</td>\n",
       "      <td>5.9175</td>\n",
       "      <td>3.3075</td>\n",
       "    </tr>\n",
       "    <tr>\n",
       "      <th>84</th>\n",
       "      <td>Perch</td>\n",
       "      <td>125.0</td>\n",
       "      <td>21.0</td>\n",
       "      <td>5.6925</td>\n",
       "      <td>3.6675</td>\n",
       "    </tr>\n",
       "    <tr>\n",
       "      <th>85</th>\n",
       "      <td>Perch</td>\n",
       "      <td>130.0</td>\n",
       "      <td>21.3</td>\n",
       "      <td>6.3840</td>\n",
       "      <td>3.5340</td>\n",
       "    </tr>\n",
       "    <tr>\n",
       "      <th>86</th>\n",
       "      <td>Perch</td>\n",
       "      <td>120.0</td>\n",
       "      <td>22.0</td>\n",
       "      <td>6.1100</td>\n",
       "      <td>3.4075</td>\n",
       "    </tr>\n",
       "    <tr>\n",
       "      <th>87</th>\n",
       "      <td>Perch</td>\n",
       "      <td>120.0</td>\n",
       "      <td>22.0</td>\n",
       "      <td>5.6400</td>\n",
       "      <td>3.5250</td>\n",
       "    </tr>\n",
       "    <tr>\n",
       "      <th>88</th>\n",
       "      <td>Perch</td>\n",
       "      <td>130.0</td>\n",
       "      <td>22.0</td>\n",
       "      <td>6.1100</td>\n",
       "      <td>3.5250</td>\n",
       "    </tr>\n",
       "    <tr>\n",
       "      <th>89</th>\n",
       "      <td>Perch</td>\n",
       "      <td>135.0</td>\n",
       "      <td>22.0</td>\n",
       "      <td>5.8750</td>\n",
       "      <td>3.5250</td>\n",
       "    </tr>\n",
       "    <tr>\n",
       "      <th>90</th>\n",
       "      <td>Perch</td>\n",
       "      <td>110.0</td>\n",
       "      <td>22.0</td>\n",
       "      <td>5.5225</td>\n",
       "      <td>3.9950</td>\n",
       "    </tr>\n",
       "    <tr>\n",
       "      <th>91</th>\n",
       "      <td>Perch</td>\n",
       "      <td>130.0</td>\n",
       "      <td>22.5</td>\n",
       "      <td>5.8560</td>\n",
       "      <td>3.6240</td>\n",
       "    </tr>\n",
       "    <tr>\n",
       "      <th>92</th>\n",
       "      <td>Perch</td>\n",
       "      <td>150.0</td>\n",
       "      <td>22.5</td>\n",
       "      <td>6.7920</td>\n",
       "      <td>3.6240</td>\n",
       "    </tr>\n",
       "    <tr>\n",
       "      <th>93</th>\n",
       "      <td>Perch</td>\n",
       "      <td>145.0</td>\n",
       "      <td>22.7</td>\n",
       "      <td>5.9532</td>\n",
       "      <td>3.6300</td>\n",
       "    </tr>\n",
       "    <tr>\n",
       "      <th>94</th>\n",
       "      <td>Perch</td>\n",
       "      <td>150.0</td>\n",
       "      <td>23.0</td>\n",
       "      <td>5.2185</td>\n",
       "      <td>3.6260</td>\n",
       "    </tr>\n",
       "    <tr>\n",
       "      <th>95</th>\n",
       "      <td>Perch</td>\n",
       "      <td>170.0</td>\n",
       "      <td>23.5</td>\n",
       "      <td>6.2750</td>\n",
       "      <td>3.7250</td>\n",
       "    </tr>\n",
       "    <tr>\n",
       "      <th>96</th>\n",
       "      <td>Perch</td>\n",
       "      <td>225.0</td>\n",
       "      <td>24.0</td>\n",
       "      <td>7.2930</td>\n",
       "      <td>3.7230</td>\n",
       "    </tr>\n",
       "    <tr>\n",
       "      <th>97</th>\n",
       "      <td>Perch</td>\n",
       "      <td>145.0</td>\n",
       "      <td>24.0</td>\n",
       "      <td>6.3750</td>\n",
       "      <td>3.8250</td>\n",
       "    </tr>\n",
       "    <tr>\n",
       "      <th>98</th>\n",
       "      <td>Perch</td>\n",
       "      <td>188.0</td>\n",
       "      <td>24.6</td>\n",
       "      <td>6.7334</td>\n",
       "      <td>4.1658</td>\n",
       "    </tr>\n",
       "    <tr>\n",
       "      <th>99</th>\n",
       "      <td>Perch</td>\n",
       "      <td>180.0</td>\n",
       "      <td>25.0</td>\n",
       "      <td>6.4395</td>\n",
       "      <td>3.6835</td>\n",
       "    </tr>\n",
       "    <tr>\n",
       "      <th>100</th>\n",
       "      <td>Perch</td>\n",
       "      <td>197.0</td>\n",
       "      <td>25.6</td>\n",
       "      <td>6.5610</td>\n",
       "      <td>4.2390</td>\n",
       "    </tr>\n",
       "    <tr>\n",
       "      <th>101</th>\n",
       "      <td>Perch</td>\n",
       "      <td>218.0</td>\n",
       "      <td>26.5</td>\n",
       "      <td>7.1680</td>\n",
       "      <td>4.1440</td>\n",
       "    </tr>\n",
       "    <tr>\n",
       "      <th>102</th>\n",
       "      <td>Perch</td>\n",
       "      <td>300.0</td>\n",
       "      <td>27.3</td>\n",
       "      <td>8.3230</td>\n",
       "      <td>5.1373</td>\n",
       "    </tr>\n",
       "    <tr>\n",
       "      <th>103</th>\n",
       "      <td>Perch</td>\n",
       "      <td>260.0</td>\n",
       "      <td>27.5</td>\n",
       "      <td>7.1672</td>\n",
       "      <td>4.3350</td>\n",
       "    </tr>\n",
       "    <tr>\n",
       "      <th>104</th>\n",
       "      <td>Perch</td>\n",
       "      <td>265.0</td>\n",
       "      <td>27.5</td>\n",
       "      <td>7.0516</td>\n",
       "      <td>4.3350</td>\n",
       "    </tr>\n",
       "    <tr>\n",
       "      <th>105</th>\n",
       "      <td>Perch</td>\n",
       "      <td>250.0</td>\n",
       "      <td>27.5</td>\n",
       "      <td>7.2828</td>\n",
       "      <td>4.5662</td>\n",
       "    </tr>\n",
       "    <tr>\n",
       "      <th>106</th>\n",
       "      <td>Perch</td>\n",
       "      <td>250.0</td>\n",
       "      <td>28.0</td>\n",
       "      <td>7.8204</td>\n",
       "      <td>4.2042</td>\n",
       "    </tr>\n",
       "    <tr>\n",
       "      <th>107</th>\n",
       "      <td>Perch</td>\n",
       "      <td>300.0</td>\n",
       "      <td>28.7</td>\n",
       "      <td>7.5852</td>\n",
       "      <td>4.6354</td>\n",
       "    </tr>\n",
       "    <tr>\n",
       "      <th>108</th>\n",
       "      <td>Perch</td>\n",
       "      <td>320.0</td>\n",
       "      <td>30.0</td>\n",
       "      <td>7.6156</td>\n",
       "      <td>4.7716</td>\n",
       "    </tr>\n",
       "    <tr>\n",
       "      <th>109</th>\n",
       "      <td>Perch</td>\n",
       "      <td>514.0</td>\n",
       "      <td>32.8</td>\n",
       "      <td>10.0300</td>\n",
       "      <td>6.0180</td>\n",
       "    </tr>\n",
       "    <tr>\n",
       "      <th>110</th>\n",
       "      <td>Perch</td>\n",
       "      <td>556.0</td>\n",
       "      <td>34.5</td>\n",
       "      <td>10.2565</td>\n",
       "      <td>6.3875</td>\n",
       "    </tr>\n",
       "    <tr>\n",
       "      <th>111</th>\n",
       "      <td>Perch</td>\n",
       "      <td>840.0</td>\n",
       "      <td>35.0</td>\n",
       "      <td>11.4884</td>\n",
       "      <td>7.7957</td>\n",
       "    </tr>\n",
       "    <tr>\n",
       "      <th>112</th>\n",
       "      <td>Perch</td>\n",
       "      <td>685.0</td>\n",
       "      <td>36.5</td>\n",
       "      <td>10.8810</td>\n",
       "      <td>6.8640</td>\n",
       "    </tr>\n",
       "    <tr>\n",
       "      <th>113</th>\n",
       "      <td>Perch</td>\n",
       "      <td>700.0</td>\n",
       "      <td>36.0</td>\n",
       "      <td>10.6091</td>\n",
       "      <td>6.7408</td>\n",
       "    </tr>\n",
       "    <tr>\n",
       "      <th>114</th>\n",
       "      <td>Perch</td>\n",
       "      <td>700.0</td>\n",
       "      <td>37.0</td>\n",
       "      <td>10.8350</td>\n",
       "      <td>6.2646</td>\n",
       "    </tr>\n",
       "    <tr>\n",
       "      <th>115</th>\n",
       "      <td>Perch</td>\n",
       "      <td>690.0</td>\n",
       "      <td>37.0</td>\n",
       "      <td>10.5717</td>\n",
       "      <td>6.3666</td>\n",
       "    </tr>\n",
       "    <tr>\n",
       "      <th>116</th>\n",
       "      <td>Perch</td>\n",
       "      <td>900.0</td>\n",
       "      <td>39.0</td>\n",
       "      <td>11.1366</td>\n",
       "      <td>7.4934</td>\n",
       "    </tr>\n",
       "    <tr>\n",
       "      <th>117</th>\n",
       "      <td>Perch</td>\n",
       "      <td>650.0</td>\n",
       "      <td>39.0</td>\n",
       "      <td>11.1366</td>\n",
       "      <td>6.0030</td>\n",
       "    </tr>\n",
       "    <tr>\n",
       "      <th>118</th>\n",
       "      <td>Perch</td>\n",
       "      <td>820.0</td>\n",
       "      <td>39.0</td>\n",
       "      <td>12.4313</td>\n",
       "      <td>7.3514</td>\n",
       "    </tr>\n",
       "    <tr>\n",
       "      <th>119</th>\n",
       "      <td>Perch</td>\n",
       "      <td>850.0</td>\n",
       "      <td>40.0</td>\n",
       "      <td>11.9286</td>\n",
       "      <td>7.1064</td>\n",
       "    </tr>\n",
       "    <tr>\n",
       "      <th>120</th>\n",
       "      <td>Perch</td>\n",
       "      <td>900.0</td>\n",
       "      <td>40.0</td>\n",
       "      <td>11.7300</td>\n",
       "      <td>7.2250</td>\n",
       "    </tr>\n",
       "    <tr>\n",
       "      <th>121</th>\n",
       "      <td>Perch</td>\n",
       "      <td>1015.0</td>\n",
       "      <td>40.0</td>\n",
       "      <td>12.3808</td>\n",
       "      <td>7.4624</td>\n",
       "    </tr>\n",
       "    <tr>\n",
       "      <th>122</th>\n",
       "      <td>Perch</td>\n",
       "      <td>820.0</td>\n",
       "      <td>40.0</td>\n",
       "      <td>11.1350</td>\n",
       "      <td>6.6300</td>\n",
       "    </tr>\n",
       "    <tr>\n",
       "      <th>123</th>\n",
       "      <td>Perch</td>\n",
       "      <td>1100.0</td>\n",
       "      <td>42.0</td>\n",
       "      <td>12.8002</td>\n",
       "      <td>6.8684</td>\n",
       "    </tr>\n",
       "    <tr>\n",
       "      <th>124</th>\n",
       "      <td>Perch</td>\n",
       "      <td>1000.0</td>\n",
       "      <td>43.0</td>\n",
       "      <td>11.9328</td>\n",
       "      <td>7.2772</td>\n",
       "    </tr>\n",
       "    <tr>\n",
       "      <th>125</th>\n",
       "      <td>Perch</td>\n",
       "      <td>1100.0</td>\n",
       "      <td>43.0</td>\n",
       "      <td>12.5125</td>\n",
       "      <td>7.4165</td>\n",
       "    </tr>\n",
       "    <tr>\n",
       "      <th>126</th>\n",
       "      <td>Perch</td>\n",
       "      <td>1000.0</td>\n",
       "      <td>43.5</td>\n",
       "      <td>12.6040</td>\n",
       "      <td>8.1420</td>\n",
       "    </tr>\n",
       "    <tr>\n",
       "      <th>127</th>\n",
       "      <td>Perch</td>\n",
       "      <td>1000.0</td>\n",
       "      <td>44.0</td>\n",
       "      <td>12.4888</td>\n",
       "      <td>7.5958</td>\n",
       "    </tr>\n",
       "  </tbody>\n",
       "</table>\n",
       "</div>"
      ],
      "text/plain": [
       "    Species  Weight  Length   Height   Width\n",
       "72    Perch     5.9     8.4   2.1120  1.4080\n",
       "73    Perch    32.0    13.7   3.5280  1.9992\n",
       "74    Perch    40.0    15.0   3.8240  2.4320\n",
       "75    Perch    51.5    16.2   4.5924  2.6316\n",
       "76    Perch    70.0    17.4   4.5880  2.9415\n",
       "77    Perch   100.0    18.0   5.2224  3.3216\n",
       "78    Perch    78.0    18.7   5.1992  3.1234\n",
       "79    Perch    80.0    19.0   5.6358  3.0502\n",
       "80    Perch    85.0    19.6   5.1376  3.0368\n",
       "81    Perch    85.0    20.0   5.0820  2.7720\n",
       "82    Perch   110.0    21.0   5.6925  3.5550\n",
       "83    Perch   115.0    21.0   5.9175  3.3075\n",
       "84    Perch   125.0    21.0   5.6925  3.6675\n",
       "85    Perch   130.0    21.3   6.3840  3.5340\n",
       "86    Perch   120.0    22.0   6.1100  3.4075\n",
       "87    Perch   120.0    22.0   5.6400  3.5250\n",
       "88    Perch   130.0    22.0   6.1100  3.5250\n",
       "89    Perch   135.0    22.0   5.8750  3.5250\n",
       "90    Perch   110.0    22.0   5.5225  3.9950\n",
       "91    Perch   130.0    22.5   5.8560  3.6240\n",
       "92    Perch   150.0    22.5   6.7920  3.6240\n",
       "93    Perch   145.0    22.7   5.9532  3.6300\n",
       "94    Perch   150.0    23.0   5.2185  3.6260\n",
       "95    Perch   170.0    23.5   6.2750  3.7250\n",
       "96    Perch   225.0    24.0   7.2930  3.7230\n",
       "97    Perch   145.0    24.0   6.3750  3.8250\n",
       "98    Perch   188.0    24.6   6.7334  4.1658\n",
       "99    Perch   180.0    25.0   6.4395  3.6835\n",
       "100   Perch   197.0    25.6   6.5610  4.2390\n",
       "101   Perch   218.0    26.5   7.1680  4.1440\n",
       "102   Perch   300.0    27.3   8.3230  5.1373\n",
       "103   Perch   260.0    27.5   7.1672  4.3350\n",
       "104   Perch   265.0    27.5   7.0516  4.3350\n",
       "105   Perch   250.0    27.5   7.2828  4.5662\n",
       "106   Perch   250.0    28.0   7.8204  4.2042\n",
       "107   Perch   300.0    28.7   7.5852  4.6354\n",
       "108   Perch   320.0    30.0   7.6156  4.7716\n",
       "109   Perch   514.0    32.8  10.0300  6.0180\n",
       "110   Perch   556.0    34.5  10.2565  6.3875\n",
       "111   Perch   840.0    35.0  11.4884  7.7957\n",
       "112   Perch   685.0    36.5  10.8810  6.8640\n",
       "113   Perch   700.0    36.0  10.6091  6.7408\n",
       "114   Perch   700.0    37.0  10.8350  6.2646\n",
       "115   Perch   690.0    37.0  10.5717  6.3666\n",
       "116   Perch   900.0    39.0  11.1366  7.4934\n",
       "117   Perch   650.0    39.0  11.1366  6.0030\n",
       "118   Perch   820.0    39.0  12.4313  7.3514\n",
       "119   Perch   850.0    40.0  11.9286  7.1064\n",
       "120   Perch   900.0    40.0  11.7300  7.2250\n",
       "121   Perch  1015.0    40.0  12.3808  7.4624\n",
       "122   Perch   820.0    40.0  11.1350  6.6300\n",
       "123   Perch  1100.0    42.0  12.8002  6.8684\n",
       "124   Perch  1000.0    43.0  11.9328  7.2772\n",
       "125   Perch  1100.0    43.0  12.5125  7.4165\n",
       "126   Perch  1000.0    43.5  12.6040  8.1420\n",
       "127   Perch  1000.0    44.0  12.4888  7.5958"
      ]
     },
     "execution_count": 2,
     "metadata": {},
     "output_type": "execute_result"
    }
   ],
   "source": [
    "fish_perch = fish_all[fish_all[\"Species\"] == \"Perch\"]\n",
    "# Species열이 Perch인 행들을 가져온다.\n",
    "\n",
    "fish_perch"
   ]
  },
  {
   "cell_type": "code",
   "execution_count": 3,
   "metadata": {
    "scrolled": false,
    "pycharm": {
     "name": "#%%\n"
    }
   },
   "outputs": [
    {
     "name": "stdout",
     "output_type": "stream",
     "text": [
      "72      8.4\n",
      "73     13.7\n",
      "74     15.0\n",
      "75     16.2\n",
      "76     17.4\n",
      "77     18.0\n",
      "78     18.7\n",
      "79     19.0\n",
      "80     19.6\n",
      "81     20.0\n",
      "82     21.0\n",
      "83     21.0\n",
      "84     21.0\n",
      "85     21.3\n",
      "86     22.0\n",
      "87     22.0\n",
      "88     22.0\n",
      "89     22.0\n",
      "90     22.0\n",
      "91     22.5\n",
      "92     22.5\n",
      "93     22.7\n",
      "94     23.0\n",
      "95     23.5\n",
      "96     24.0\n",
      "97     24.0\n",
      "98     24.6\n",
      "99     25.0\n",
      "100    25.6\n",
      "101    26.5\n",
      "102    27.3\n",
      "103    27.5\n",
      "104    27.5\n",
      "105    27.5\n",
      "106    28.0\n",
      "107    28.7\n",
      "108    30.0\n",
      "109    32.8\n",
      "110    34.5\n",
      "111    35.0\n",
      "112    36.5\n",
      "113    36.0\n",
      "114    37.0\n",
      "115    37.0\n",
      "116    39.0\n",
      "117    39.0\n",
      "118    39.0\n",
      "119    40.0\n",
      "120    40.0\n",
      "121    40.0\n",
      "122    40.0\n",
      "123    42.0\n",
      "124    43.0\n",
      "125    43.0\n",
      "126    43.5\n",
      "127    44.0\n",
      "Name: Length, dtype: float64\n",
      "\n",
      "(56,)\n",
      "\n",
      "[[ 8.4]\n",
      " [13.7]\n",
      " [15. ]\n",
      " [16.2]\n",
      " [17.4]\n",
      " [18. ]\n",
      " [18.7]\n",
      " [19. ]\n",
      " [19.6]\n",
      " [20. ]\n",
      " [21. ]\n",
      " [21. ]\n",
      " [21. ]\n",
      " [21.3]\n",
      " [22. ]\n",
      " [22. ]\n",
      " [22. ]\n",
      " [22. ]\n",
      " [22. ]\n",
      " [22.5]\n",
      " [22.5]\n",
      " [22.7]\n",
      " [23. ]\n",
      " [23.5]\n",
      " [24. ]\n",
      " [24. ]\n",
      " [24.6]\n",
      " [25. ]\n",
      " [25.6]\n",
      " [26.5]\n",
      " [27.3]\n",
      " [27.5]\n",
      " [27.5]\n",
      " [27.5]\n",
      " [28. ]\n",
      " [28.7]\n",
      " [30. ]\n",
      " [32.8]\n",
      " [34.5]\n",
      " [35. ]\n",
      " [36.5]\n",
      " [36. ]\n",
      " [37. ]\n",
      " [37. ]\n",
      " [39. ]\n",
      " [39. ]\n",
      " [39. ]\n",
      " [40. ]\n",
      " [40. ]\n",
      " [40. ]\n",
      " [40. ]\n",
      " [42. ]\n",
      " [43. ]\n",
      " [43. ]\n",
      " [43.5]\n",
      " [44. ]]\n",
      "(56, 1)\n"
     ]
    }
   ],
   "source": [
    "perch_length = fish_perch[\"Length\"] #fish_persh에서 Length의 값들을 가져온다/\n",
    "print(perch_length)\n",
    "print()\n",
    "print(perch_length.shape)\n",
    "print()\n",
    "\n",
    "perch_length = perch_length.to_numpy()\n",
    "perch_length = perch_length.reshape(-1, 1)\n",
    "# 가져온 데이터는 1차원 구조이기때문에 numpy로 변경해주고 2차운 구조로 변경 해준다.\n",
    "\n",
    "print(perch_length)\n",
    "print(perch_length.shape)\n",
    "# 독립변수 데이터들"
   ]
  },
  {
   "cell_type": "code",
   "execution_count": 4,
   "metadata": {
    "pycharm": {
     "name": "#%%\n"
    }
   },
   "outputs": [
    {
     "name": "stdout",
     "output_type": "stream",
     "text": [
      "(56, 1)\n"
     ]
    },
    {
     "data": {
      "text/plain": [
       "array([[   5.9],\n",
       "       [  32. ],\n",
       "       [  40. ],\n",
       "       [  51.5],\n",
       "       [  70. ],\n",
       "       [ 100. ],\n",
       "       [  78. ],\n",
       "       [  80. ],\n",
       "       [  85. ],\n",
       "       [  85. ],\n",
       "       [ 110. ],\n",
       "       [ 115. ],\n",
       "       [ 125. ],\n",
       "       [ 130. ],\n",
       "       [ 120. ],\n",
       "       [ 120. ],\n",
       "       [ 130. ],\n",
       "       [ 135. ],\n",
       "       [ 110. ],\n",
       "       [ 130. ],\n",
       "       [ 150. ],\n",
       "       [ 145. ],\n",
       "       [ 150. ],\n",
       "       [ 170. ],\n",
       "       [ 225. ],\n",
       "       [ 145. ],\n",
       "       [ 188. ],\n",
       "       [ 180. ],\n",
       "       [ 197. ],\n",
       "       [ 218. ],\n",
       "       [ 300. ],\n",
       "       [ 260. ],\n",
       "       [ 265. ],\n",
       "       [ 250. ],\n",
       "       [ 250. ],\n",
       "       [ 300. ],\n",
       "       [ 320. ],\n",
       "       [ 514. ],\n",
       "       [ 556. ],\n",
       "       [ 840. ],\n",
       "       [ 685. ],\n",
       "       [ 700. ],\n",
       "       [ 700. ],\n",
       "       [ 690. ],\n",
       "       [ 900. ],\n",
       "       [ 650. ],\n",
       "       [ 820. ],\n",
       "       [ 850. ],\n",
       "       [ 900. ],\n",
       "       [1015. ],\n",
       "       [ 820. ],\n",
       "       [1100. ],\n",
       "       [1000. ],\n",
       "       [1100. ],\n",
       "       [1000. ],\n",
       "       [1000. ]])"
      ]
     },
     "execution_count": 4,
     "metadata": {},
     "output_type": "execute_result"
    }
   ],
   "source": [
    "perch_weight = fish_perch[\"Weight\"]\n",
    "perch_weight = perch_weight.to_numpy().reshape(-1, 1)\n",
    "\n",
    "print(perch_weight.shape)\n",
    "perch_weight # 종속변수 정답들"
   ]
  },
  {
   "cell_type": "code",
   "execution_count": 5,
   "metadata": {
    "pycharm": {
     "name": "#%%\n"
    }
   },
   "outputs": [
    {
     "name": "stderr",
     "output_type": "stream",
     "text": [
      "C:\\ProgramData\\Anaconda3\\lib\\site-packages\\matplotlib\\backends\\backend_agg.py:211: RuntimeWarning: Glyph 44600 missing from current font.\n",
      "  font.set_text(s, 0.0, flags=flags)\n",
      "C:\\ProgramData\\Anaconda3\\lib\\site-packages\\matplotlib\\backends\\backend_agg.py:211: RuntimeWarning: Glyph 51060 missing from current font.\n",
      "  font.set_text(s, 0.0, flags=flags)\n",
      "C:\\ProgramData\\Anaconda3\\lib\\site-packages\\matplotlib\\backends\\backend_agg.py:180: RuntimeWarning: Glyph 44600 missing from current font.\n",
      "  font.set_text(s, 0, flags=flags)\n",
      "C:\\ProgramData\\Anaconda3\\lib\\site-packages\\matplotlib\\backends\\backend_agg.py:180: RuntimeWarning: Glyph 51060 missing from current font.\n",
      "  font.set_text(s, 0, flags=flags)\n",
      "C:\\ProgramData\\Anaconda3\\lib\\site-packages\\matplotlib\\backends\\backend_agg.py:211: RuntimeWarning: Glyph 47924 missing from current font.\n",
      "  font.set_text(s, 0.0, flags=flags)\n",
      "C:\\ProgramData\\Anaconda3\\lib\\site-packages\\matplotlib\\backends\\backend_agg.py:211: RuntimeWarning: Glyph 44172 missing from current font.\n",
      "  font.set_text(s, 0.0, flags=flags)\n",
      "C:\\ProgramData\\Anaconda3\\lib\\site-packages\\matplotlib\\backends\\backend_agg.py:180: RuntimeWarning: Glyph 47924 missing from current font.\n",
      "  font.set_text(s, 0, flags=flags)\n",
      "C:\\ProgramData\\Anaconda3\\lib\\site-packages\\matplotlib\\backends\\backend_agg.py:180: RuntimeWarning: Glyph 44172 missing from current font.\n",
      "  font.set_text(s, 0, flags=flags)\n"
     ]
    },
    {
     "data": {
      "image/png": "[encoded data removed]",
      "text/plain": [
       "<Figure size 432x288 with 1 Axes>"
      ]
     },
     "metadata": {
      "needs_background": "light"
     },
     "output_type": "display_data"
    }
   ],
   "source": [
    "plt.scatter(perch_length, perch_weight)\n",
    "\n",
    "plt.rc(\"font\", family=\"Malgun Gothic\")\n",
    "plt.xlabel(\"길이\")\n",
    "plt.ylabel(\"무게\")\n",
    "\n",
    "plt.show()"
   ]
  },
  {
   "cell_type": "code",
   "execution_count": 6,
   "metadata": {
    "pycharm": {
     "name": "#%%\n"
    }
   },
   "outputs": [
    {
     "data": {
      "text/plain": [
       "KNeighborsRegressor(algorithm='auto', leaf_size=30, metric='minkowski',\n",
       "                    metric_params=None, n_jobs=None, n_neighbors=5, p=2,\n",
       "                    weights='uniform')"
      ]
     },
     "execution_count": 6,
     "metadata": {},
     "output_type": "execute_result"
    }
   ],
   "source": [
    "from sklearn.neighbors import KNeighborsRegressor\n",
    "# Sklearn 모듈의 K 이웃 최근접 회귀 알고리즘을 가져온다\n",
    "\n",
    "model_knr = KNeighborsRegressor()\n",
    "# 이 알고리즘을 적용할 객체를 생성한다.\n",
    "\n",
    "model_knr.fit(perch_length, perch_weight)\n",
    "# 알고리즘을 적용한다."
   ]
  },
  {
   "cell_type": "code",
   "execution_count": 7,
   "metadata": {
    "pycharm": {
     "name": "#%%\n"
    }
   },
   "outputs": [
    {
     "data": {
      "text/plain": [
       "array([[ 279.],\n",
       "       [1040.],\n",
       "       [  95.]])"
      ]
     },
     "execution_count": 7,
     "metadata": {},
     "output_type": "execute_result"
    }
   ],
   "source": [
    "length_for_wigth = [[30], [100], [20]] # 종속변수를 만들어 준다.\n",
    "\n",
    "predict_weigth = model_knr.predict(length_for_wigth) # 만들어준 종속변수를 주고 결과를 예측 한다.\n",
    "predict_weigth"
   ]
  },
  {
   "cell_type": "code",
   "execution_count": 8,
   "metadata": {
    "pycharm": {
     "name": "#%%\n"
    }
   },
   "outputs": [
    {
     "data": {
      "image/png": "[encoded data removed]",
      "text/plain": [
       "<Figure size 432x288 with 1 Axes>"
      ]
     },
     "metadata": {
      "needs_background": "light"
     },
     "output_type": "display_data"
    }
   ],
   "source": [
    "plt.scatter(perch_length, perch_weight)\n",
    "plt.scatter(length_for_wigth, predict_weigth)\n",
    "\n",
    "plt.rc(\"font\", family=\"Malgun Gothic\")\n",
    "plt.xlabel(\"길이\")\n",
    "plt.ylabel(\"무게\")\n",
    "\n",
    "plt.show()"
   ]
  },
  {
   "cell_type": "code",
   "execution_count": 9,
   "metadata": {
    "pycharm": {
     "name": "#%%\n"
    }
   },
   "outputs": [
    {
     "data": {
      "image/png": "[encoded data removed]",
      "text/plain": [
       "<Figure size 432x288 with 1 Axes>"
      ]
     },
     "metadata": {
      "needs_background": "light"
     },
     "output_type": "display_data"
    }
   ],
   "source": [
    "lengthLine = np.arange(10, 45).reshape(-1, 1)\n",
    "\n",
    "plt.scatter(perch_length, perch_weight)\n",
    "plt.plot(lengthLine, model_knr.predict(lengthLine), \"r--\")\n",
    "\n",
    "plt.rc(\"font\", family=\"Malgun Gothic\")\n",
    "plt.xlabel(\"길이\")\n",
    "plt.ylabel(\"무게\")\n",
    "\n",
    "plt.show()"
   ]
  },
  {
   "cell_type": "code",
   "execution_count": 10,
   "metadata": {
    "pycharm": {
     "name": "#%%\n"
    }
   },
   "outputs": [
    {
     "data": {
      "text/plain": [
       "0.9793648682718722"
      ]
     },
     "execution_count": 10,
     "metadata": {},
     "output_type": "execute_result"
    }
   ],
   "source": [
    "model_knr.score(perch_length, perch_weight)"
   ]
  },
  {
   "cell_type": "code",
   "execution_count": 11,
   "metadata": {
    "pycharm": {
     "name": "#%%\n"
    }
   },
   "outputs": [
    {
     "data": {
      "text/plain": [
       "30.569285714285716"
      ]
     },
     "execution_count": 11,
     "metadata": {},
     "output_type": "execute_result"
    }
   ],
   "source": [
    "from sklearn.metrics import mean_absolute_error\n",
    "\n",
    "score_mae = mean_absolute_error(perch_weight, model_knr.predict(perch_length))\n",
    "score_mae # 30g 정도의 오차가 있다"
   ]
  },
  {
   "cell_type": "markdown",
   "metadata": {
    "pycharm": {
     "name": "#%% md\n"
    }
   },
   "source": [
    "# 0406 수업"
   ]
  },
  {
   "cell_type": "code",
   "execution_count": 12,
   "metadata": {
    "pycharm": {
     "name": "#%%\n"
    }
   },
   "outputs": [
    {
     "data": {
      "text/plain": [
       "KNeighborsRegressor(algorithm='auto', leaf_size=30, metric='minkowski',\n",
       "                    metric_params=None, n_jobs=None, n_neighbors=10, p=2,\n",
       "                    weights='uniform')"
      ]
     },
     "execution_count": 12,
     "metadata": {},
     "output_type": "execute_result"
    }
   ],
   "source": [
    "model_knr_1 = KNeighborsRegressor()\n",
    "model_knr_1.n_neighbors = 1 #k최근접 이웃 알고리즘에서 k의 값을 변경한다\n",
    "model_knr_1.fit(perch_length, perch_weight)\n",
    "\n",
    "model_knr_5 = KNeighborsRegressor()\n",
    "model_knr_5.n_neighbors = 5\n",
    "model_knr_5.fit(perch_length, perch_weight)\n",
    "\n",
    "model_knr_10 = KNeighborsRegressor()\n",
    "model_knr_10.n_neighbors = 10\n",
    "model_knr_10.fit(perch_length, perch_weight)"
   ]
  },
  {
   "cell_type": "code",
   "execution_count": 13,
   "metadata": {
    "pycharm": {
     "name": "#%%\n"
    }
   },
   "outputs": [
    {
     "data": {
      "image/png": "[encoded data removed]",
      "text/plain": [
       "<Figure size 432x288 with 1 Axes>"
      ]
     },
     "metadata": {
      "needs_background": "light"
     },
     "output_type": "display_data"
    },
    {
     "name": "stdout",
     "output_type": "stream",
     "text": [
      "0.9823618210143489\n",
      "15.267857142857142\n"
     ]
    }
   ],
   "source": [
    "x = np.arange(10, 45).reshape(-1, 1)\n",
    "perdiction_line_k1 = model_knr_1.predict(x)\n",
    "\n",
    "plt.rc(\"font\", family=\"Malgun Gothic\")\n",
    "plt.xlabel(\"길이\")\n",
    "plt.ylabel(\"무게\")\n",
    "\n",
    "plt.scatter(perch_length, perch_weight)\n",
    "plt.plot(x, perdiction_line_k1, \"r--\")\n",
    "\n",
    "plt.show()\n",
    "\n",
    "score_k1 = model_knr_1.score(perch_length, perch_weight)\n",
    "print(score_k1)\n",
    "score_mae_k1 = mean_absolute_error(perch_weight, model_knr_1.predict(perch_length))\n",
    "print(score_mae_k1)"
   ]
  },
  {
   "cell_type": "code",
   "execution_count": 14,
   "metadata": {
    "pycharm": {
     "name": "#%%\n"
    }
   },
   "outputs": [
    {
     "data": {
      "image/png": "[encoded data removed]",
      "text/plain": [
       "<Figure size 432x288 with 1 Axes>"
      ]
     },
     "metadata": {
      "needs_background": "light"
     },
     "output_type": "display_data"
    },
    {
     "name": "stdout",
     "output_type": "stream",
     "text": [
      "0.9793648682718722\n",
      "30.569285714285716\n"
     ]
    }
   ],
   "source": [
    "x = np.arange(10, 45).reshape(-1, 1)\n",
    "perdiction_line_k5 = model_knr_5.predict(x)\n",
    "\n",
    "plt.rc(\"font\", family=\"Malgun Gothic\")\n",
    "plt.xlabel(\"길이\")\n",
    "plt.ylabel(\"무게\")\n",
    "\n",
    "plt.scatter(perch_length, perch_weight)\n",
    "plt.plot(x, perdiction_line_k5, \"r--\")\n",
    "\n",
    "plt.show()\n",
    "\n",
    "score_k5 = model_knr_5.score(perch_length, perch_weight)\n",
    "print(score_k5)\n",
    "score_mae_k5 = mean_absolute_error(perch_weight, model_knr_5.predict(perch_length))\n",
    "print(score_mae_k5)"
   ]
  },
  {
   "cell_type": "code",
   "execution_count": 15,
   "metadata": {
    "pycharm": {
     "name": "#%%\n"
    }
   },
   "outputs": [
    {
     "data": {
      "image/png": "[encoded data removed]",
      "text/plain": [
       "<Figure size 432x288 with 1 Axes>"
      ]
     },
     "metadata": {
      "needs_background": "light"
     },
     "output_type": "display_data"
    },
    {
     "name": "stdout",
     "output_type": "stream",
     "text": [
      "0.9758051075466483\n",
      "35.35053571428572\n"
     ]
    }
   ],
   "source": [
    "x = np.arange(10, 45).reshape(-1, 1)\n",
    "perdiction_line_k10 = model_knr_10.predict(x)\n",
    "\n",
    "plt.rc(\"font\", family=\"Malgun Gothic\")\n",
    "plt.xlabel(\"길이\")\n",
    "plt.ylabel(\"무게\")\n",
    "\n",
    "plt.scatter(perch_length, perch_weight)\n",
    "plt.plot(x, perdiction_line_k10, \"r--\")\n",
    "\n",
    "plt.show()\n",
    "\n",
    "score_k10 = model_knr_10.score(perch_length, perch_weight)\n",
    "print(score_k10)\n",
    "score_mae_k10 = mean_absolute_error(perch_weight, model_knr_10.predict(perch_length))\n",
    "print(score_mae_k10)"
   ]
  },
  {
   "cell_type": "code",
   "execution_count": 16,
   "metadata": {
    "pycharm": {
     "name": "#%%\n"
    }
   },
   "outputs": [
    {
     "data": {
      "image/png": "[encoded data removed]",
      "text/plain": [
       "<Figure size 432x288 with 1 Axes>"
      ]
     },
     "metadata": {
      "needs_background": "light"
     },
     "output_type": "display_data"
    }
   ],
   "source": [
    "plt.rc(\"font\", family=\"Malgun Gothic\")\n",
    "plt.xlabel(\"길이\")\n",
    "plt.ylabel(\"무게\")\n",
    "\n",
    "plt.scatter(perch_length, perch_weight, s=10, color=\"k\")\n",
    "plt.plot(x, perdiction_line_k1, \"r--\")\n",
    "plt.plot(x, perdiction_line_k5, \"b--\")\n",
    "plt.plot(x, perdiction_line_k10, \"g--\")\n",
    "\n",
    "plt.show()"
   ]
  },
  {
   "cell_type": "code",
   "execution_count": 17,
   "metadata": {
    "pycharm": {
     "name": "#%%\n"
    }
   },
   "outputs": [
    {
     "data": {
      "text/plain": [
       "array([[   5.9],\n",
       "       [   5.9],\n",
       "       [  32. ],\n",
       "       [  32. ],\n",
       "       [  32. ],\n",
       "       [  40. ],\n",
       "       [  51.5],\n",
       "       [  70. ],\n",
       "       [ 100. ],\n",
       "       [  80. ],\n",
       "       [  85. ],\n",
       "       [ 110. ],\n",
       "       [ 120. ],\n",
       "       [ 150. ],\n",
       "       [ 225. ],\n",
       "       [ 180. ],\n",
       "       [ 197. ],\n",
       "       [ 300. ],\n",
       "       [ 250. ],\n",
       "       [ 300. ],\n",
       "       [ 320. ],\n",
       "       [ 320. ],\n",
       "       [ 514. ],\n",
       "       [ 514. ],\n",
       "       [ 556. ],\n",
       "       [ 840. ],\n",
       "       [ 700. ],\n",
       "       [ 700. ],\n",
       "       [ 700. ],\n",
       "       [ 900. ],\n",
       "       [ 850. ],\n",
       "       [ 850. ],\n",
       "       [1100. ],\n",
       "       [1000. ],\n",
       "       [1000. ]])"
      ]
     },
     "execution_count": 17,
     "metadata": {},
     "output_type": "execute_result"
    }
   ],
   "source": [
    "perdiction_line_k1"
   ]
  },
  {
   "cell_type": "markdown",
   "metadata": {
    "pycharm": {
     "name": "#%% md\n"
    }
   },
   "source": [
    "# 0407 수업"
   ]
  },
  {
   "cell_type": "code",
   "execution_count": 18,
   "metadata": {
    "pycharm": {
     "name": "#%%\n"
    }
   },
   "outputs": [
    {
     "name": "stdout",
     "output_type": "stream",
     "text": [
      "(42, 1) (42, 1) (14, 1) (14, 1)\n"
     ]
    }
   ],
   "source": [
    "from sklearn.model_selection import train_test_split\n",
    "\n",
    "train_input, test_input, train_target, test_target = train_test_split(perch_length, perch_weight, random_state=42)\n",
    "# 훈련입력, 테스트 입력, 훈력 결과, 테스트 결과\n",
    "# random_state : 데이터를 섞는 시드\n",
    "\n",
    "print(train_input.shape, train_target.shape, test_input.shape, test_target.shape)"
   ]
  },
  {
   "cell_type": "code",
   "execution_count": 19,
   "metadata": {
    "pycharm": {
     "name": "#%%\n"
    }
   },
   "outputs": [
    {
     "data": {
      "image/png": "[encoded data removed]",
      "text/plain": [
       "<Figure size 432x288 with 1 Axes>"
      ]
     },
     "metadata": {
      "needs_background": "light"
     },
     "output_type": "display_data"
    }
   ],
   "source": [
    "plt.scatter(train_input, train_target)\n",
    "plt.scatter(test_input, test_target)\n",
    "\n",
    "plt.rc(\"font\", family=\"Malgun Gothic\")\n",
    "plt.xlabel(\"길이\")\n",
    "plt.ylabel(\"무게\")\n",
    "\n",
    "plt.show()"
   ]
  },
  {
   "cell_type": "code",
   "execution_count": 20,
   "metadata": {
    "pycharm": {
     "name": "#%%\n"
    }
   },
   "outputs": [
    {
     "data": {
      "text/plain": [
       "KNeighborsRegressor(algorithm='auto', leaf_size=30, metric='minkowski',\n",
       "                    metric_params=None, n_jobs=None, n_neighbors=5, p=2,\n",
       "                    weights='uniform')"
      ]
     },
     "execution_count": 20,
     "metadata": {},
     "output_type": "execute_result"
    }
   ],
   "source": [
    "model_knr = KNeighborsRegressor()\n",
    "model_knr.fit(train_input, train_target)"
   ]
  },
  {
   "cell_type": "code",
   "execution_count": 21,
   "metadata": {
    "pycharm": {
     "name": "#%%\n"
    }
   },
   "outputs": [
    {
     "data": {
      "image/png": "[encoded data removed]",
      "text/plain": [
       "<Figure size 432x288 with 1 Axes>"
      ]
     },
     "metadata": {
      "needs_background": "light"
     },
     "output_type": "display_data"
    }
   ],
   "source": [
    "x = np.arange(5, 45).reshape(-1, 1)\n",
    "\n",
    "plt.scatter(train_input, train_target)\n",
    "plt.scatter(test_input, test_target)\n",
    "plt.plot(x, model_knr.predict(x), \"r--\")\n",
    "\n",
    "plt.rc(\"font\", family=\"Malgun Gothic\")\n",
    "plt.xlabel(\"길이\")\n",
    "plt.ylabel(\"무게\")\n",
    "\n",
    "plt.show()"
   ]
  },
  {
   "cell_type": "code",
   "execution_count": 22,
   "metadata": {
    "pycharm": {
     "name": "#%%\n"
    }
   },
   "outputs": [
    {
     "name": "stdout",
     "output_type": "stream",
     "text": [
      "[[311.4]]\n"
     ]
    }
   ],
   "source": [
    "length_for_weight = [[30]]\n",
    "\n",
    "predict_weight = model_knr.predict(length_for_weight)\n",
    "\n",
    "print(predict_weight)"
   ]
  },
  {
   "cell_type": "code",
   "execution_count": 23,
   "metadata": {
    "pycharm": {
     "name": "#%%\n"
    }
   },
   "outputs": [
    {
     "name": "stdout",
     "output_type": "stream",
     "text": [
      "0.9928094061010639\n",
      "19.157142857142862\n"
     ]
    }
   ],
   "source": [
    "score_knr = model_knr.score(test_input, test_target)\n",
    "print(score_knr)\n",
    "\n",
    "score_mean = mean_absolute_error(test_target, model_knr.predict(test_input))\n",
    "print(score_mean)"
   ]
  },
  {
   "cell_type": "code",
   "execution_count": 24,
   "metadata": {
    "pycharm": {
     "name": "#%%\n"
    }
   },
   "outputs": [
    {
     "name": "stdout",
     "output_type": "stream",
     "text": [
      "0.9698823289099255\n",
      "0.9928094061010639\n"
     ]
    }
   ],
   "source": [
    "score_train = model_knr.score(train_input, train_target)\n",
    "print(score_train)\n",
    "\n",
    "score_test = model_knr.score(test_input, test_target)\n",
    "print(score_test)"
   ]
  },
  {
   "cell_type": "code",
   "execution_count": 25,
   "metadata": {
    "pycharm": {
     "name": "#%%\n"
    }
   },
   "outputs": [
    {
     "name": "stdout",
     "output_type": "stream",
     "text": [
      "0.9804899950518966\n",
      "0.974645996398761\n"
     ]
    }
   ],
   "source": [
    "model_knr3 = KNeighborsRegressor()\n",
    "model_knr3.n_neighbors = 3\n",
    "\n",
    "model_knr3.fit(train_input, train_target)\n",
    "\n",
    "score_train3 = model_knr3.score(train_input, train_target)\n",
    "print(score_train3)\n",
    "\n",
    "score_test3 = model_knr3.score(test_input, test_target)\n",
    "print(score_test3)"
   ]
  },
  {
   "cell_type": "code",
   "execution_count": 26,
   "metadata": {
    "pycharm": {
     "name": "#%%\n"
    }
   },
   "outputs": [
    {
     "data": {
      "image/png": "[encoded data removed]",
      "text/plain": [
       "<Figure size 432x288 with 1 Axes>"
      ]
     },
     "metadata": {
      "needs_background": "light"
     },
     "output_type": "display_data"
    }
   ],
   "source": [
    "x = np.arange(5, 45).reshape(-1, 1)\n",
    "\n",
    "plt.scatter(train_input, train_target)\n",
    "plt.scatter(test_input, test_target)\n",
    "plt.plot(x, model_knr3.predict(x), \"r--\")\n",
    "\n",
    "plt.rc(\"font\", family=\"Malgun Gothic\")\n",
    "plt.xlabel(\"길이\")\n",
    "plt.ylabel(\"무게\")\n",
    "\n",
    "plt.show()"
   ]
  },
  {
   "cell_type": "markdown",
   "metadata": {
    "pycharm": {
     "name": "#%% md\n"
    }
   },
   "source": [
    "# 0413 수업"
   ]
  },
  {
   "cell_type": "code",
   "execution_count": 27,
   "metadata": {
    "pycharm": {
     "name": "#%%\n"
    }
   },
   "outputs": [
    {
     "name": "stdout",
     "output_type": "stream",
     "text": [
      "[[1033.33333333]]\n",
      "[[1033.33333333]]\n"
     ]
    }
   ],
   "source": [
    "print(model_knr3.predict([[50]]))\n",
    "print(model_knr3.predict([[60]]))\n",
    "\n",
    "# k최근접 이웃 알고리즘의 한계점"
   ]
  },
  {
   "cell_type": "code",
   "execution_count": 28,
   "metadata": {
    "pycharm": {
     "name": "#%%\n"
    }
   },
   "outputs": [],
   "source": [
    "from sklearn.model_selection import train_test_split\n",
    "\n",
    "train_input, test_input, train_target, test_target = train_test_split(perch_length, perch_weight, random_state = 42)"
   ]
  },
  {
   "cell_type": "code",
   "execution_count": 29,
   "metadata": {
    "pycharm": {
     "name": "#%%\n"
    }
   },
   "outputs": [
    {
     "data": {
      "text/plain": [
       "LinearRegression(copy_X=True, fit_intercept=True, n_jobs=None, normalize=False)"
      ]
     },
     "execution_count": 29,
     "metadata": {},
     "output_type": "execute_result"
    }
   ],
   "source": [
    "from sklearn.linear_model import LinearRegression\n",
    "\n",
    "model_lr = LinearRegression()\n",
    "model_lr.fit(train_input, train_target)\n"
   ]
  },
  {
   "cell_type": "code",
   "execution_count": 30,
   "metadata": {
    "pycharm": {
     "name": "#%%\n"
    }
   },
   "outputs": [
    {
     "name": "stdout",
     "output_type": "stream",
     "text": [
      "[[1241.83860323]]\n",
      "[[1632.01005286]]\n"
     ]
    }
   ],
   "source": [
    "print(model_lr.predict([[50]]))\n",
    "print(model_lr.predict([[60]]))"
   ]
  },
  {
   "cell_type": "code",
   "execution_count": 31,
   "metadata": {
    "scrolled": true,
    "pycharm": {
     "name": "#%%\n"
    }
   },
   "outputs": [
    {
     "data": {
      "image/png": "[encoded data removed]",
      "text/plain": [
       "<Figure size 432x288 with 1 Axes>"
      ]
     },
     "metadata": {
      "needs_background": "light"
     },
     "output_type": "display_data"
    }
   ],
   "source": [
    "x = np.arange(15, 50).reshape(-1, 1)\n",
    "\n",
    "plt.scatter(train_input, train_target)\n",
    "plt.scatter(test_input, test_target)\n",
    "plt.plot(x, model_lr.predict(x), \"r--\")\n",
    "plt.plot(x, model_knr3.predict(x), \"b--\")\n",
    "\n",
    "plt.rc(\"font\", family=\"Malgun Gothic\")\n",
    "plt.xlabel(\"길이\")\n",
    "plt.ylabel(\"무게\")\n",
    "\n",
    "plt.show()"
   ]
  },
  {
   "cell_type": "code",
   "execution_count": 32,
   "metadata": {
    "pycharm": {
     "name": "#%%\n"
    }
   },
   "outputs": [
    {
     "name": "stdout",
     "output_type": "stream",
     "text": [
      "[[39.01714496]] [-709.01864495]\n",
      "모델이 나타내는 추세선의 기울기 : 39.0171449636302\n",
      "모델이 나타내는 추세선의 y절편 : -709.0186449535477\n",
      "모델이 나타내는 추세선 : y = 39.017145x -709.018645\n"
     ]
    }
   ],
   "source": [
    "a = model_lr.coef_ # 선형회귀 추세선의 기울기\n",
    "b = model_lr.intercept_ # 선형회귀 주세선의 y절편\n",
    "\n",
    "print(a, b)\n",
    "print(\"모델이 나타내는 추세선의 기울기 :\", a[0][0])\n",
    "print(\"모델이 나타내는 추세선의 y절편 :\", b[0])\n",
    "print(\"모델이 나타내는 추세선 : y = %fx %+f\" %(a[0][0], b[0]))"
   ]
  },
  {
   "cell_type": "code",
   "execution_count": 33,
   "metadata": {
    "pycharm": {
     "name": "#%%\n"
    }
   },
   "outputs": [
    {
     "name": "stdout",
     "output_type": "stream",
     "text": [
      "0.9398463339976039\n",
      "0.8247503123313558\n"
     ]
    }
   ],
   "source": [
    "score_train_lr = model_lr.score(train_input, train_target)\n",
    "print(score_train_lr)\n",
    "\n",
    "score_test_lr = model_lr.score(test_input, test_target)\n",
    "print(score_test_lr)"
   ]
  },
  {
   "cell_type": "markdown",
   "metadata": {
    "pycharm": {
     "name": "#%% md\n"
    }
   },
   "source": [
    "# 0414 수업"
   ]
  },
  {
   "cell_type": "code",
   "execution_count": 38,
   "metadata": {
    "pycharm": {
     "name": "#%%\n"
    }
   },
   "outputs": [
    {
     "name": "stdout",
     "output_type": "stream",
     "text": [
      "[[  19.6   384.16]\n",
      " [  22.    484.  ]\n",
      " [  18.7   349.69]\n",
      " [  17.4   302.76]\n",
      " [  36.   1296.  ]]\n",
      "(42, 2)\n",
      "[[  8.4   70.56]\n",
      " [ 18.   324.  ]\n",
      " [ 27.5  756.25]\n",
      " [ 21.3  453.69]\n",
      " [ 22.5  506.25]]\n",
      "(14, 2)\n"
     ]
    }
   ],
   "source": [
    "train_input_ploy = np.column_stack((train_input, train_input ** 2))\n",
    "# np.column_stack 함수는 nparray에 컬럼을 추가로 붙여준다.\n",
    "print(train_input_ploy[0:5])\n",
    "print(train_input_ploy.shape)\n",
    "\n",
    "\n",
    "test_input_ploy = np.column_stack((test_input, test_input ** 2))\n",
    "print(test_input_ploy[0:5])\n",
    "print(test_input_ploy.shape)"
   ]
  },
  {
   "cell_type": "code",
   "execution_count": 44,
   "metadata": {
    "pycharm": {
     "name": "#%%\n"
    }
   },
   "outputs": [
    {
     "name": "stdout",
     "output_type": "stream",
     "text": [
      "[[  19.6   384.16]\n",
      " [  22.    484.  ]\n",
      " [  18.7   349.69]\n",
      " [  17.4   302.76]\n",
      " [  36.   1296.  ]]\n",
      "(42, 2)\n",
      "[[  8.4   70.56]\n",
      " [ 18.   324.  ]\n",
      " [ 27.5  756.25]\n",
      " [ 21.3  453.69]\n",
      " [ 22.5  506.25]]\n",
      "(14, 2)\n"
     ]
    }
   ],
   "source": [
    "from sklearn.preprocessing import PolynomialFeatures\n",
    "\n",
    "# PolynomialFeatures는 자동으로 다항 데이터를 만들어준다.\n",
    "\n",
    "poly_d2 = PolynomialFeatures(degree=2, include_bias=False)\n",
    "train_poly = poly_d2.fit_transform(train_input)\n",
    "print(train_poly[0:5])\n",
    "print(train_poly.shape)\n",
    "\n",
    "\n",
    "test_poly = poly_d2.fit_transform(test_input)\n",
    "print(test_poly[0:5])\n",
    "print(test_poly.shape)"
   ]
  },
  {
   "cell_type": "code",
   "execution_count": 48,
   "metadata": {
    "pycharm": {
     "name": "#%%\n"
    }
   },
   "outputs": [
    {
     "name": "stdout",
     "output_type": "stream",
     "text": [
      "[[1573.98423528]]\n"
     ]
    }
   ],
   "source": [
    "model_lr_polt = LinearRegression()\n",
    "model_lr_polt.fit(train_poly, train_target)\n",
    "\n",
    "print(model_lr_polt.predict([[50, 50**2]]))"
   ]
  },
  {
   "cell_type": "code",
   "execution_count": 67,
   "metadata": {
    "pycharm": {
     "name": "#%%\n"
    }
   },
   "outputs": [
    {
     "data": {
      "image/png": "[encoded data removed]",
      "text/plain": [
       "<Figure size 432x288 with 1 Axes>"
      ]
     },
     "metadata": {
      "needs_background": "light"
     },
     "output_type": "display_data"
    }
   ],
   "source": [
    "x = np.arange(5, 45).reshape(-1, 1)\n",
    "x_ploy = poly_d2.fit_transform(x)\n",
    "\n",
    "plt.scatter(train_input, train_target)\n",
    "plt.scatter(test_input, test_target)\n",
    "plt.plot(x, model_lr_polt.predict(x_ploy), \"r--\")\n",
    "\n",
    "plt.rc(\"font\", family=\"Malgun Gothic\")\n",
    "plt.xlabel(\"길이\")\n",
    "plt.ylabel(\"무게\")\n",
    "\n",
    "plt.show()"
   ]
  },
  {
   "cell_type": "code",
   "execution_count": 78,
   "metadata": {
    "pycharm": {
     "name": "#%%\n"
    }
   },
   "outputs": [
    {
     "name": "stdout",
     "output_type": "stream",
     "text": [
      "[[-21.55792498   1.01433211]] [116.05021078]\n",
      "모델이 나타내는 추세선의 1차항 계수 : -21.557924978837402\n",
      "모델이 나타내는 추세선의 2차항 계수 : 1.0143321093767306\n",
      "모델이 나타내는 수세선의 절편 :  116.05021078278372\n",
      "모델이 나타내는 추세선 : y = +1.014332 x^2 -21.557925 x +116.050211\n"
     ]
    }
   ],
   "source": [
    "a_poly = model_lr_polt.coef_\n",
    "b_ploy = model_lr_polt.intercept_\n",
    "\n",
    "\n",
    "print(a_poly, b_ploy)\n",
    "print(\"모델이 나타내는 추세선의 1차항 계수 :\", a_poly[0][0])\n",
    "print(\"모델이 나타내는 추세선의 2차항 계수 :\", a_poly[0][1])\n",
    "print(\"모델이 나타내는 수세선의 절편 : \", b_ploy[0])\n",
    "print(\"모델이 나타내는 추세선 : y = %+f x^2 %+f x %+f\" % (a_poly[0][1], a_poly[0][0], b_ploy[0]) )"
   ]
  },
  {
   "cell_type": "code",
   "execution_count": 80,
   "metadata": {
    "pycharm": {
     "name": "#%%\n"
    }
   },
   "outputs": [
    {
     "name": "stdout",
     "output_type": "stream",
     "text": [
      "0.9706807451768623\n",
      "0.9775935108325123\n"
     ]
    }
   ],
   "source": [
    "score_train_lr_poly = model_lr_polt.score(train_poly, train_target)\n",
    "print(score_train_lr_poly)\n",
    "\n",
    "score_test_lr_poly = model_lr_polt.score(test_poly, test_target)\n",
    "print(score_test_lr_poly)"
   ]
  },
  {
   "cell_type": "code",
   "execution_count": null,
   "metadata": {
    "pycharm": {
     "name": "#%%\n"
    }
   },
   "outputs": [],
   "source": []
  }
 ],
 "metadata": {
  "kernelspec": {
   "display_name": "Python 3",
   "language": "python",
   "name": "python3"
  },
  "language_info": {
   "codemirror_mode": {
    "name": "ipython",
    "version": 3
   },
   "file_extension": ".py",
   "mimetype": "text/x-python",
   "name": "python",
   "nbconvert_exporter": "python",
   "pygments_lexer": "ipython3",
   "version": "3.7.6"
  }
 },
 "nbformat": 4,
 "nbformat_minor": 4
}