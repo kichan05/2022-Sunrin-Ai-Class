{
 "cells": [
  {
   "cell_type": "code",
   "execution_count": 121,
   "outputs": [
    {
     "name": "stdout",
     "output_type": "stream",
     "text": [
      "Hello World\n"
     ]
    }
   ],
   "source": [
    "import numpy as np\n",
    "import pandas as pd\n",
    "\n",
    "from sklearn.model_selection import train_test_split\n",
    "from sklearn.linear_model import LinearRegression\n",
    "from sklearn.neighbors import KNeighborsRegressor\n",
    "from sklearn.neighbors import KNeighborsClassifier\n",
    "from sklearn.preprocessing import PolynomialFeatures\n",
    "from sklearn.preprocessing import StandardScaler\n",
    "\n",
    "import pickle\n",
    "import joblib\n",
    "\n",
    "print(\"Hello World\")"
   ],
   "metadata": {
    "collapsed": false,
    "pycharm": {
     "name": "#%%\n"
    }
   }
  },
  {
   "cell_type": "code",
   "execution_count": 130,
   "outputs": [
    {
     "name": "stdout",
     "output_type": "stream",
     "text": [
      "['Bream' 'Roach' 'Whitefish' 'Parkki' 'Perch' 'Pike' 'Smelt']\n"
     ]
    }
   ],
   "source": [
    "print(pd.unique(fishData[\"Species\"]))"
   ],
   "metadata": {
    "collapsed": false,
    "pycharm": {
     "name": "#%%\n"
    }
   }
  },
  {
   "cell_type": "code",
   "execution_count": 3,
   "outputs": [
    {
     "data": {
      "text/plain": "    Species  Weight  Length   Height   Width\n0     Bream   242.0    25.4  11.5200  4.0200\n1     Bream   290.0    26.3  12.4800  4.3056\n2     Bream   340.0    26.5  12.3778  4.6961\n3     Bream   363.0    29.0  12.7300  4.4555\n4     Bream   430.0    29.0  12.4440  5.1340\n..      ...     ...     ...      ...     ...\n154   Smelt    12.2    12.2   2.0904  1.3936\n155   Smelt    13.4    12.4   2.4300  1.2690\n156   Smelt    12.2    13.0   2.2770  1.2558\n157   Smelt    19.7    14.3   2.8728  2.0672\n158   Smelt    19.9    15.0   2.9322  1.8792\n\n[159 rows x 5 columns]",
      "text/html": "<div>\n<style scoped>\n    .dataframe tbody tr th:only-of-type {\n        vertical-align: middle;\n    }\n\n    .dataframe tbody tr th {\n        vertical-align: top;\n    }\n\n    .dataframe thead th {\n        text-align: right;\n    }\n</style>\n<table border=\"1\" class=\"dataframe\">\n  <thead>\n    <tr style=\"text-align: right;\">\n      <th></th>\n      <th>Species</th>\n      <th>Weight</th>\n      <th>Length</th>\n      <th>Height</th>\n      <th>Width</th>\n    </tr>\n  </thead>\n  <tbody>\n    <tr>\n      <th>0</th>\n      <td>Bream</td>\n      <td>242.0</td>\n      <td>25.4</td>\n      <td>11.5200</td>\n      <td>4.0200</td>\n    </tr>\n    <tr>\n      <th>1</th>\n      <td>Bream</td>\n      <td>290.0</td>\n      <td>26.3</td>\n      <td>12.4800</td>\n      <td>4.3056</td>\n    </tr>\n    <tr>\n      <th>2</th>\n      <td>Bream</td>\n      <td>340.0</td>\n      <td>26.5</td>\n      <td>12.3778</td>\n      <td>4.6961</td>\n    </tr>\n    <tr>\n      <th>3</th>\n      <td>Bream</td>\n      <td>363.0</td>\n      <td>29.0</td>\n      <td>12.7300</td>\n      <td>4.4555</td>\n    </tr>\n    <tr>\n      <th>4</th>\n      <td>Bream</td>\n      <td>430.0</td>\n      <td>29.0</td>\n      <td>12.4440</td>\n      <td>5.1340</td>\n    </tr>\n    <tr>\n      <th>...</th>\n      <td>...</td>\n      <td>...</td>\n      <td>...</td>\n      <td>...</td>\n      <td>...</td>\n    </tr>\n    <tr>\n      <th>154</th>\n      <td>Smelt</td>\n      <td>12.2</td>\n      <td>12.2</td>\n      <td>2.0904</td>\n      <td>1.3936</td>\n    </tr>\n    <tr>\n      <th>155</th>\n      <td>Smelt</td>\n      <td>13.4</td>\n      <td>12.4</td>\n      <td>2.4300</td>\n      <td>1.2690</td>\n    </tr>\n    <tr>\n      <th>156</th>\n      <td>Smelt</td>\n      <td>12.2</td>\n      <td>13.0</td>\n      <td>2.2770</td>\n      <td>1.2558</td>\n    </tr>\n    <tr>\n      <th>157</th>\n      <td>Smelt</td>\n      <td>19.7</td>\n      <td>14.3</td>\n      <td>2.8728</td>\n      <td>2.0672</td>\n    </tr>\n    <tr>\n      <th>158</th>\n      <td>Smelt</td>\n      <td>19.9</td>\n      <td>15.0</td>\n      <td>2.9322</td>\n      <td>1.8792</td>\n    </tr>\n  </tbody>\n</table>\n<p>159 rows × 5 columns</p>\n</div>"
     },
     "execution_count": 3,
     "metadata": {},
     "output_type": "execute_result"
    }
   ],
   "source": [
    "fishData = pd.read_csv(\"./Fish.csv\")\n",
    "\n",
    "fishData"
   ],
   "metadata": {
    "collapsed": false,
    "pycharm": {
     "name": "#%%\n"
    }
   }
  },
  {
   "cell_type": "markdown",
   "source": [
    "# 농어의 무게"
   ],
   "metadata": {
    "collapsed": false,
    "pycharm": {
     "name": "#%% md\n"
    }
   }
  },
  {
   "cell_type": "code",
   "execution_count": 6,
   "outputs": [
    {
     "data": {
      "text/plain": "    Species  Weight  Length   Height   Width\n72    Perch     5.9     8.4   2.1120  1.4080\n73    Perch    32.0    13.7   3.5280  1.9992\n74    Perch    40.0    15.0   3.8240  2.4320\n75    Perch    51.5    16.2   4.5924  2.6316\n76    Perch    70.0    17.4   4.5880  2.9415\n77    Perch   100.0    18.0   5.2224  3.3216\n78    Perch    78.0    18.7   5.1992  3.1234\n79    Perch    80.0    19.0   5.6358  3.0502\n80    Perch    85.0    19.6   5.1376  3.0368\n81    Perch    85.0    20.0   5.0820  2.7720\n82    Perch   110.0    21.0   5.6925  3.5550\n83    Perch   115.0    21.0   5.9175  3.3075\n84    Perch   125.0    21.0   5.6925  3.6675\n85    Perch   130.0    21.3   6.3840  3.5340\n86    Perch   120.0    22.0   6.1100  3.4075\n87    Perch   120.0    22.0   5.6400  3.5250\n88    Perch   130.0    22.0   6.1100  3.5250\n89    Perch   135.0    22.0   5.8750  3.5250\n90    Perch   110.0    22.0   5.5225  3.9950\n91    Perch   130.0    22.5   5.8560  3.6240\n92    Perch   150.0    22.5   6.7920  3.6240\n93    Perch   145.0    22.7   5.9532  3.6300\n94    Perch   150.0    23.0   5.2185  3.6260\n95    Perch   170.0    23.5   6.2750  3.7250\n96    Perch   225.0    24.0   7.2930  3.7230\n97    Perch   145.0    24.0   6.3750  3.8250\n98    Perch   188.0    24.6   6.7334  4.1658\n99    Perch   180.0    25.0   6.4395  3.6835\n100   Perch   197.0    25.6   6.5610  4.2390\n101   Perch   218.0    26.5   7.1680  4.1440\n102   Perch   300.0    27.3   8.3230  5.1373\n103   Perch   260.0    27.5   7.1672  4.3350\n104   Perch   265.0    27.5   7.0516  4.3350\n105   Perch   250.0    27.5   7.2828  4.5662\n106   Perch   250.0    28.0   7.8204  4.2042\n107   Perch   300.0    28.7   7.5852  4.6354\n108   Perch   320.0    30.0   7.6156  4.7716\n109   Perch   514.0    32.8  10.0300  6.0180\n110   Perch   556.0    34.5  10.2565  6.3875\n111   Perch   840.0    35.0  11.4884  7.7957\n112   Perch   685.0    36.5  10.8810  6.8640\n113   Perch   700.0    36.0  10.6091  6.7408\n114   Perch   700.0    37.0  10.8350  6.2646\n115   Perch   690.0    37.0  10.5717  6.3666\n116   Perch   900.0    39.0  11.1366  7.4934\n117   Perch   650.0    39.0  11.1366  6.0030\n118   Perch   820.0    39.0  12.4313  7.3514\n119   Perch   850.0    40.0  11.9286  7.1064\n120   Perch   900.0    40.0  11.7300  7.2250\n121   Perch  1015.0    40.0  12.3808  7.4624\n122   Perch   820.0    40.0  11.1350  6.6300\n123   Perch  1100.0    42.0  12.8002  6.8684\n124   Perch  1000.0    43.0  11.9328  7.2772\n125   Perch  1100.0    43.0  12.5125  7.4165\n126   Perch  1000.0    43.5  12.6040  8.1420\n127   Perch  1000.0    44.0  12.4888  7.5958",
      "text/html": "<div>\n<style scoped>\n    .dataframe tbody tr th:only-of-type {\n        vertical-align: middle;\n    }\n\n    .dataframe tbody tr th {\n        vertical-align: top;\n    }\n\n    .dataframe thead th {\n        text-align: right;\n    }\n</style>\n<table border=\"1\" class=\"dataframe\">\n  <thead>\n    <tr style=\"text-align: right;\">\n      <th></th>\n      <th>Species</th>\n      <th>Weight</th>\n      <th>Length</th>\n      <th>Height</th>\n      <th>Width</th>\n    </tr>\n  </thead>\n  <tbody>\n    <tr>\n      <th>72</th>\n      <td>Perch</td>\n      <td>5.9</td>\n      <td>8.4</td>\n      <td>2.1120</td>\n      <td>1.4080</td>\n    </tr>\n    <tr>\n      <th>73</th>\n      <td>Perch</td>\n      <td>32.0</td>\n      <td>13.7</td>\n      <td>3.5280</td>\n      <td>1.9992</td>\n    </tr>\n    <tr>\n      <th>74</th>\n      <td>Perch</td>\n      <td>40.0</td>\n      <td>15.0</td>\n      <td>3.8240</td>\n      <td>2.4320</td>\n    </tr>\n    <tr>\n      <th>75</th>\n      <td>Perch</td>\n      <td>51.5</td>\n      <td>16.2</td>\n      <td>4.5924</td>\n      <td>2.6316</td>\n    </tr>\n    <tr>\n      <th>76</th>\n      <td>Perch</td>\n      <td>70.0</td>\n      <td>17.4</td>\n      <td>4.5880</td>\n      <td>2.9415</td>\n    </tr>\n    <tr>\n      <th>77</th>\n      <td>Perch</td>\n      <td>100.0</td>\n      <td>18.0</td>\n      <td>5.2224</td>\n      <td>3.3216</td>\n    </tr>\n    <tr>\n      <th>78</th>\n      <td>Perch</td>\n      <td>78.0</td>\n      <td>18.7</td>\n      <td>5.1992</td>\n      <td>3.1234</td>\n    </tr>\n    <tr>\n      <th>79</th>\n      <td>Perch</td>\n      <td>80.0</td>\n      <td>19.0</td>\n      <td>5.6358</td>\n      <td>3.0502</td>\n    </tr>\n    <tr>\n      <th>80</th>\n      <td>Perch</td>\n      <td>85.0</td>\n      <td>19.6</td>\n      <td>5.1376</td>\n      <td>3.0368</td>\n    </tr>\n    <tr>\n      <th>81</th>\n      <td>Perch</td>\n      <td>85.0</td>\n      <td>20.0</td>\n      <td>5.0820</td>\n      <td>2.7720</td>\n    </tr>\n    <tr>\n      <th>82</th>\n      <td>Perch</td>\n      <td>110.0</td>\n      <td>21.0</td>\n      <td>5.6925</td>\n      <td>3.5550</td>\n    </tr>\n    <tr>\n      <th>83</th>\n      <td>Perch</td>\n      <td>115.0</td>\n      <td>21.0</td>\n      <td>5.9175</td>\n      <td>3.3075</td>\n    </tr>\n    <tr>\n      <th>84</th>\n      <td>Perch</td>\n      <td>125.0</td>\n      <td>21.0</td>\n      <td>5.6925</td>\n      <td>3.6675</td>\n    </tr>\n    <tr>\n      <th>85</th>\n      <td>Perch</td>\n      <td>130.0</td>\n      <td>21.3</td>\n      <td>6.3840</td>\n      <td>3.5340</td>\n    </tr>\n    <tr>\n      <th>86</th>\n      <td>Perch</td>\n      <td>120.0</td>\n      <td>22.0</td>\n      <td>6.1100</td>\n      <td>3.4075</td>\n    </tr>\n    <tr>\n      <th>87</th>\n      <td>Perch</td>\n      <td>120.0</td>\n      <td>22.0</td>\n      <td>5.6400</td>\n      <td>3.5250</td>\n    </tr>\n    <tr>\n      <th>88</th>\n      <td>Perch</td>\n      <td>130.0</td>\n      <td>22.0</td>\n      <td>6.1100</td>\n      <td>3.5250</td>\n    </tr>\n    <tr>\n      <th>89</th>\n      <td>Perch</td>\n      <td>135.0</td>\n      <td>22.0</td>\n      <td>5.8750</td>\n      <td>3.5250</td>\n    </tr>\n    <tr>\n      <th>90</th>\n      <td>Perch</td>\n      <td>110.0</td>\n      <td>22.0</td>\n      <td>5.5225</td>\n      <td>3.9950</td>\n    </tr>\n    <tr>\n      <th>91</th>\n      <td>Perch</td>\n      <td>130.0</td>\n      <td>22.5</td>\n      <td>5.8560</td>\n      <td>3.6240</td>\n    </tr>\n    <tr>\n      <th>92</th>\n      <td>Perch</td>\n      <td>150.0</td>\n      <td>22.5</td>\n      <td>6.7920</td>\n      <td>3.6240</td>\n    </tr>\n    <tr>\n      <th>93</th>\n      <td>Perch</td>\n      <td>145.0</td>\n      <td>22.7</td>\n      <td>5.9532</td>\n      <td>3.6300</td>\n    </tr>\n    <tr>\n      <th>94</th>\n      <td>Perch</td>\n      <td>150.0</td>\n      <td>23.0</td>\n      <td>5.2185</td>\n      <td>3.6260</td>\n    </tr>\n    <tr>\n      <th>95</th>\n      <td>Perch</td>\n      <td>170.0</td>\n      <td>23.5</td>\n      <td>6.2750</td>\n      <td>3.7250</td>\n    </tr>\n    <tr>\n      <th>96</th>\n      <td>Perch</td>\n      <td>225.0</td>\n      <td>24.0</td>\n      <td>7.2930</td>\n      <td>3.7230</td>\n    </tr>\n    <tr>\n      <th>97</th>\n      <td>Perch</td>\n      <td>145.0</td>\n      <td>24.0</td>\n      <td>6.3750</td>\n      <td>3.8250</td>\n    </tr>\n    <tr>\n      <th>98</th>\n      <td>Perch</td>\n      <td>188.0</td>\n      <td>24.6</td>\n      <td>6.7334</td>\n      <td>4.1658</td>\n    </tr>\n    <tr>\n      <th>99</th>\n      <td>Perch</td>\n      <td>180.0</td>\n      <td>25.0</td>\n      <td>6.4395</td>\n      <td>3.6835</td>\n    </tr>\n    <tr>\n      <th>100</th>\n      <td>Perch</td>\n      <td>197.0</td>\n      <td>25.6</td>\n      <td>6.5610</td>\n      <td>4.2390</td>\n    </tr>\n    <tr>\n      <th>101</th>\n      <td>Perch</td>\n      <td>218.0</td>\n      <td>26.5</td>\n      <td>7.1680</td>\n      <td>4.1440</td>\n    </tr>\n    <tr>\n      <th>102</th>\n      <td>Perch</td>\n      <td>300.0</td>\n      <td>27.3</td>\n      <td>8.3230</td>\n      <td>5.1373</td>\n    </tr>\n    <tr>\n      <th>103</th>\n      <td>Perch</td>\n      <td>260.0</td>\n      <td>27.5</td>\n      <td>7.1672</td>\n      <td>4.3350</td>\n    </tr>\n    <tr>\n      <th>104</th>\n      <td>Perch</td>\n      <td>265.0</td>\n      <td>27.5</td>\n      <td>7.0516</td>\n      <td>4.3350</td>\n    </tr>\n    <tr>\n      <th>105</th>\n      <td>Perch</td>\n      <td>250.0</td>\n      <td>27.5</td>\n      <td>7.2828</td>\n      <td>4.5662</td>\n    </tr>\n    <tr>\n      <th>106</th>\n      <td>Perch</td>\n      <td>250.0</td>\n      <td>28.0</td>\n      <td>7.8204</td>\n      <td>4.2042</td>\n    </tr>\n    <tr>\n      <th>107</th>\n      <td>Perch</td>\n      <td>300.0</td>\n      <td>28.7</td>\n      <td>7.5852</td>\n      <td>4.6354</td>\n    </tr>\n    <tr>\n      <th>108</th>\n      <td>Perch</td>\n      <td>320.0</td>\n      <td>30.0</td>\n      <td>7.6156</td>\n      <td>4.7716</td>\n    </tr>\n    <tr>\n      <th>109</th>\n      <td>Perch</td>\n      <td>514.0</td>\n      <td>32.8</td>\n      <td>10.0300</td>\n      <td>6.0180</td>\n    </tr>\n    <tr>\n      <th>110</th>\n      <td>Perch</td>\n      <td>556.0</td>\n      <td>34.5</td>\n      <td>10.2565</td>\n      <td>6.3875</td>\n    </tr>\n    <tr>\n      <th>111</th>\n      <td>Perch</td>\n      <td>840.0</td>\n      <td>35.0</td>\n      <td>11.4884</td>\n      <td>7.7957</td>\n    </tr>\n    <tr>\n      <th>112</th>\n      <td>Perch</td>\n      <td>685.0</td>\n      <td>36.5</td>\n      <td>10.8810</td>\n      <td>6.8640</td>\n    </tr>\n    <tr>\n      <th>113</th>\n      <td>Perch</td>\n      <td>700.0</td>\n      <td>36.0</td>\n      <td>10.6091</td>\n      <td>6.7408</td>\n    </tr>\n    <tr>\n      <th>114</th>\n      <td>Perch</td>\n      <td>700.0</td>\n      <td>37.0</td>\n      <td>10.8350</td>\n      <td>6.2646</td>\n    </tr>\n    <tr>\n      <th>115</th>\n      <td>Perch</td>\n      <td>690.0</td>\n      <td>37.0</td>\n      <td>10.5717</td>\n      <td>6.3666</td>\n    </tr>\n    <tr>\n      <th>116</th>\n      <td>Perch</td>\n      <td>900.0</td>\n      <td>39.0</td>\n      <td>11.1366</td>\n      <td>7.4934</td>\n    </tr>\n    <tr>\n      <th>117</th>\n      <td>Perch</td>\n      <td>650.0</td>\n      <td>39.0</td>\n      <td>11.1366</td>\n      <td>6.0030</td>\n    </tr>\n    <tr>\n      <th>118</th>\n      <td>Perch</td>\n      <td>820.0</td>\n      <td>39.0</td>\n      <td>12.4313</td>\n      <td>7.3514</td>\n    </tr>\n    <tr>\n      <th>119</th>\n      <td>Perch</td>\n      <td>850.0</td>\n      <td>40.0</td>\n      <td>11.9286</td>\n      <td>7.1064</td>\n    </tr>\n    <tr>\n      <th>120</th>\n      <td>Perch</td>\n      <td>900.0</td>\n      <td>40.0</td>\n      <td>11.7300</td>\n      <td>7.2250</td>\n    </tr>\n    <tr>\n      <th>121</th>\n      <td>Perch</td>\n      <td>1015.0</td>\n      <td>40.0</td>\n      <td>12.3808</td>\n      <td>7.4624</td>\n    </tr>\n    <tr>\n      <th>122</th>\n      <td>Perch</td>\n      <td>820.0</td>\n      <td>40.0</td>\n      <td>11.1350</td>\n      <td>6.6300</td>\n    </tr>\n    <tr>\n      <th>123</th>\n      <td>Perch</td>\n      <td>1100.0</td>\n      <td>42.0</td>\n      <td>12.8002</td>\n      <td>6.8684</td>\n    </tr>\n    <tr>\n      <th>124</th>\n      <td>Perch</td>\n      <td>1000.0</td>\n      <td>43.0</td>\n      <td>11.9328</td>\n      <td>7.2772</td>\n    </tr>\n    <tr>\n      <th>125</th>\n      <td>Perch</td>\n      <td>1100.0</td>\n      <td>43.0</td>\n      <td>12.5125</td>\n      <td>7.4165</td>\n    </tr>\n    <tr>\n      <th>126</th>\n      <td>Perch</td>\n      <td>1000.0</td>\n      <td>43.5</td>\n      <td>12.6040</td>\n      <td>8.1420</td>\n    </tr>\n    <tr>\n      <th>127</th>\n      <td>Perch</td>\n      <td>1000.0</td>\n      <td>44.0</td>\n      <td>12.4888</td>\n      <td>7.5958</td>\n    </tr>\n  </tbody>\n</table>\n</div>"
     },
     "execution_count": 6,
     "metadata": {},
     "output_type": "execute_result"
    }
   ],
   "source": [
    "fishPerch = fishData[fishData[\"Species\"] == \"Perch\"]\n",
    "\n",
    "fishPerch"
   ],
   "metadata": {
    "collapsed": false,
    "pycharm": {
     "name": "#%%\n"
    }
   }
  },
  {
   "cell_type": "code",
   "execution_count": 32,
   "outputs": [],
   "source": [
    "perchLength = fishPerch[\"Length\"].to_numpy()\n",
    "perchLength = perchLength.reshape(-1, 1)\n",
    "\n",
    "perchWeight = fishPerch[\"Weight\"].to_numpy()\n",
    "perchWeight = perchWeight.reshape(-1, 1)\n",
    "\n",
    "perchTrainInput, perchTestInput, perchTrainTarget, perchTestTarget = train_test_split(perchLength, perchWeight, random_state=42)"
   ],
   "metadata": {
    "collapsed": false,
    "pycharm": {
     "name": "#%%\n"
    }
   }
  },
  {
   "cell_type": "code",
   "execution_count": 33,
   "outputs": [
    {
     "data": {
      "text/plain": "array([[  19.6 ,  384.16],\n       [  22.  ,  484.  ],\n       [  18.7 ,  349.69],\n       [  17.4 ,  302.76],\n       [  36.  , 1296.  ],\n       [  25.  ,  625.  ],\n       [  40.  , 1600.  ],\n       [  39.  , 1521.  ],\n       [  43.  , 1849.  ],\n       [  22.  ,  484.  ],\n       [  20.  ,  400.  ],\n       [  22.  ,  484.  ],\n       [  24.  ,  576.  ],\n       [  27.5 ,  756.25],\n       [  43.  , 1849.  ],\n       [  40.  , 1600.  ],\n       [  24.  ,  576.  ],\n       [  21.  ,  441.  ],\n       [  27.5 ,  756.25],\n       [  40.  , 1600.  ],\n       [  32.8 , 1075.84],\n       [  26.5 ,  702.25],\n       [  36.5 , 1332.25],\n       [  13.7 ,  187.69],\n       [  22.7 ,  515.29],\n       [  15.  ,  225.  ],\n       [  37.  , 1369.  ],\n       [  35.  , 1225.  ],\n       [  28.7 ,  823.69],\n       [  23.5 ,  552.25],\n       [  39.  , 1521.  ],\n       [  21.  ,  441.  ],\n       [  23.  ,  529.  ],\n       [  22.  ,  484.  ],\n       [  44.  , 1936.  ],\n       [  22.5 ,  506.25],\n       [  19.  ,  361.  ],\n       [  37.  , 1369.  ],\n       [  22.  ,  484.  ],\n       [  25.6 ,  655.36],\n       [  42.  , 1764.  ],\n       [  34.5 , 1190.25]])"
     },
     "execution_count": 33,
     "metadata": {},
     "output_type": "execute_result"
    }
   ],
   "source": [
    "polyD2 = PolynomialFeatures(degree=2, include_bias=False)\n",
    "\n",
    "perchTrainInput = polyD2.fit_transform(perchTrainInput)\n",
    "perchTestInput = polyD2.fit_transform(perchTestInput)\n",
    "perchTrainInput"
   ],
   "metadata": {
    "collapsed": false,
    "pycharm": {
     "name": "#%%\n"
    }
   }
  },
  {
   "cell_type": "code",
   "execution_count": 34,
   "outputs": [
    {
     "data": {
      "text/plain": "(LinearRegression(),)"
     },
     "execution_count": 34,
     "metadata": {},
     "output_type": "execute_result"
    }
   ],
   "source": [
    "perchModel = LinearRegression()\n",
    "perchModel.fit(perchTrainInput, perchTrainTarget),"
   ],
   "metadata": {
    "collapsed": false,
    "pycharm": {
     "name": "#%%\n"
    }
   }
  },
  {
   "cell_type": "code",
   "execution_count": 38,
   "outputs": [
    {
     "data": {
      "text/plain": "array([[2474.17030581]])"
     },
     "execution_count": 38,
     "metadata": {},
     "output_type": "execute_result"
    }
   ],
   "source": [
    "perchModel.predict([[60, 60 ** 2]])"
   ],
   "metadata": {
    "collapsed": false,
    "pycharm": {
     "name": "#%%\n"
    }
   }
  },
  {
   "cell_type": "code",
   "execution_count": 36,
   "outputs": [
    {
     "data": {
      "text/plain": "0.9775935108325123"
     },
     "execution_count": 36,
     "metadata": {},
     "output_type": "execute_result"
    }
   ],
   "source": [
    "perchModel.score(perchTestInput, perchTestTarget)"
   ],
   "metadata": {
    "collapsed": false,
    "pycharm": {
     "name": "#%%\n"
    }
   }
  },
  {
   "cell_type": "code",
   "execution_count": 37,
   "outputs": [
    {
     "name": "stdout",
     "output_type": "stream",
     "text": [
      "End\n"
     ]
    }
   ],
   "source": [
    "modelFile = open(\"./fishMarketPerchModel.pkl\", \"wb\")\n",
    "pickle.dump(perchModel, modelFile)\n",
    "\n",
    "modelFile.close()\n",
    "\n",
    "print(\"End\")"
   ],
   "metadata": {
    "collapsed": false,
    "pycharm": {
     "name": "#%%\n"
    }
   }
  },
  {
   "cell_type": "markdown",
   "source": [
    "# 도미인지 방어인지..?"
   ],
   "metadata": {
    "collapsed": false,
    "pycharm": {
     "name": "#%% md\n"
    }
   }
  },
  {
   "cell_type": "code",
   "execution_count": 55,
   "outputs": [],
   "source": [
    "# 도미 데이터\n",
    "fishBream = fishData[fishData[\"Species\"] == \"Bream\"]\n",
    "breamLength = fishBream[\"Length\"].to_numpy()\n",
    "breamLength = breamLength.reshape(-1, 1)\n",
    "\n",
    "breamWeight = fishBream[\"Weight\"].to_numpy()\n",
    "breamWeight = breamWeight.reshape(-1, 1)"
   ],
   "metadata": {
    "collapsed": false,
    "pycharm": {
     "name": "#%%\n"
    }
   }
  },
  {
   "cell_type": "code",
   "execution_count": 56,
   "outputs": [
    {
     "data": {
      "text/plain": "array([[ 6.7],\n       [ 7.5],\n       [ 7. ],\n       [ 9.7],\n       [ 9.8],\n       [ 8.7],\n       [10. ],\n       [ 9.9],\n       [ 9.8],\n       [12.2],\n       [13.4],\n       [12.2],\n       [19.7],\n       [19.9]])"
     },
     "execution_count": 56,
     "metadata": {},
     "output_type": "execute_result"
    }
   ],
   "source": [
    "# 빙어 데이터\n",
    "fishSmelt = fishData[fishData[\"Species\"] == \"Smelt\"]\n",
    "\n",
    "smeltLength = fishSmelt[\"Length\"].to_numpy()\n",
    "smeltLength = smeltLength.reshape(-1, 1)\n",
    "\n",
    "smeltWeight = fishSmelt[\"Weight\"].to_numpy()\n",
    "smeltWeight = smeltWeight.reshape(-1, 1)\n",
    "\n",
    "smeltWeight"
   ],
   "metadata": {
    "collapsed": false,
    "pycharm": {
     "name": "#%%\n"
    }
   }
  },
  {
   "cell_type": "code",
   "execution_count": 61,
   "outputs": [
    {
     "name": "stdout",
     "output_type": "stream",
     "text": [
      "(49, 1)\n"
     ]
    },
    {
     "data": {
      "text/plain": "array([[25.4],\n       [26.3],\n       [26.5],\n       [29. ],\n       [29. ],\n       [29.7],\n       [29.7],\n       [30. ],\n       [30. ],\n       [30.7],\n       [31. ],\n       [31. ],\n       [31.5],\n       [32. ],\n       [32. ],\n       [32. ],\n       [33. ],\n       [33. ],\n       [33.5],\n       [33.5],\n       [34. ],\n       [34. ],\n       [34.5],\n       [35. ],\n       [35. ],\n       [35. ],\n       [35. ],\n       [36. ],\n       [36. ],\n       [37. ],\n       [38.5],\n       [38.5],\n       [39.5],\n       [41. ],\n       [41. ],\n       [ 9.8],\n       [10.5],\n       [10.6],\n       [11. ],\n       [11.2],\n       [11.3],\n       [11.8],\n       [11.8],\n       [12. ],\n       [12.2],\n       [12.4],\n       [13. ],\n       [14.3],\n       [15. ]])"
     },
     "execution_count": 61,
     "metadata": {},
     "output_type": "execute_result"
    }
   ],
   "source": [
    "lengthBreamSmelt = np.concatenate([breamLength, smeltLength], axis = 0)\n",
    "print(lengthBreamSmelt.shape)\n",
    "\n",
    "lengthBreamSmelt"
   ],
   "metadata": {
    "collapsed": false,
    "pycharm": {
     "name": "#%%\n"
    }
   }
  },
  {
   "cell_type": "markdown",
   "source": [],
   "metadata": {
    "collapsed": false,
    "pycharm": {
     "name": "#%% md\n"
    }
   }
  },
  {
   "cell_type": "code",
   "execution_count": 62,
   "outputs": [
    {
     "name": "stdout",
     "output_type": "stream",
     "text": [
      "(49, 1)\n"
     ]
    },
    {
     "data": {
      "text/plain": "array([[ 242. ],\n       [ 290. ],\n       [ 340. ],\n       [ 363. ],\n       [ 430. ],\n       [ 450. ],\n       [ 500. ],\n       [ 390. ],\n       [ 450. ],\n       [ 500. ],\n       [ 475. ],\n       [ 500. ],\n       [ 500. ],\n       [ 340. ],\n       [ 600. ],\n       [ 600. ],\n       [ 700. ],\n       [ 700. ],\n       [ 610. ],\n       [ 650. ],\n       [ 575. ],\n       [ 685. ],\n       [ 620. ],\n       [ 680. ],\n       [ 700. ],\n       [ 725. ],\n       [ 720. ],\n       [ 714. ],\n       [ 850. ],\n       [1000. ],\n       [ 920. ],\n       [ 955. ],\n       [ 925. ],\n       [ 975. ],\n       [ 950. ],\n       [   6.7],\n       [   7.5],\n       [   7. ],\n       [   9.7],\n       [   9.8],\n       [   8.7],\n       [  10. ],\n       [   9.9],\n       [   9.8],\n       [  12.2],\n       [  13.4],\n       [  12.2],\n       [  19.7],\n       [  19.9]])"
     },
     "execution_count": 62,
     "metadata": {},
     "output_type": "execute_result"
    }
   ],
   "source": [
    "weightBreamSmelt = np.concatenate([breamWeight, breamWeight], axis=0)\n",
    "print(weightBreamSmelt.shape)\n",
    "\n",
    "weightBreamSmelt"
   ],
   "metadata": {
    "collapsed": false,
    "pycharm": {
     "name": "#%%\n"
    }
   }
  },
  {
   "cell_type": "code",
   "execution_count": 65,
   "outputs": [
    {
     "data": {
      "text/plain": "array([[  25.4,  242. ],\n       [  26.3,  290. ],\n       [  26.5,  340. ],\n       [  29. ,  363. ],\n       [  29. ,  430. ],\n       [  29.7,  450. ],\n       [  29.7,  500. ],\n       [  30. ,  390. ],\n       [  30. ,  450. ],\n       [  30.7,  500. ],\n       [  31. ,  475. ],\n       [  31. ,  500. ],\n       [  31.5,  500. ],\n       [  32. ,  340. ],\n       [  32. ,  600. ],\n       [  32. ,  600. ],\n       [  33. ,  700. ],\n       [  33. ,  700. ],\n       [  33.5,  610. ],\n       [  33.5,  650. ],\n       [  34. ,  575. ],\n       [  34. ,  685. ],\n       [  34.5,  620. ],\n       [  35. ,  680. ],\n       [  35. ,  700. ],\n       [  35. ,  725. ],\n       [  35. ,  720. ],\n       [  36. ,  714. ],\n       [  36. ,  850. ],\n       [  37. , 1000. ],\n       [  38.5,  920. ],\n       [  38.5,  955. ],\n       [  39.5,  925. ],\n       [  41. ,  975. ],\n       [  41. ,  950. ],\n       [   9.8,    6.7],\n       [  10.5,    7.5],\n       [  10.6,    7. ],\n       [  11. ,    9.7],\n       [  11.2,    9.8],\n       [  11.3,    8.7],\n       [  11.8,   10. ],\n       [  11.8,    9.9],\n       [  12. ,    9.8],\n       [  12.2,   12.2],\n       [  12.4,   13.4],\n       [  13. ,   12.2],\n       [  14.3,   19.7],\n       [  15. ,   19.9]])"
     },
     "execution_count": 65,
     "metadata": {},
     "output_type": "execute_result"
    }
   ],
   "source": [
    "data_input = np.concatenate([lengthBreamSmelt, weightBreamSmelt], axis=1)\n",
    "data_input"
   ],
   "metadata": {
    "collapsed": false,
    "pycharm": {
     "name": "#%%\n"
    }
   }
  },
  {
   "cell_type": "code",
   "execution_count": 83,
   "outputs": [],
   "source": [
    "scalerStd = StandardScaler()\n",
    "scalerStd.fit(data_input)\n",
    "\n",
    "data_input = scalerStd.transform(data_input)"
   ],
   "metadata": {
    "collapsed": false,
    "pycharm": {
     "name": "#%%\n"
    }
   }
  },
  {
   "cell_type": "code",
   "execution_count": 84,
   "outputs": [
    {
     "name": "stdout",
     "output_type": "stream",
     "text": [
      "(49,)\n"
     ]
    }
   ],
   "source": [
    "targetBream = np.ones(35)\n",
    "targetSmelt = np.zeros(14)\n",
    "\n",
    "data_target = np.concatenate([targetBream, targetSmelt])\n",
    "print(data_target.shape)"
   ],
   "metadata": {
    "collapsed": false,
    "pycharm": {
     "name": "#%%\n"
    }
   }
  },
  {
   "cell_type": "code",
   "execution_count": 85,
   "outputs": [
    {
     "name": "stdout",
     "output_type": "stream",
     "text": [
      "[1. 0. 1. 0. 1. 1. 1. 1. 1. 1. 1. 0. 1. 0. 1. 1. 1. 1. 1. 0. 1. 1. 0. 1.\n",
      " 0. 1. 0. 1. 1. 1. 0. 1. 1. 0. 1. 1.]\n",
      "[0. 0. 1. 0. 1. 0. 1. 1. 1. 1. 1. 1. 1.]\n"
     ]
    }
   ],
   "source": [
    "trainInput, testInput, trainTarget, testTarget = train_test_split(data_input, data_target, stratify=data_target, random_state=42)\n",
    "\n",
    "print(trainTarget)\n",
    "print(testTarget)"
   ],
   "metadata": {
    "collapsed": false,
    "pycharm": {
     "name": "#%%\n"
    }
   }
  },
  {
   "cell_type": "code",
   "execution_count": 86,
   "outputs": [
    {
     "data": {
      "text/plain": "KNeighborsRegressor()"
     },
     "execution_count": 86,
     "metadata": {},
     "output_type": "execute_result"
    }
   ],
   "source": [
    "breamSmeltModel = KNeighborsRegressor()\n",
    "breamSmeltModel.fit(trainInput, trainTarget)"
   ],
   "metadata": {
    "collapsed": false,
    "pycharm": {
     "name": "#%%\n"
    }
   }
  },
  {
   "cell_type": "code",
   "execution_count": 92,
   "outputs": [
    {
     "data": {
      "text/plain": "array([[21, 14, 34, 32,  5]], dtype=int64)"
     },
     "execution_count": 92,
     "metadata": {},
     "output_type": "execute_result"
    }
   ],
   "source": [
    "input = scalerStd.transform([[25, 150]])\n",
    "breamSmeltModel.kneighbors(input, return_distance=False)"
   ],
   "metadata": {
    "collapsed": false,
    "pycharm": {
     "name": "#%%\n"
    }
   }
  },
  {
   "cell_type": "code",
   "execution_count": 93,
   "outputs": [
    {
     "data": {
      "text/plain": "1.0"
     },
     "execution_count": 93,
     "metadata": {},
     "output_type": "execute_result"
    }
   ],
   "source": [
    "breamSmeltModel.score(testInput, testTarget)"
   ],
   "metadata": {
    "collapsed": false,
    "pycharm": {
     "name": "#%%\n"
    }
   }
  },
  {
   "cell_type": "code",
   "execution_count": 94,
   "outputs": [
    {
     "name": "stdout",
     "output_type": "stream",
     "text": [
      "End\n"
     ]
    }
   ],
   "source": [
    "modelFile = open(\"./fishMarketBreamSmeltModel.pkl\", \"wb\")\n",
    "pickle.dump(breamSmeltModel, modelFile)\n",
    "\n",
    "modelFile.close()\n",
    "\n",
    "print(\"End\")"
   ],
   "metadata": {
    "collapsed": false,
    "pycharm": {
     "name": "#%%\n"
    }
   }
  },
  {
   "cell_type": "code",
   "execution_count": 95,
   "outputs": [
    {
     "name": "stdout",
     "output_type": "stream",
     "text": [
      "End\n"
     ]
    }
   ],
   "source": [
    "modelFile = open(\"./fishMarketBreamSmeltScaled.pkl\", \"wb\")\n",
    "pickle.dump(scalerStd, modelFile)\n",
    "modelFile.close()\n",
    "\n",
    "print(\"End\")"
   ],
   "metadata": {
    "collapsed": false,
    "pycharm": {
     "name": "#%%\n"
    }
   }
  },
  {
   "cell_type": "markdown",
   "source": [
    "# 전체 물고기 분류"
   ],
   "metadata": {
    "collapsed": false,
    "pycharm": {
     "name": "#%% md\n"
    }
   }
  },
  {
   "cell_type": "code",
   "execution_count": 101,
   "outputs": [
    {
     "data": {
      "text/plain": "array([[2.42000e+02, 2.54000e+01, 1.15200e+01, 4.02000e+00],\n       [2.90000e+02, 2.63000e+01, 1.24800e+01, 4.30560e+00],\n       [3.40000e+02, 2.65000e+01, 1.23778e+01, 4.69610e+00],\n       [3.63000e+02, 2.90000e+01, 1.27300e+01, 4.45550e+00],\n       [4.30000e+02, 2.90000e+01, 1.24440e+01, 5.13400e+00],\n       [4.50000e+02, 2.97000e+01, 1.36024e+01, 4.92740e+00],\n       [5.00000e+02, 2.97000e+01, 1.41795e+01, 5.27850e+00],\n       [3.90000e+02, 3.00000e+01, 1.26700e+01, 4.69000e+00],\n       [4.50000e+02, 3.00000e+01, 1.40049e+01, 4.84380e+00],\n       [5.00000e+02, 3.07000e+01, 1.42266e+01, 4.95940e+00],\n       [4.75000e+02, 3.10000e+01, 1.42628e+01, 5.10420e+00],\n       [5.00000e+02, 3.10000e+01, 1.43714e+01, 4.81460e+00],\n       [5.00000e+02, 3.15000e+01, 1.37592e+01, 4.36800e+00],\n       [3.40000e+02, 3.20000e+01, 1.39129e+01, 5.07280e+00],\n       [6.00000e+02, 3.20000e+01, 1.49544e+01, 5.17080e+00],\n       [6.00000e+02, 3.20000e+01, 1.54380e+01, 5.58000e+00],\n       [7.00000e+02, 3.30000e+01, 1.48604e+01, 5.28540e+00],\n       [7.00000e+02, 3.30000e+01, 1.49380e+01, 5.19750e+00],\n       [6.10000e+02, 3.35000e+01, 1.56330e+01, 5.13380e+00],\n       [6.50000e+02, 3.35000e+01, 1.44738e+01, 5.72760e+00],\n       [5.75000e+02, 3.40000e+01, 1.51285e+01, 5.56950e+00],\n       [6.85000e+02, 3.40000e+01, 1.59936e+01, 5.37040e+00],\n       [6.20000e+02, 3.45000e+01, 1.55227e+01, 5.28010e+00],\n       [6.80000e+02, 3.50000e+01, 1.54686e+01, 6.13060e+00],\n       [7.00000e+02, 3.50000e+01, 1.62405e+01, 5.58900e+00],\n       [7.25000e+02, 3.50000e+01, 1.63600e+01, 6.05320e+00],\n       [7.20000e+02, 3.50000e+01, 1.63618e+01, 6.09000e+00],\n       [7.14000e+02, 3.60000e+01, 1.65170e+01, 5.85150e+00],\n       [8.50000e+02, 3.60000e+01, 1.68896e+01, 6.19840e+00],\n       [1.00000e+03, 3.70000e+01, 1.89570e+01, 6.60300e+00],\n       [9.20000e+02, 3.85000e+01, 1.80369e+01, 6.30630e+00],\n       [9.55000e+02, 3.85000e+01, 1.80840e+01, 6.29200e+00],\n       [9.25000e+02, 3.95000e+01, 1.87542e+01, 6.74970e+00],\n       [9.75000e+02, 4.10000e+01, 1.86354e+01, 6.74730e+00],\n       [9.50000e+02, 4.10000e+01, 1.76235e+01, 6.37050e+00],\n       [4.00000e+01, 1.41000e+01, 4.14720e+00, 2.26800e+00],\n       [6.90000e+01, 1.82000e+01, 5.29830e+00, 2.82170e+00],\n       [7.80000e+01, 1.88000e+01, 5.57560e+00, 2.90440e+00],\n       [8.70000e+01, 1.98000e+01, 5.61660e+00, 3.17460e+00],\n       [1.20000e+02, 2.00000e+01, 6.21600e+00, 3.57420e+00],\n       [0.00000e+00, 2.05000e+01, 6.47520e+00, 3.35160e+00],\n       [1.10000e+02, 2.08000e+01, 6.16770e+00, 3.39570e+00],\n       [1.20000e+02, 2.10000e+01, 6.11460e+00, 3.29430e+00],\n       [1.50000e+02, 2.20000e+01, 5.80450e+00, 3.75440e+00],\n       [1.45000e+02, 2.20000e+01, 6.63390e+00, 3.54780e+00],\n       [1.60000e+02, 2.25000e+01, 7.03340e+00, 3.82030e+00],\n       [1.40000e+02, 2.25000e+01, 6.55000e+00, 3.32500e+00],\n       [1.60000e+02, 2.25000e+01, 6.40000e+00, 3.80000e+00],\n       [1.69000e+02, 2.40000e+01, 7.53440e+00, 3.83520e+00],\n       [1.61000e+02, 2.34000e+01, 6.91530e+00, 3.63120e+00],\n       [2.00000e+02, 2.35000e+01, 7.39680e+00, 4.12720e+00],\n       [1.80000e+02, 2.52000e+01, 7.08660e+00, 3.90600e+00],\n       [2.90000e+02, 2.60000e+01, 8.87680e+00, 4.49680e+00],\n       [2.72000e+02, 2.70000e+01, 8.56800e+00, 4.77360e+00],\n       [3.90000e+02, 3.17000e+01, 9.48500e+00, 5.35500e+00],\n       [2.70000e+02, 2.60000e+01, 8.38040e+00, 4.24760e+00],\n       [2.70000e+02, 2.65000e+01, 8.14540e+00, 4.24850e+00],\n       [3.06000e+02, 2.80000e+01, 8.77800e+00, 4.68160e+00],\n       [5.40000e+02, 3.10000e+01, 1.07440e+01, 6.56200e+00],\n       [8.00000e+02, 3.64000e+01, 1.17612e+01, 6.57360e+00],\n       [1.00000e+03, 4.00000e+01, 1.23540e+01, 6.52500e+00],\n       [5.50000e+01, 1.47000e+01, 6.84750e+00, 2.32650e+00],\n       [6.00000e+01, 1.55000e+01, 6.57720e+00, 2.31420e+00],\n       [9.00000e+01, 1.77000e+01, 7.40520e+00, 2.67300e+00],\n       [1.20000e+02, 1.90000e+01, 8.39220e+00, 2.91810e+00],\n       [1.50000e+02, 2.00000e+01, 8.89280e+00, 3.29280e+00],\n       [1.40000e+02, 2.07000e+01, 8.53760e+00, 3.29440e+00],\n       [1.70000e+02, 2.07000e+01, 9.39600e+00, 3.41040e+00],\n       [1.45000e+02, 2.15000e+01, 9.73640e+00, 3.15710e+00],\n       [2.00000e+02, 2.30000e+01, 1.03458e+01, 3.66360e+00],\n       [2.73000e+02, 2.50000e+01, 1.10880e+01, 4.14400e+00],\n       [3.00000e+02, 2.60000e+01, 1.13680e+01, 4.23400e+00],\n       [5.90000e+00, 8.40000e+00, 2.11200e+00, 1.40800e+00],\n       [3.20000e+01, 1.37000e+01, 3.52800e+00, 1.99920e+00],\n       [4.00000e+01, 1.50000e+01, 3.82400e+00, 2.43200e+00],\n       [5.15000e+01, 1.62000e+01, 4.59240e+00, 2.63160e+00],\n       [7.00000e+01, 1.74000e+01, 4.58800e+00, 2.94150e+00],\n       [1.00000e+02, 1.80000e+01, 5.22240e+00, 3.32160e+00],\n       [7.80000e+01, 1.87000e+01, 5.19920e+00, 3.12340e+00],\n       [8.00000e+01, 1.90000e+01, 5.63580e+00, 3.05020e+00],\n       [8.50000e+01, 1.96000e+01, 5.13760e+00, 3.03680e+00],\n       [8.50000e+01, 2.00000e+01, 5.08200e+00, 2.77200e+00],\n       [1.10000e+02, 2.10000e+01, 5.69250e+00, 3.55500e+00],\n       [1.15000e+02, 2.10000e+01, 5.91750e+00, 3.30750e+00],\n       [1.25000e+02, 2.10000e+01, 5.69250e+00, 3.66750e+00],\n       [1.30000e+02, 2.13000e+01, 6.38400e+00, 3.53400e+00],\n       [1.20000e+02, 2.20000e+01, 6.11000e+00, 3.40750e+00],\n       [1.20000e+02, 2.20000e+01, 5.64000e+00, 3.52500e+00],\n       [1.30000e+02, 2.20000e+01, 6.11000e+00, 3.52500e+00],\n       [1.35000e+02, 2.20000e+01, 5.87500e+00, 3.52500e+00],\n       [1.10000e+02, 2.20000e+01, 5.52250e+00, 3.99500e+00],\n       [1.30000e+02, 2.25000e+01, 5.85600e+00, 3.62400e+00],\n       [1.50000e+02, 2.25000e+01, 6.79200e+00, 3.62400e+00],\n       [1.45000e+02, 2.27000e+01, 5.95320e+00, 3.63000e+00],\n       [1.50000e+02, 2.30000e+01, 5.21850e+00, 3.62600e+00],\n       [1.70000e+02, 2.35000e+01, 6.27500e+00, 3.72500e+00],\n       [2.25000e+02, 2.40000e+01, 7.29300e+00, 3.72300e+00],\n       [1.45000e+02, 2.40000e+01, 6.37500e+00, 3.82500e+00],\n       [1.88000e+02, 2.46000e+01, 6.73340e+00, 4.16580e+00],\n       [1.80000e+02, 2.50000e+01, 6.43950e+00, 3.68350e+00],\n       [1.97000e+02, 2.56000e+01, 6.56100e+00, 4.23900e+00],\n       [2.18000e+02, 2.65000e+01, 7.16800e+00, 4.14400e+00],\n       [3.00000e+02, 2.73000e+01, 8.32300e+00, 5.13730e+00],\n       [2.60000e+02, 2.75000e+01, 7.16720e+00, 4.33500e+00],\n       [2.65000e+02, 2.75000e+01, 7.05160e+00, 4.33500e+00],\n       [2.50000e+02, 2.75000e+01, 7.28280e+00, 4.56620e+00],\n       [2.50000e+02, 2.80000e+01, 7.82040e+00, 4.20420e+00],\n       [3.00000e+02, 2.87000e+01, 7.58520e+00, 4.63540e+00],\n       [3.20000e+02, 3.00000e+01, 7.61560e+00, 4.77160e+00],\n       [5.14000e+02, 3.28000e+01, 1.00300e+01, 6.01800e+00],\n       [5.56000e+02, 3.45000e+01, 1.02565e+01, 6.38750e+00],\n       [8.40000e+02, 3.50000e+01, 1.14884e+01, 7.79570e+00],\n       [6.85000e+02, 3.65000e+01, 1.08810e+01, 6.86400e+00],\n       [7.00000e+02, 3.60000e+01, 1.06091e+01, 6.74080e+00],\n       [7.00000e+02, 3.70000e+01, 1.08350e+01, 6.26460e+00],\n       [6.90000e+02, 3.70000e+01, 1.05717e+01, 6.36660e+00],\n       [9.00000e+02, 3.90000e+01, 1.11366e+01, 7.49340e+00],\n       [6.50000e+02, 3.90000e+01, 1.11366e+01, 6.00300e+00],\n       [8.20000e+02, 3.90000e+01, 1.24313e+01, 7.35140e+00],\n       [8.50000e+02, 4.00000e+01, 1.19286e+01, 7.10640e+00],\n       [9.00000e+02, 4.00000e+01, 1.17300e+01, 7.22500e+00],\n       [1.01500e+03, 4.00000e+01, 1.23808e+01, 7.46240e+00],\n       [8.20000e+02, 4.00000e+01, 1.11350e+01, 6.63000e+00],\n       [1.10000e+03, 4.20000e+01, 1.28002e+01, 6.86840e+00],\n       [1.00000e+03, 4.30000e+01, 1.19328e+01, 7.27720e+00],\n       [1.10000e+03, 4.30000e+01, 1.25125e+01, 7.41650e+00],\n       [1.00000e+03, 4.35000e+01, 1.26040e+01, 8.14200e+00],\n       [1.00000e+03, 4.40000e+01, 1.24888e+01, 7.59580e+00],\n       [2.00000e+02, 3.23000e+01, 5.56800e+00, 3.37560e+00],\n       [3.00000e+02, 3.40000e+01, 5.70780e+00, 4.15800e+00],\n       [3.00000e+02, 3.50000e+01, 5.93640e+00, 4.38440e+00],\n       [3.00000e+02, 3.73000e+01, 6.28840e+00, 4.01980e+00],\n       [4.30000e+02, 3.80000e+01, 7.29000e+00, 4.57650e+00],\n       [3.45000e+02, 3.85000e+01, 6.39600e+00, 3.97700e+00],\n       [4.56000e+02, 4.25000e+01, 7.28000e+00, 4.32250e+00],\n       [5.10000e+02, 4.25000e+01, 6.82500e+00, 4.45900e+00],\n       [5.40000e+02, 4.30000e+01, 7.78600e+00, 5.12960e+00],\n       [5.00000e+02, 4.50000e+01, 6.96000e+00, 4.89600e+00],\n       [5.67000e+02, 4.60000e+01, 7.79200e+00, 4.87000e+00],\n       [7.70000e+02, 4.80000e+01, 7.68000e+00, 5.37600e+00],\n       [9.50000e+02, 5.17000e+01, 8.92620e+00, 6.17120e+00],\n       [1.25000e+03, 5.60000e+01, 1.06863e+01, 6.98490e+00],\n       [1.60000e+03, 6.00000e+01, 9.60000e+00, 6.14400e+00],\n       [1.55000e+03, 6.00000e+01, 9.60000e+00, 6.14400e+00],\n       [1.65000e+03, 6.34000e+01, 1.08120e+01, 7.48000e+00],\n       [6.70000e+00, 9.80000e+00, 1.73880e+00, 1.04760e+00],\n       [7.50000e+00, 1.05000e+01, 1.97200e+00, 1.16000e+00],\n       [7.00000e+00, 1.06000e+01, 1.72840e+00, 1.14840e+00],\n       [9.70000e+00, 1.10000e+01, 2.19600e+00, 1.38000e+00],\n       [9.80000e+00, 1.12000e+01, 2.08320e+00, 1.27720e+00],\n       [8.70000e+00, 1.13000e+01, 1.97820e+00, 1.28520e+00],\n       [1.00000e+01, 1.18000e+01, 2.21390e+00, 1.28380e+00],\n       [9.90000e+00, 1.18000e+01, 2.21390e+00, 1.16590e+00],\n       [9.80000e+00, 1.20000e+01, 2.20440e+00, 1.14840e+00],\n       [1.22000e+01, 1.22000e+01, 2.09040e+00, 1.39360e+00],\n       [1.34000e+01, 1.24000e+01, 2.43000e+00, 1.26900e+00],\n       [1.22000e+01, 1.30000e+01, 2.27700e+00, 1.25580e+00],\n       [1.97000e+01, 1.43000e+01, 2.87280e+00, 2.06720e+00],\n       [1.99000e+01, 1.50000e+01, 2.93220e+00, 1.87920e+00]])"
     },
     "execution_count": 101,
     "metadata": {},
     "output_type": "execute_result"
    }
   ],
   "source": [
    "fishInput = fishData.drop([\"Species\"], axis=1).to_numpy()\n",
    "\n",
    "fishInput"
   ],
   "metadata": {
    "collapsed": false,
    "pycharm": {
     "name": "#%%\n"
    }
   }
  },
  {
   "cell_type": "code",
   "execution_count": 103,
   "outputs": [
    {
     "data": {
      "text/plain": "array(['Bream', 'Bream', 'Bream', 'Bream', 'Bream', 'Bream', 'Bream',\n       'Bream', 'Bream', 'Bream', 'Bream', 'Bream', 'Bream', 'Bream',\n       'Bream', 'Bream', 'Bream', 'Bream', 'Bream', 'Bream', 'Bream',\n       'Bream', 'Bream', 'Bream', 'Bream', 'Bream', 'Bream', 'Bream',\n       'Bream', 'Bream', 'Bream', 'Bream', 'Bream', 'Bream', 'Bream',\n       'Roach', 'Roach', 'Roach', 'Roach', 'Roach', 'Roach', 'Roach',\n       'Roach', 'Roach', 'Roach', 'Roach', 'Roach', 'Roach', 'Roach',\n       'Roach', 'Roach', 'Roach', 'Roach', 'Roach', 'Roach', 'Whitefish',\n       'Whitefish', 'Whitefish', 'Whitefish', 'Whitefish', 'Whitefish',\n       'Parkki', 'Parkki', 'Parkki', 'Parkki', 'Parkki', 'Parkki',\n       'Parkki', 'Parkki', 'Parkki', 'Parkki', 'Parkki', 'Perch', 'Perch',\n       'Perch', 'Perch', 'Perch', 'Perch', 'Perch', 'Perch', 'Perch',\n       'Perch', 'Perch', 'Perch', 'Perch', 'Perch', 'Perch', 'Perch',\n       'Perch', 'Perch', 'Perch', 'Perch', 'Perch', 'Perch', 'Perch',\n       'Perch', 'Perch', 'Perch', 'Perch', 'Perch', 'Perch', 'Perch',\n       'Perch', 'Perch', 'Perch', 'Perch', 'Perch', 'Perch', 'Perch',\n       'Perch', 'Perch', 'Perch', 'Perch', 'Perch', 'Perch', 'Perch',\n       'Perch', 'Perch', 'Perch', 'Perch', 'Perch', 'Perch', 'Perch',\n       'Perch', 'Perch', 'Perch', 'Perch', 'Perch', 'Pike', 'Pike',\n       'Pike', 'Pike', 'Pike', 'Pike', 'Pike', 'Pike', 'Pike', 'Pike',\n       'Pike', 'Pike', 'Pike', 'Pike', 'Pike', 'Pike', 'Pike', 'Smelt',\n       'Smelt', 'Smelt', 'Smelt', 'Smelt', 'Smelt', 'Smelt', 'Smelt',\n       'Smelt', 'Smelt', 'Smelt', 'Smelt', 'Smelt', 'Smelt'], dtype=object)"
     },
     "execution_count": 103,
     "metadata": {},
     "output_type": "execute_result"
    }
   ],
   "source": [
    "fishTarget = fishData[\"Species\"].to_numpy()\n",
    "fishTarget"
   ],
   "metadata": {
    "collapsed": false,
    "pycharm": {
     "name": "#%%\n"
    }
   }
  },
  {
   "cell_type": "code",
   "execution_count": 105,
   "outputs": [
    {
     "data": {
      "text/plain": "array([[-0.43807217, -0.28230301,  0.59657867, -0.23652895],\n       [-0.30356218, -0.19805366,  0.82126055, -0.06657895],\n       [-0.16344761, -0.17933159,  0.79734129,  0.16579317],\n       [-0.09899491,  0.05469437,  0.87977146,  0.022621  ],\n       [ 0.08875862,  0.05469437,  0.81283498,  0.42637127],\n       [ 0.14480444,  0.12022164,  1.08395111,  0.30343125],\n       [ 0.28491901,  0.12022164,  1.21901769,  0.51235788],\n       [-0.02333304,  0.14830475,  0.86572884,  0.16216328],\n       [ 0.14480444,  0.14830475,  1.17815367,  0.25368398],\n       [ 0.28491901,  0.21383202,  1.23004114,  0.32247327],\n       [ 0.21486173,  0.24191513,  1.23851352,  0.40863839],\n       [ 0.28491901,  0.24191513,  1.26393066,  0.23630814],\n       [ 0.28491901,  0.28872032,  1.12064915, -0.02944701],\n       [-0.16344761,  0.33552551,  1.15662166,  0.38995341],\n       [ 0.56514816,  0.33552551,  1.40037809,  0.44826959],\n       [ 0.56514816,  0.33552551,  1.51356159,  0.69176938],\n       [ 0.8453773 ,  0.4291359 ,  1.37837799,  0.51646382],\n       [ 0.8453773 ,  0.4291359 ,  1.39653978,  0.46415777],\n       [ 0.59317107,  0.47594109,  1.5592001 ,  0.42625226],\n       [ 0.70526273,  0.47594109,  1.28789673,  0.77960069],\n       [ 0.49509087,  0.52274628,  1.44112509,  0.68552122],\n       [ 0.80334293,  0.52274628,  1.64359623,  0.56704417],\n       [ 0.62119399,  0.56955147,  1.53338508,  0.51330998],\n       [ 0.78933147,  0.61635666,  1.52072332,  1.01941109],\n       [ 0.8453773 ,  0.61635666,  1.7013816 ,  0.69712495],\n       [ 0.91543458,  0.61635666,  1.72934981,  0.97335321],\n       [ 0.90142313,  0.61635666,  1.72977109,  0.99525153],\n       [ 0.88460938,  0.70996704,  1.76609466,  0.853329  ],\n       [ 1.26572101,  0.70996704,  1.85329931,  1.05975637],\n       [ 1.68606473,  0.80357742,  2.3371611 ,  1.30051887],\n       [ 1.46188141,  0.943993  ,  2.12181756,  1.12396367],\n       [ 1.55996161,  0.943993  ,  2.13284102,  1.11545426],\n       [ 1.47589287,  1.03760338,  2.28969706,  1.38781462],\n       [ 1.61600744,  1.17801895,  2.26189267,  1.38638646],\n       [ 1.54595015,  1.17801895,  2.02506393,  1.16216671],\n       [-1.00413504, -1.34010032, -1.12897816, -1.27907938],\n       [-0.92286859, -0.95629776, -0.85957055, -0.94959298],\n       [-0.89764797, -0.90013153, -0.79467025, -0.90038127],\n       [-0.87242734, -0.80652115, -0.78507446, -0.73959524],\n       [-0.77995173, -0.78779907, -0.64478871, -0.50180805],\n       [-1.1162267 , -0.74099388, -0.58412461, -0.63426908],\n       [-0.80797464, -0.71291076, -0.65609302, -0.6080268 ],\n       [-0.77995173, -0.69418869, -0.66852074, -0.66836619],\n       [-0.69588298, -0.60057831, -0.74109766, -0.39457769],\n       [-0.70989444, -0.60057831, -0.54698188, -0.51751771],\n       [-0.66786007, -0.55377311, -0.45348145, -0.35536304],\n       [-0.7239059 , -0.55377311, -0.56661814, -0.65009776],\n       [-0.66786007, -0.55377311, -0.60172469, -0.36744282],\n       [-0.64263945, -0.41335754, -0.3362256 , -0.3464966 ],\n       [-0.66505778, -0.46952377, -0.48112201, -0.46788946],\n       [-0.55576841, -0.46016273, -0.36843   , -0.17273819],\n       [-0.61181424, -0.30102508, -0.44103033, -0.30436613],\n       [-0.30356218, -0.22613678, -0.02204544,  0.04719711],\n       [-0.35400343, -0.1325264 , -0.09431811,  0.21191055],\n       [-0.02333304,  0.3074424 ,  0.12029989,  0.5578802 ],\n       [-0.35960801, -0.22613678, -0.13822469, -0.1010926 ],\n       [-0.35960801, -0.17933159, -0.19322494, -0.10055704],\n       [-0.25872552, -0.03891601, -0.04516895,  0.15716476],\n       [ 0.39701067,  0.24191513,  0.41496082,  1.27612128],\n       [ 1.12560644,  0.74741119,  0.65302999,  1.28302402],\n       [ 1.68606473,  1.08440857,  0.79177105,  1.25410395],\n       [-0.96210067, -1.28393409, -0.49699016, -1.2442682 ],\n       [-0.94808921, -1.20904579, -0.56025216, -1.25158747],\n       [-0.86402047, -1.00310295, -0.36646403, -1.03807885],\n       [-0.77995173, -0.88140945, -0.13546298, -0.89222891],\n       [-0.69588298, -0.78779907, -0.01830074, -0.66925879],\n       [-0.7239059 , -0.7222718 , -0.10143303, -0.66830669],\n       [-0.63983715, -0.7222718 ,  0.09947001, -0.59927937],\n       [-0.70989444, -0.6473835 ,  0.17913846, -0.75000884],\n       [-0.55576841, -0.50696792,  0.32176465, -0.44860941],\n       [-0.35120114, -0.31974716,  0.49547182, -0.16274113],\n       [-0.27553927, -0.22613678,  0.56100404, -0.10918546],\n       [-1.09969318, -1.8736795 , -1.60530375, -1.79083359],\n       [-1.02655337, -1.37754447, -1.27389797, -1.43903233],\n       [-1.00413504, -1.25585098, -1.20462106, -1.18148905],\n       [-0.97190869, -1.14351852, -1.02478194, -1.06271446],\n       [-0.9200663 , -1.03118606, -1.02581173, -0.87830443],\n       [-0.83599755, -0.97501983, -0.87733446, -0.65212097],\n       [-0.89764797, -0.90949257, -0.88276427, -0.77006246],\n       [-0.89204338, -0.88140945, -0.78058082, -0.81362108],\n       [-0.87803193, -0.82524322, -0.89718136, -0.82159492],\n       [-0.87803193, -0.78779907, -0.91019418, -0.97916761],\n       [-0.80797464, -0.69418869, -0.76731055, -0.51323326],\n       [-0.79396318, -0.69418869, -0.71465073, -0.66051136],\n       [-0.76594027, -0.69418869, -0.76731055, -0.44628867],\n       [-0.75192881, -0.66610557, -0.60546938, -0.52572958],\n       [-0.77995173, -0.60057831, -0.66959734, -0.60100506],\n       [-0.77995173, -0.60057831, -0.77959784, -0.53108515],\n       [-0.75192881, -0.60057831, -0.66959734, -0.53108515],\n       [-0.73791735, -0.60057831, -0.72459759, -0.53108515],\n       [-0.80797464, -0.60057831, -0.80709797, -0.25140552],\n       [-0.75192881, -0.55377311, -0.72904442, -0.47217391],\n       [-0.69588298, -0.55377311, -0.50997959, -0.47217391],\n       [-0.70989444, -0.53505104, -0.70629538, -0.46860353],\n       [-0.69588298, -0.50696792, -0.87824723, -0.47098378],\n       [-0.63983715, -0.46016273, -0.63098014, -0.41207254],\n       [-0.48571113, -0.41335754, -0.39272373, -0.41326267],\n       [-0.70989444, -0.41335754, -0.60757578, -0.35256624],\n       [-0.58939591, -0.35719131, -0.52369454, -0.14976876],\n       [-0.61181424, -0.31974716, -0.59247996, -0.43676766],\n       [-0.56417529, -0.26358093, -0.56404366, -0.10621014],\n       [-0.50532717, -0.17933159, -0.42197918, -0.16274113],\n       [-0.27553927, -0.10444328, -0.1516588 ,  0.42833498],\n       [-0.38763093, -0.08572121, -0.42216642, -0.04908409],\n       [-0.37361947, -0.08572121, -0.44922186, -0.04908409],\n       [-0.41565384, -0.08572121, -0.39511097,  0.08849448],\n       [-0.41565384, -0.03891601, -0.26928912, -0.12691834],\n       [-0.27553927,  0.02661125, -0.32433618,  0.12967284],\n       [-0.21949344,  0.14830475, -0.31722126,  0.21072043],\n       [ 0.32415109,  0.41041382,  0.24785367,  0.95240699],\n       [ 0.44184733,  0.56955147,  0.30086455,  1.17228278],\n       [ 1.2376981 ,  0.61635666,  0.58918289,  2.01025055],\n       [ 0.80334293,  0.75677223,  0.44702479,  1.45583032],\n       [ 0.8453773 ,  0.70996704,  0.38338833,  1.38251855],\n       [ 0.8453773 ,  0.80357742,  0.43625879,  1.09914954],\n       [ 0.81735438,  0.80357742,  0.3746351 ,  1.15984597],\n       [ 1.40583558,  0.99079819,  0.50684634,  1.83036299],\n       [ 0.70526273,  0.99079819,  0.50684634,  0.94348105],\n       [ 1.18165227,  0.99079819,  0.80986262,  1.74586404],\n       [ 1.26572101,  1.08440857,  0.69220889,  1.6000736 ],\n       [ 1.40583558,  1.08440857,  0.64572783,  1.67064808],\n       [ 1.7280991 ,  1.08440857,  0.79804342,  1.81191604],\n       [ 1.18165227,  1.08440857,  0.50647187,  1.31658557],\n       [ 1.96629387,  1.27162933,  0.89620132,  1.4584486 ],\n       [ 1.68606473,  1.36523971,  0.69319188,  1.70171037],\n       [ 1.96629387,  1.36523971,  0.82886697,  1.78460265],\n       [ 1.68606473,  1.4120449 ,  0.85028196,  2.21632088],\n       [ 1.68606473,  1.4588501 ,  0.82332013,  1.89129745],\n       [-0.55576841,  0.36360863, -0.79644898, -0.61998757],\n       [-0.27553927,  0.52274628, -0.76372968, -0.15441025],\n       [-0.27553927,  0.61635666, -0.71022731, -0.01968798],\n       [-0.27553927,  0.83166054, -0.62784395, -0.23664796],\n       [ 0.08875862,  0.8971878 , -0.39342586,  0.09462363],\n       [-0.14943616,  0.943993  , -0.60266086, -0.26211666],\n       [ 0.16161819,  1.31843452, -0.3957663 , -0.05652238],\n       [ 0.31294193,  1.31843452, -0.50225615,  0.02470372],\n       [ 0.39701067,  1.36523971, -0.27734022,  0.42375299],\n       [ 0.28491901,  1.55246048, -0.47066026,  0.28474627],\n       [ 0.47267254,  1.64607086, -0.27593596,  0.26927463],\n       [ 1.0415377 ,  1.83329162, -0.30214885,  0.57037653],\n       [ 1.54595015,  2.17965004, -0.01048368,  1.04357065],\n       [ 2.38663758,  2.58217468,  0.4014565 ,  1.52777344],\n       [ 3.36743958,  2.95661621,  0.14721491,  1.02738494],\n       [ 3.22732501,  2.95661621,  0.14721491,  1.02738494],\n       [ 3.50755415,  3.2748915 ,  0.43087578,  1.82238915],\n       [-1.09745134, -1.74262496, -1.69264883, -2.00529431],\n       [-1.09520951, -1.6770977 , -1.63806985, -1.93840923],\n       [-1.09661066, -1.66773666, -1.69508288, -1.94531196],\n       [-1.08904447, -1.63029251, -1.58564408, -1.80749536],\n       [-1.08876424, -1.61157043, -1.6120442 , -1.86866784],\n       [-1.09184676, -1.60220939, -1.63661878, -1.86390733],\n       [-1.08820378, -1.5554042 , -1.5814547 , -1.86474042],\n       [-1.08848401, -1.5554042 , -1.5814547 , -1.93489835],\n       [-1.08876424, -1.53668212, -1.58367812, -1.94531196],\n       [-1.08203874, -1.51796005, -1.61035909, -1.7994025 ],\n       [-1.07867599, -1.49923797, -1.53087787, -1.87354735],\n       [-1.08203874, -1.44307174, -1.56668655, -1.88140219],\n       [-1.06102155, -1.32137825, -1.42724336, -1.39856804],\n       [-1.0604611 , -1.25585098, -1.41334117, -1.51043989]])"
     },
     "execution_count": 105,
     "metadata": {},
     "output_type": "execute_result"
    }
   ],
   "source": [
    "scalerStd = StandardScaler()\n",
    "scalerStd.fit(fishInput)\n",
    "fishInput = scalerStd.transform(fishInput)\n",
    "fishInput"
   ],
   "metadata": {
    "collapsed": false,
    "pycharm": {
     "name": "#%%\n"
    }
   }
  },
  {
   "cell_type": "code",
   "execution_count": 106,
   "outputs": [],
   "source": [
    "trainInput, testInput, trainTarget, testTarget = train_test_split(fishInput, fishTarget, stratify=fishTarget, random_state=42)"
   ],
   "metadata": {
    "collapsed": false,
    "pycharm": {
     "name": "#%%\n"
    }
   }
  },
  {
   "cell_type": "code",
   "execution_count": 122,
   "outputs": [
    {
     "data": {
      "text/plain": "KNeighborsClassifier(n_neighbors=7)"
     },
     "execution_count": 122,
     "metadata": {},
     "output_type": "execute_result"
    }
   ],
   "source": [
    "fishAllModel = KNeighborsClassifier(n_neighbors=7)\n",
    "fishAllModel.fit(trainInput, trainTarget)"
   ],
   "metadata": {
    "collapsed": false,
    "pycharm": {
     "name": "#%%\n"
    }
   }
  },
  {
   "cell_type": "code",
   "execution_count": 123,
   "outputs": [
    {
     "data": {
      "text/plain": "array(['Roach', 'Perch', 'Bream', 'Bream', 'Perch', 'Perch', 'Perch',\n       'Bream', 'Whitefish', 'Bream', 'Perch', 'Bream', 'Perch', 'Smelt',\n       'Perch', 'Roach', 'Smelt', 'Perch', 'Perch', 'Bream', 'Bream',\n       'Perch', 'Smelt', 'Roach', 'Bream', 'Parkki', 'Bream', 'Perch',\n       'Perch', 'Smelt', 'Bream', 'Whitefish', 'Roach', 'Pike', 'Perch',\n       'Pike', 'Smelt', 'Perch', 'Bream', 'Perch', 'Parkki', 'Perch',\n       'Perch', 'Roach', 'Parkki', 'Bream', 'Roach', 'Bream', 'Perch',\n       'Parkki', 'Bream', 'Smelt', 'Perch', 'Bream', 'Bream', 'Pike',\n       'Bream', 'Perch', 'Perch', 'Smelt', 'Pike', 'Bream', 'Pike',\n       'Perch', 'Perch', 'Bream', 'Roach', 'Perch', 'Roach', 'Perch',\n       'Pike', 'Perch', 'Roach', 'Bream', 'Perch', 'Bream', 'Pike',\n       'Perch', 'Pike', 'Perch', 'Parkki', 'Whitefish', 'Pike', 'Bream',\n       'Smelt', 'Perch', 'Perch', 'Roach', 'Bream', 'Roach', 'Perch',\n       'Perch', 'Bream', 'Pike', 'Roach', 'Parkki', 'Bream', 'Roach',\n       'Roach', 'Pike', 'Roach', 'Perch', 'Smelt', 'Parkki', 'Pike',\n       'Perch', 'Smelt', 'Whitefish', 'Bream', 'Perch', 'Perch', 'Perch',\n       'Perch', 'Perch', 'Parkki', 'Pike', 'Whitefish', 'Perch', 'Perch'],\n      dtype=object)"
     },
     "execution_count": 123,
     "metadata": {},
     "output_type": "execute_result"
    }
   ],
   "source": [
    "trainTarget"
   ],
   "metadata": {
    "collapsed": false,
    "pycharm": {
     "name": "#%%\n"
    }
   }
  },
  {
   "cell_type": "code",
   "execution_count": 128,
   "outputs": [
    {
     "data": {
      "text/plain": "array([-0.25872552, -0.03891601, -0.04516895,  0.15716476])"
     },
     "execution_count": 128,
     "metadata": {},
     "output_type": "execute_result"
    }
   ],
   "source": [
    "testInput[26]"
   ],
   "metadata": {
    "collapsed": false,
    "pycharm": {
     "name": "#%%\n"
    }
   }
  },
  {
   "cell_type": "code",
   "execution_count": 124,
   "outputs": [
    {
     "data": {
      "text/plain": "array(['Perch'], dtype=object)"
     },
     "execution_count": 124,
     "metadata": {},
     "output_type": "execute_result"
    }
   ],
   "source": [
    "fishAllModel.predict([testInput[26]])"
   ],
   "metadata": {
    "collapsed": false,
    "pycharm": {
     "name": "#%%\n"
    }
   }
  },
  {
   "cell_type": "code",
   "execution_count": 125,
   "outputs": [
    {
     "data": {
      "text/plain": "0.725"
     },
     "execution_count": 125,
     "metadata": {},
     "output_type": "execute_result"
    }
   ],
   "source": [
    "fishAllModel.score(testInput, testTarget)"
   ],
   "metadata": {
    "collapsed": false,
    "pycharm": {
     "name": "#%%\n"
    }
   }
  },
  {
   "cell_type": "code",
   "execution_count": 126,
   "outputs": [
    {
     "name": "stdout",
     "output_type": "stream",
     "text": [
      "End\n"
     ]
    }
   ],
   "source": [
    "import pickle\n",
    "modelFile = open(\"./fishMarketAllFishModel.pkl\", \"wb\")\n",
    "pickle.dump(fishAllModel, modelFile)\n",
    "\n",
    "modelFile.close()\n",
    "\n",
    "print(\"End\")"
   ],
   "metadata": {
    "collapsed": false,
    "pycharm": {
     "name": "#%%\n"
    }
   }
  },
  {
   "cell_type": "code",
   "execution_count": 127,
   "outputs": [
    {
     "name": "stdout",
     "output_type": "stream",
     "text": [
      "End\n"
     ]
    }
   ],
   "source": [
    "modelFile = open(\"./fishMarketAllFishtScaled.pkl\", \"wb\")\n",
    "pickle.dump(scalerStd, modelFile)\n",
    "modelFile.close()\n",
    "\n",
    "print(\"End\")"
   ],
   "metadata": {
    "collapsed": false,
    "pycharm": {
     "name": "#%%\n"
    }
   }
  },
  {
   "cell_type": "code",
   "execution_count": null,
   "outputs": [],
   "source": [],
   "metadata": {
    "collapsed": false,
    "pycharm": {
     "name": "#%%\n"
    }
   }
  }
 ],
 "metadata": {
  "kernelspec": {
   "display_name": "Python 3",
   "language": "python",
   "name": "python3"
  },
  "language_info": {
   "codemirror_mode": {
    "name": "ipython",
    "version": 2
   },
   "file_extension": ".py",
   "mimetype": "text/x-python",
   "name": "python",
   "nbconvert_exporter": "python",
   "pygments_lexer": "ipython2",
   "version": "2.7.6"
  }
 },
 "nbformat": 4,
 "nbformat_minor": 0
}