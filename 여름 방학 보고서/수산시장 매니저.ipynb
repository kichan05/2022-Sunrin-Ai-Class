{
 "cells": [
  {
   "cell_type": "code",
   "execution_count": 82,
   "outputs": [
    {
     "name": "stdout",
     "output_type": "stream",
     "text": [
      "Hello World\n"
     ]
    }
   ],
   "source": [
    "import numpy as np\n",
    "import pandas as pd\n",
    "\n",
    "from sklearn.model_selection import train_test_split\n",
    "from sklearn.linear_model import LinearRegression\n",
    "from sklearn.neighbors import KNeighborsRegressor\n",
    "from sklearn.preprocessing import PolynomialFeatures\n",
    "from sklearn.preprocessing import StandardScaler\n",
    "\n",
    "import pickle\n",
    "import joblib\n",
    "\n",
    "print(\"Hello World\")"
   ],
   "metadata": {
    "collapsed": false,
    "pycharm": {
     "name": "#%%\n"
    }
   }
  },
  {
   "cell_type": "code",
   "execution_count": 3,
   "outputs": [
    {
     "data": {
      "text/plain": "    Species  Weight  Length   Height   Width\n0     Bream   242.0    25.4  11.5200  4.0200\n1     Bream   290.0    26.3  12.4800  4.3056\n2     Bream   340.0    26.5  12.3778  4.6961\n3     Bream   363.0    29.0  12.7300  4.4555\n4     Bream   430.0    29.0  12.4440  5.1340\n..      ...     ...     ...      ...     ...\n154   Smelt    12.2    12.2   2.0904  1.3936\n155   Smelt    13.4    12.4   2.4300  1.2690\n156   Smelt    12.2    13.0   2.2770  1.2558\n157   Smelt    19.7    14.3   2.8728  2.0672\n158   Smelt    19.9    15.0   2.9322  1.8792\n\n[159 rows x 5 columns]",
      "text/html": "<div>\n<style scoped>\n    .dataframe tbody tr th:only-of-type {\n        vertical-align: middle;\n    }\n\n    .dataframe tbody tr th {\n        vertical-align: top;\n    }\n\n    .dataframe thead th {\n        text-align: right;\n    }\n</style>\n<table border=\"1\" class=\"dataframe\">\n  <thead>\n    <tr style=\"text-align: right;\">\n      <th></th>\n      <th>Species</th>\n      <th>Weight</th>\n      <th>Length</th>\n      <th>Height</th>\n      <th>Width</th>\n    </tr>\n  </thead>\n  <tbody>\n    <tr>\n      <th>0</th>\n      <td>Bream</td>\n      <td>242.0</td>\n      <td>25.4</td>\n      <td>11.5200</td>\n      <td>4.0200</td>\n    </tr>\n    <tr>\n      <th>1</th>\n      <td>Bream</td>\n      <td>290.0</td>\n      <td>26.3</td>\n      <td>12.4800</td>\n      <td>4.3056</td>\n    </tr>\n    <tr>\n      <th>2</th>\n      <td>Bream</td>\n      <td>340.0</td>\n      <td>26.5</td>\n      <td>12.3778</td>\n      <td>4.6961</td>\n    </tr>\n    <tr>\n      <th>3</th>\n      <td>Bream</td>\n      <td>363.0</td>\n      <td>29.0</td>\n      <td>12.7300</td>\n      <td>4.4555</td>\n    </tr>\n    <tr>\n      <th>4</th>\n      <td>Bream</td>\n      <td>430.0</td>\n      <td>29.0</td>\n      <td>12.4440</td>\n      <td>5.1340</td>\n    </tr>\n    <tr>\n      <th>...</th>\n      <td>...</td>\n      <td>...</td>\n      <td>...</td>\n      <td>...</td>\n      <td>...</td>\n    </tr>\n    <tr>\n      <th>154</th>\n      <td>Smelt</td>\n      <td>12.2</td>\n      <td>12.2</td>\n      <td>2.0904</td>\n      <td>1.3936</td>\n    </tr>\n    <tr>\n      <th>155</th>\n      <td>Smelt</td>\n      <td>13.4</td>\n      <td>12.4</td>\n      <td>2.4300</td>\n      <td>1.2690</td>\n    </tr>\n    <tr>\n      <th>156</th>\n      <td>Smelt</td>\n      <td>12.2</td>\n      <td>13.0</td>\n      <td>2.2770</td>\n      <td>1.2558</td>\n    </tr>\n    <tr>\n      <th>157</th>\n      <td>Smelt</td>\n      <td>19.7</td>\n      <td>14.3</td>\n      <td>2.8728</td>\n      <td>2.0672</td>\n    </tr>\n    <tr>\n      <th>158</th>\n      <td>Smelt</td>\n      <td>19.9</td>\n      <td>15.0</td>\n      <td>2.9322</td>\n      <td>1.8792</td>\n    </tr>\n  </tbody>\n</table>\n<p>159 rows × 5 columns</p>\n</div>"
     },
     "execution_count": 3,
     "metadata": {},
     "output_type": "execute_result"
    }
   ],
   "source": [
    "fishData = pd.read_csv(\"./Fish.csv\")\n",
    "\n",
    "fishData"
   ],
   "metadata": {
    "collapsed": false,
    "pycharm": {
     "name": "#%%\n"
    }
   }
  },
  {
   "cell_type": "markdown",
   "source": [
    "# 농어의 무게"
   ],
   "metadata": {
    "collapsed": false,
    "pycharm": {
     "name": "#%% md\n"
    }
   }
  },
  {
   "cell_type": "code",
   "execution_count": 6,
   "outputs": [
    {
     "data": {
      "text/plain": "    Species  Weight  Length   Height   Width\n72    Perch     5.9     8.4   2.1120  1.4080\n73    Perch    32.0    13.7   3.5280  1.9992\n74    Perch    40.0    15.0   3.8240  2.4320\n75    Perch    51.5    16.2   4.5924  2.6316\n76    Perch    70.0    17.4   4.5880  2.9415\n77    Perch   100.0    18.0   5.2224  3.3216\n78    Perch    78.0    18.7   5.1992  3.1234\n79    Perch    80.0    19.0   5.6358  3.0502\n80    Perch    85.0    19.6   5.1376  3.0368\n81    Perch    85.0    20.0   5.0820  2.7720\n82    Perch   110.0    21.0   5.6925  3.5550\n83    Perch   115.0    21.0   5.9175  3.3075\n84    Perch   125.0    21.0   5.6925  3.6675\n85    Perch   130.0    21.3   6.3840  3.5340\n86    Perch   120.0    22.0   6.1100  3.4075\n87    Perch   120.0    22.0   5.6400  3.5250\n88    Perch   130.0    22.0   6.1100  3.5250\n89    Perch   135.0    22.0   5.8750  3.5250\n90    Perch   110.0    22.0   5.5225  3.9950\n91    Perch   130.0    22.5   5.8560  3.6240\n92    Perch   150.0    22.5   6.7920  3.6240\n93    Perch   145.0    22.7   5.9532  3.6300\n94    Perch   150.0    23.0   5.2185  3.6260\n95    Perch   170.0    23.5   6.2750  3.7250\n96    Perch   225.0    24.0   7.2930  3.7230\n97    Perch   145.0    24.0   6.3750  3.8250\n98    Perch   188.0    24.6   6.7334  4.1658\n99    Perch   180.0    25.0   6.4395  3.6835\n100   Perch   197.0    25.6   6.5610  4.2390\n101   Perch   218.0    26.5   7.1680  4.1440\n102   Perch   300.0    27.3   8.3230  5.1373\n103   Perch   260.0    27.5   7.1672  4.3350\n104   Perch   265.0    27.5   7.0516  4.3350\n105   Perch   250.0    27.5   7.2828  4.5662\n106   Perch   250.0    28.0   7.8204  4.2042\n107   Perch   300.0    28.7   7.5852  4.6354\n108   Perch   320.0    30.0   7.6156  4.7716\n109   Perch   514.0    32.8  10.0300  6.0180\n110   Perch   556.0    34.5  10.2565  6.3875\n111   Perch   840.0    35.0  11.4884  7.7957\n112   Perch   685.0    36.5  10.8810  6.8640\n113   Perch   700.0    36.0  10.6091  6.7408\n114   Perch   700.0    37.0  10.8350  6.2646\n115   Perch   690.0    37.0  10.5717  6.3666\n116   Perch   900.0    39.0  11.1366  7.4934\n117   Perch   650.0    39.0  11.1366  6.0030\n118   Perch   820.0    39.0  12.4313  7.3514\n119   Perch   850.0    40.0  11.9286  7.1064\n120   Perch   900.0    40.0  11.7300  7.2250\n121   Perch  1015.0    40.0  12.3808  7.4624\n122   Perch   820.0    40.0  11.1350  6.6300\n123   Perch  1100.0    42.0  12.8002  6.8684\n124   Perch  1000.0    43.0  11.9328  7.2772\n125   Perch  1100.0    43.0  12.5125  7.4165\n126   Perch  1000.0    43.5  12.6040  8.1420\n127   Perch  1000.0    44.0  12.4888  7.5958",
      "text/html": "<div>\n<style scoped>\n    .dataframe tbody tr th:only-of-type {\n        vertical-align: middle;\n    }\n\n    .dataframe tbody tr th {\n        vertical-align: top;\n    }\n\n    .dataframe thead th {\n        text-align: right;\n    }\n</style>\n<table border=\"1\" class=\"dataframe\">\n  <thead>\n    <tr style=\"text-align: right;\">\n      <th></th>\n      <th>Species</th>\n      <th>Weight</th>\n      <th>Length</th>\n      <th>Height</th>\n      <th>Width</th>\n    </tr>\n  </thead>\n  <tbody>\n    <tr>\n      <th>72</th>\n      <td>Perch</td>\n      <td>5.9</td>\n      <td>8.4</td>\n      <td>2.1120</td>\n      <td>1.4080</td>\n    </tr>\n    <tr>\n      <th>73</th>\n      <td>Perch</td>\n      <td>32.0</td>\n      <td>13.7</td>\n      <td>3.5280</td>\n      <td>1.9992</td>\n    </tr>\n    <tr>\n      <th>74</th>\n      <td>Perch</td>\n      <td>40.0</td>\n      <td>15.0</td>\n      <td>3.8240</td>\n      <td>2.4320</td>\n    </tr>\n    <tr>\n      <th>75</th>\n      <td>Perch</td>\n      <td>51.5</td>\n      <td>16.2</td>\n      <td>4.5924</td>\n      <td>2.6316</td>\n    </tr>\n    <tr>\n      <th>76</th>\n      <td>Perch</td>\n      <td>70.0</td>\n      <td>17.4</td>\n      <td>4.5880</td>\n      <td>2.9415</td>\n    </tr>\n    <tr>\n      <th>77</th>\n      <td>Perch</td>\n      <td>100.0</td>\n      <td>18.0</td>\n      <td>5.2224</td>\n      <td>3.3216</td>\n    </tr>\n    <tr>\n      <th>78</th>\n      <td>Perch</td>\n      <td>78.0</td>\n      <td>18.7</td>\n      <td>5.1992</td>\n      <td>3.1234</td>\n    </tr>\n    <tr>\n      <th>79</th>\n      <td>Perch</td>\n      <td>80.0</td>\n      <td>19.0</td>\n      <td>5.6358</td>\n      <td>3.0502</td>\n    </tr>\n    <tr>\n      <th>80</th>\n      <td>Perch</td>\n      <td>85.0</td>\n      <td>19.6</td>\n      <td>5.1376</td>\n      <td>3.0368</td>\n    </tr>\n    <tr>\n      <th>81</th>\n      <td>Perch</td>\n      <td>85.0</td>\n      <td>20.0</td>\n      <td>5.0820</td>\n      <td>2.7720</td>\n    </tr>\n    <tr>\n      <th>82</th>\n      <td>Perch</td>\n      <td>110.0</td>\n      <td>21.0</td>\n      <td>5.6925</td>\n      <td>3.5550</td>\n    </tr>\n    <tr>\n      <th>83</th>\n      <td>Perch</td>\n      <td>115.0</td>\n      <td>21.0</td>\n      <td>5.9175</td>\n      <td>3.3075</td>\n    </tr>\n    <tr>\n      <th>84</th>\n      <td>Perch</td>\n      <td>125.0</td>\n      <td>21.0</td>\n      <td>5.6925</td>\n      <td>3.6675</td>\n    </tr>\n    <tr>\n      <th>85</th>\n      <td>Perch</td>\n      <td>130.0</td>\n      <td>21.3</td>\n      <td>6.3840</td>\n      <td>3.5340</td>\n    </tr>\n    <tr>\n      <th>86</th>\n      <td>Perch</td>\n      <td>120.0</td>\n      <td>22.0</td>\n      <td>6.1100</td>\n      <td>3.4075</td>\n    </tr>\n    <tr>\n      <th>87</th>\n      <td>Perch</td>\n      <td>120.0</td>\n      <td>22.0</td>\n      <td>5.6400</td>\n      <td>3.5250</td>\n    </tr>\n    <tr>\n      <th>88</th>\n      <td>Perch</td>\n      <td>130.0</td>\n      <td>22.0</td>\n      <td>6.1100</td>\n      <td>3.5250</td>\n    </tr>\n    <tr>\n      <th>89</th>\n      <td>Perch</td>\n      <td>135.0</td>\n      <td>22.0</td>\n      <td>5.8750</td>\n      <td>3.5250</td>\n    </tr>\n    <tr>\n      <th>90</th>\n      <td>Perch</td>\n      <td>110.0</td>\n      <td>22.0</td>\n      <td>5.5225</td>\n      <td>3.9950</td>\n    </tr>\n    <tr>\n      <th>91</th>\n      <td>Perch</td>\n      <td>130.0</td>\n      <td>22.5</td>\n      <td>5.8560</td>\n      <td>3.6240</td>\n    </tr>\n    <tr>\n      <th>92</th>\n      <td>Perch</td>\n      <td>150.0</td>\n      <td>22.5</td>\n      <td>6.7920</td>\n      <td>3.6240</td>\n    </tr>\n    <tr>\n      <th>93</th>\n      <td>Perch</td>\n      <td>145.0</td>\n      <td>22.7</td>\n      <td>5.9532</td>\n      <td>3.6300</td>\n    </tr>\n    <tr>\n      <th>94</th>\n      <td>Perch</td>\n      <td>150.0</td>\n      <td>23.0</td>\n      <td>5.2185</td>\n      <td>3.6260</td>\n    </tr>\n    <tr>\n      <th>95</th>\n      <td>Perch</td>\n      <td>170.0</td>\n      <td>23.5</td>\n      <td>6.2750</td>\n      <td>3.7250</td>\n    </tr>\n    <tr>\n      <th>96</th>\n      <td>Perch</td>\n      <td>225.0</td>\n      <td>24.0</td>\n      <td>7.2930</td>\n      <td>3.7230</td>\n    </tr>\n    <tr>\n      <th>97</th>\n      <td>Perch</td>\n      <td>145.0</td>\n      <td>24.0</td>\n      <td>6.3750</td>\n      <td>3.8250</td>\n    </tr>\n    <tr>\n      <th>98</th>\n      <td>Perch</td>\n      <td>188.0</td>\n      <td>24.6</td>\n      <td>6.7334</td>\n      <td>4.1658</td>\n    </tr>\n    <tr>\n      <th>99</th>\n      <td>Perch</td>\n      <td>180.0</td>\n      <td>25.0</td>\n      <td>6.4395</td>\n      <td>3.6835</td>\n    </tr>\n    <tr>\n      <th>100</th>\n      <td>Perch</td>\n      <td>197.0</td>\n      <td>25.6</td>\n      <td>6.5610</td>\n      <td>4.2390</td>\n    </tr>\n    <tr>\n      <th>101</th>\n      <td>Perch</td>\n      <td>218.0</td>\n      <td>26.5</td>\n      <td>7.1680</td>\n      <td>4.1440</td>\n    </tr>\n    <tr>\n      <th>102</th>\n      <td>Perch</td>\n      <td>300.0</td>\n      <td>27.3</td>\n      <td>8.3230</td>\n      <td>5.1373</td>\n    </tr>\n    <tr>\n      <th>103</th>\n      <td>Perch</td>\n      <td>260.0</td>\n      <td>27.5</td>\n      <td>7.1672</td>\n      <td>4.3350</td>\n    </tr>\n    <tr>\n      <th>104</th>\n      <td>Perch</td>\n      <td>265.0</td>\n      <td>27.5</td>\n      <td>7.0516</td>\n      <td>4.3350</td>\n    </tr>\n    <tr>\n      <th>105</th>\n      <td>Perch</td>\n      <td>250.0</td>\n      <td>27.5</td>\n      <td>7.2828</td>\n      <td>4.5662</td>\n    </tr>\n    <tr>\n      <th>106</th>\n      <td>Perch</td>\n      <td>250.0</td>\n      <td>28.0</td>\n      <td>7.8204</td>\n      <td>4.2042</td>\n    </tr>\n    <tr>\n      <th>107</th>\n      <td>Perch</td>\n      <td>300.0</td>\n      <td>28.7</td>\n      <td>7.5852</td>\n      <td>4.6354</td>\n    </tr>\n    <tr>\n      <th>108</th>\n      <td>Perch</td>\n      <td>320.0</td>\n      <td>30.0</td>\n      <td>7.6156</td>\n      <td>4.7716</td>\n    </tr>\n    <tr>\n      <th>109</th>\n      <td>Perch</td>\n      <td>514.0</td>\n      <td>32.8</td>\n      <td>10.0300</td>\n      <td>6.0180</td>\n    </tr>\n    <tr>\n      <th>110</th>\n      <td>Perch</td>\n      <td>556.0</td>\n      <td>34.5</td>\n      <td>10.2565</td>\n      <td>6.3875</td>\n    </tr>\n    <tr>\n      <th>111</th>\n      <td>Perch</td>\n      <td>840.0</td>\n      <td>35.0</td>\n      <td>11.4884</td>\n      <td>7.7957</td>\n    </tr>\n    <tr>\n      <th>112</th>\n      <td>Perch</td>\n      <td>685.0</td>\n      <td>36.5</td>\n      <td>10.8810</td>\n      <td>6.8640</td>\n    </tr>\n    <tr>\n      <th>113</th>\n      <td>Perch</td>\n      <td>700.0</td>\n      <td>36.0</td>\n      <td>10.6091</td>\n      <td>6.7408</td>\n    </tr>\n    <tr>\n      <th>114</th>\n      <td>Perch</td>\n      <td>700.0</td>\n      <td>37.0</td>\n      <td>10.8350</td>\n      <td>6.2646</td>\n    </tr>\n    <tr>\n      <th>115</th>\n      <td>Perch</td>\n      <td>690.0</td>\n      <td>37.0</td>\n      <td>10.5717</td>\n      <td>6.3666</td>\n    </tr>\n    <tr>\n      <th>116</th>\n      <td>Perch</td>\n      <td>900.0</td>\n      <td>39.0</td>\n      <td>11.1366</td>\n      <td>7.4934</td>\n    </tr>\n    <tr>\n      <th>117</th>\n      <td>Perch</td>\n      <td>650.0</td>\n      <td>39.0</td>\n      <td>11.1366</td>\n      <td>6.0030</td>\n    </tr>\n    <tr>\n      <th>118</th>\n      <td>Perch</td>\n      <td>820.0</td>\n      <td>39.0</td>\n      <td>12.4313</td>\n      <td>7.3514</td>\n    </tr>\n    <tr>\n      <th>119</th>\n      <td>Perch</td>\n      <td>850.0</td>\n      <td>40.0</td>\n      <td>11.9286</td>\n      <td>7.1064</td>\n    </tr>\n    <tr>\n      <th>120</th>\n      <td>Perch</td>\n      <td>900.0</td>\n      <td>40.0</td>\n      <td>11.7300</td>\n      <td>7.2250</td>\n    </tr>\n    <tr>\n      <th>121</th>\n      <td>Perch</td>\n      <td>1015.0</td>\n      <td>40.0</td>\n      <td>12.3808</td>\n      <td>7.4624</td>\n    </tr>\n    <tr>\n      <th>122</th>\n      <td>Perch</td>\n      <td>820.0</td>\n      <td>40.0</td>\n      <td>11.1350</td>\n      <td>6.6300</td>\n    </tr>\n    <tr>\n      <th>123</th>\n      <td>Perch</td>\n      <td>1100.0</td>\n      <td>42.0</td>\n      <td>12.8002</td>\n      <td>6.8684</td>\n    </tr>\n    <tr>\n      <th>124</th>\n      <td>Perch</td>\n      <td>1000.0</td>\n      <td>43.0</td>\n      <td>11.9328</td>\n      <td>7.2772</td>\n    </tr>\n    <tr>\n      <th>125</th>\n      <td>Perch</td>\n      <td>1100.0</td>\n      <td>43.0</td>\n      <td>12.5125</td>\n      <td>7.4165</td>\n    </tr>\n    <tr>\n      <th>126</th>\n      <td>Perch</td>\n      <td>1000.0</td>\n      <td>43.5</td>\n      <td>12.6040</td>\n      <td>8.1420</td>\n    </tr>\n    <tr>\n      <th>127</th>\n      <td>Perch</td>\n      <td>1000.0</td>\n      <td>44.0</td>\n      <td>12.4888</td>\n      <td>7.5958</td>\n    </tr>\n  </tbody>\n</table>\n</div>"
     },
     "execution_count": 6,
     "metadata": {},
     "output_type": "execute_result"
    }
   ],
   "source": [
    "fishPerch = fishData[fishData[\"Species\"] == \"Perch\"]\n",
    "\n",
    "fishPerch"
   ],
   "metadata": {
    "collapsed": false,
    "pycharm": {
     "name": "#%%\n"
    }
   }
  },
  {
   "cell_type": "code",
   "execution_count": 32,
   "outputs": [],
   "source": [
    "perchLength = fishPerch[\"Length\"].to_numpy()\n",
    "perchLength = perchLength.reshape(-1, 1)\n",
    "\n",
    "perchWeight = fishPerch[\"Weight\"].to_numpy()\n",
    "perchWeight = perchWeight.reshape(-1, 1)\n",
    "\n",
    "perchTrainInput, perchTestInput, perchTrainTarget, perchTestTarget = train_test_split(perchLength, perchWeight, random_state=42)"
   ],
   "metadata": {
    "collapsed": false,
    "pycharm": {
     "name": "#%%\n"
    }
   }
  },
  {
   "cell_type": "code",
   "execution_count": 33,
   "outputs": [
    {
     "data": {
      "text/plain": "array([[  19.6 ,  384.16],\n       [  22.  ,  484.  ],\n       [  18.7 ,  349.69],\n       [  17.4 ,  302.76],\n       [  36.  , 1296.  ],\n       [  25.  ,  625.  ],\n       [  40.  , 1600.  ],\n       [  39.  , 1521.  ],\n       [  43.  , 1849.  ],\n       [  22.  ,  484.  ],\n       [  20.  ,  400.  ],\n       [  22.  ,  484.  ],\n       [  24.  ,  576.  ],\n       [  27.5 ,  756.25],\n       [  43.  , 1849.  ],\n       [  40.  , 1600.  ],\n       [  24.  ,  576.  ],\n       [  21.  ,  441.  ],\n       [  27.5 ,  756.25],\n       [  40.  , 1600.  ],\n       [  32.8 , 1075.84],\n       [  26.5 ,  702.25],\n       [  36.5 , 1332.25],\n       [  13.7 ,  187.69],\n       [  22.7 ,  515.29],\n       [  15.  ,  225.  ],\n       [  37.  , 1369.  ],\n       [  35.  , 1225.  ],\n       [  28.7 ,  823.69],\n       [  23.5 ,  552.25],\n       [  39.  , 1521.  ],\n       [  21.  ,  441.  ],\n       [  23.  ,  529.  ],\n       [  22.  ,  484.  ],\n       [  44.  , 1936.  ],\n       [  22.5 ,  506.25],\n       [  19.  ,  361.  ],\n       [  37.  , 1369.  ],\n       [  22.  ,  484.  ],\n       [  25.6 ,  655.36],\n       [  42.  , 1764.  ],\n       [  34.5 , 1190.25]])"
     },
     "execution_count": 33,
     "metadata": {},
     "output_type": "execute_result"
    }
   ],
   "source": [
    "polyD2 = PolynomialFeatures(degree=2, include_bias=False)\n",
    "\n",
    "perchTrainInput = polyD2.fit_transform(perchTrainInput)\n",
    "perchTestInput = polyD2.fit_transform(perchTestInput)\n",
    "perchTrainInput"
   ],
   "metadata": {
    "collapsed": false,
    "pycharm": {
     "name": "#%%\n"
    }
   }
  },
  {
   "cell_type": "code",
   "execution_count": 34,
   "outputs": [
    {
     "data": {
      "text/plain": "(LinearRegression(),)"
     },
     "execution_count": 34,
     "metadata": {},
     "output_type": "execute_result"
    }
   ],
   "source": [
    "perchModel = LinearRegression()\n",
    "perchModel.fit(perchTrainInput, perchTrainTarget),"
   ],
   "metadata": {
    "collapsed": false,
    "pycharm": {
     "name": "#%%\n"
    }
   }
  },
  {
   "cell_type": "code",
   "execution_count": 38,
   "outputs": [
    {
     "data": {
      "text/plain": "array([[2474.17030581]])"
     },
     "execution_count": 38,
     "metadata": {},
     "output_type": "execute_result"
    }
   ],
   "source": [
    "perchModel.predict([[60, 60 ** 2]])"
   ],
   "metadata": {
    "collapsed": false,
    "pycharm": {
     "name": "#%%\n"
    }
   }
  },
  {
   "cell_type": "code",
   "execution_count": 36,
   "outputs": [
    {
     "data": {
      "text/plain": "0.9775935108325123"
     },
     "execution_count": 36,
     "metadata": {},
     "output_type": "execute_result"
    }
   ],
   "source": [
    "perchModel.score(perchTestInput, perchTestTarget)"
   ],
   "metadata": {
    "collapsed": false,
    "pycharm": {
     "name": "#%%\n"
    }
   }
  },
  {
   "cell_type": "code",
   "execution_count": 37,
   "outputs": [
    {
     "name": "stdout",
     "output_type": "stream",
     "text": [
      "End\n"
     ]
    }
   ],
   "source": [
    "modelFile = open(\"./fishMarketPerchModel.pkl\", \"wb\")\n",
    "pickle.dump(perchModel, modelFile)\n",
    "\n",
    "modelFile.close()\n",
    "\n",
    "print(\"End\")"
   ],
   "metadata": {
    "collapsed": false,
    "pycharm": {
     "name": "#%%\n"
    }
   }
  },
  {
   "cell_type": "markdown",
   "source": [
    "# 도미인지 방어인지..?"
   ],
   "metadata": {
    "collapsed": false,
    "pycharm": {
     "name": "#%% md\n"
    }
   }
  },
  {
   "cell_type": "code",
   "execution_count": 55,
   "outputs": [],
   "source": [
    "# 도미 데이터\n",
    "fishBream = fishData[fishData[\"Species\"] == \"Bream\"]\n",
    "breamLength = fishBream[\"Length\"].to_numpy()\n",
    "breamLength = breamLength.reshape(-1, 1)\n",
    "\n",
    "breamWeight = fishBream[\"Weight\"].to_numpy()\n",
    "breamWeight = breamWeight.reshape(-1, 1)"
   ],
   "metadata": {
    "collapsed": false,
    "pycharm": {
     "name": "#%%\n"
    }
   }
  },
  {
   "cell_type": "code",
   "execution_count": 56,
   "outputs": [
    {
     "data": {
      "text/plain": "array([[ 6.7],\n       [ 7.5],\n       [ 7. ],\n       [ 9.7],\n       [ 9.8],\n       [ 8.7],\n       [10. ],\n       [ 9.9],\n       [ 9.8],\n       [12.2],\n       [13.4],\n       [12.2],\n       [19.7],\n       [19.9]])"
     },
     "execution_count": 56,
     "metadata": {},
     "output_type": "execute_result"
    }
   ],
   "source": [
    "# 빙어 데이터\n",
    "fishSmelt = fishData[fishData[\"Species\"] == \"Smelt\"]\n",
    "\n",
    "smeltLength = fishSmelt[\"Length\"].to_numpy()\n",
    "smeltLength = smeltLength.reshape(-1, 1)\n",
    "\n",
    "smeltWeight = fishSmelt[\"Weight\"].to_numpy()\n",
    "smeltWeight = smeltWeight.reshape(-1, 1)\n",
    "\n",
    "smeltWeight"
   ],
   "metadata": {
    "collapsed": false,
    "pycharm": {
     "name": "#%%\n"
    }
   }
  },
  {
   "cell_type": "code",
   "execution_count": 61,
   "outputs": [
    {
     "name": "stdout",
     "output_type": "stream",
     "text": [
      "(49, 1)\n"
     ]
    },
    {
     "data": {
      "text/plain": "array([[25.4],\n       [26.3],\n       [26.5],\n       [29. ],\n       [29. ],\n       [29.7],\n       [29.7],\n       [30. ],\n       [30. ],\n       [30.7],\n       [31. ],\n       [31. ],\n       [31.5],\n       [32. ],\n       [32. ],\n       [32. ],\n       [33. ],\n       [33. ],\n       [33.5],\n       [33.5],\n       [34. ],\n       [34. ],\n       [34.5],\n       [35. ],\n       [35. ],\n       [35. ],\n       [35. ],\n       [36. ],\n       [36. ],\n       [37. ],\n       [38.5],\n       [38.5],\n       [39.5],\n       [41. ],\n       [41. ],\n       [ 9.8],\n       [10.5],\n       [10.6],\n       [11. ],\n       [11.2],\n       [11.3],\n       [11.8],\n       [11.8],\n       [12. ],\n       [12.2],\n       [12.4],\n       [13. ],\n       [14.3],\n       [15. ]])"
     },
     "execution_count": 61,
     "metadata": {},
     "output_type": "execute_result"
    }
   ],
   "source": [
    "lengthBreamSmelt = np.concatenate([breamLength, smeltLength], axis = 0)\n",
    "print(lengthBreamSmelt.shape)\n",
    "\n",
    "lengthBreamSmelt"
   ],
   "metadata": {
    "collapsed": false,
    "pycharm": {
     "name": "#%%\n"
    }
   }
  },
  {
   "cell_type": "markdown",
   "source": [],
   "metadata": {
    "collapsed": false,
    "pycharm": {
     "name": "#%% md\n"
    }
   }
  },
  {
   "cell_type": "code",
   "execution_count": 62,
   "outputs": [
    {
     "name": "stdout",
     "output_type": "stream",
     "text": [
      "(49, 1)\n"
     ]
    },
    {
     "data": {
      "text/plain": "array([[ 242. ],\n       [ 290. ],\n       [ 340. ],\n       [ 363. ],\n       [ 430. ],\n       [ 450. ],\n       [ 500. ],\n       [ 390. ],\n       [ 450. ],\n       [ 500. ],\n       [ 475. ],\n       [ 500. ],\n       [ 500. ],\n       [ 340. ],\n       [ 600. ],\n       [ 600. ],\n       [ 700. ],\n       [ 700. ],\n       [ 610. ],\n       [ 650. ],\n       [ 575. ],\n       [ 685. ],\n       [ 620. ],\n       [ 680. ],\n       [ 700. ],\n       [ 725. ],\n       [ 720. ],\n       [ 714. ],\n       [ 850. ],\n       [1000. ],\n       [ 920. ],\n       [ 955. ],\n       [ 925. ],\n       [ 975. ],\n       [ 950. ],\n       [   6.7],\n       [   7.5],\n       [   7. ],\n       [   9.7],\n       [   9.8],\n       [   8.7],\n       [  10. ],\n       [   9.9],\n       [   9.8],\n       [  12.2],\n       [  13.4],\n       [  12.2],\n       [  19.7],\n       [  19.9]])"
     },
     "execution_count": 62,
     "metadata": {},
     "output_type": "execute_result"
    }
   ],
   "source": [
    "weightBreamSmelt = np.concatenate([breamWeight, breamWeight], axis=0)\n",
    "print(weightBreamSmelt.shape)\n",
    "\n",
    "weightBreamSmelt"
   ],
   "metadata": {
    "collapsed": false,
    "pycharm": {
     "name": "#%%\n"
    }
   }
  },
  {
   "cell_type": "code",
   "execution_count": 65,
   "outputs": [
    {
     "data": {
      "text/plain": "array([[  25.4,  242. ],\n       [  26.3,  290. ],\n       [  26.5,  340. ],\n       [  29. ,  363. ],\n       [  29. ,  430. ],\n       [  29.7,  450. ],\n       [  29.7,  500. ],\n       [  30. ,  390. ],\n       [  30. ,  450. ],\n       [  30.7,  500. ],\n       [  31. ,  475. ],\n       [  31. ,  500. ],\n       [  31.5,  500. ],\n       [  32. ,  340. ],\n       [  32. ,  600. ],\n       [  32. ,  600. ],\n       [  33. ,  700. ],\n       [  33. ,  700. ],\n       [  33.5,  610. ],\n       [  33.5,  650. ],\n       [  34. ,  575. ],\n       [  34. ,  685. ],\n       [  34.5,  620. ],\n       [  35. ,  680. ],\n       [  35. ,  700. ],\n       [  35. ,  725. ],\n       [  35. ,  720. ],\n       [  36. ,  714. ],\n       [  36. ,  850. ],\n       [  37. , 1000. ],\n       [  38.5,  920. ],\n       [  38.5,  955. ],\n       [  39.5,  925. ],\n       [  41. ,  975. ],\n       [  41. ,  950. ],\n       [   9.8,    6.7],\n       [  10.5,    7.5],\n       [  10.6,    7. ],\n       [  11. ,    9.7],\n       [  11.2,    9.8],\n       [  11.3,    8.7],\n       [  11.8,   10. ],\n       [  11.8,    9.9],\n       [  12. ,    9.8],\n       [  12.2,   12.2],\n       [  12.4,   13.4],\n       [  13. ,   12.2],\n       [  14.3,   19.7],\n       [  15. ,   19.9]])"
     },
     "execution_count": 65,
     "metadata": {},
     "output_type": "execute_result"
    }
   ],
   "source": [
    "data_input = np.concatenate([lengthBreamSmelt, weightBreamSmelt], axis=1)\n",
    "data_input"
   ],
   "metadata": {
    "collapsed": false,
    "pycharm": {
     "name": "#%%\n"
    }
   }
  },
  {
   "cell_type": "code",
   "execution_count": 83,
   "outputs": [],
   "source": [
    "scalerStd = StandardScaler()\n",
    "scalerStd.fit(data_input)\n",
    "\n",
    "data_input = scalerStd.transform(data_input)"
   ],
   "metadata": {
    "collapsed": false,
    "pycharm": {
     "name": "#%%\n"
    }
   }
  },
  {
   "cell_type": "code",
   "execution_count": 84,
   "outputs": [
    {
     "name": "stdout",
     "output_type": "stream",
     "text": [
      "(49,)\n"
     ]
    }
   ],
   "source": [
    "targetBream = np.ones(35)\n",
    "targetSmelt = np.zeros(14)\n",
    "\n",
    "data_target = np.concatenate([targetBream, targetSmelt])\n",
    "print(data_target.shape)"
   ],
   "metadata": {
    "collapsed": false,
    "pycharm": {
     "name": "#%%\n"
    }
   }
  },
  {
   "cell_type": "code",
   "execution_count": 85,
   "outputs": [
    {
     "name": "stdout",
     "output_type": "stream",
     "text": [
      "[1. 0. 1. 0. 1. 1. 1. 1. 1. 1. 1. 0. 1. 0. 1. 1. 1. 1. 1. 0. 1. 1. 0. 1.\n",
      " 0. 1. 0. 1. 1. 1. 0. 1. 1. 0. 1. 1.]\n",
      "[0. 0. 1. 0. 1. 0. 1. 1. 1. 1. 1. 1. 1.]\n"
     ]
    }
   ],
   "source": [
    "trainInput, testInput, trainTarget, testTarget = train_test_split(data_input, data_target, stratify=data_target, random_state=42)\n",
    "\n",
    "print(trainTarget)\n",
    "print(testTarget)"
   ],
   "metadata": {
    "collapsed": false,
    "pycharm": {
     "name": "#%%\n"
    }
   }
  },
  {
   "cell_type": "code",
   "execution_count": 86,
   "outputs": [
    {
     "data": {
      "text/plain": "KNeighborsRegressor()"
     },
     "execution_count": 86,
     "metadata": {},
     "output_type": "execute_result"
    }
   ],
   "source": [
    "breamSmeltModel = KNeighborsRegressor()\n",
    "breamSmeltModel.fit(trainInput, trainTarget)"
   ],
   "metadata": {
    "collapsed": false,
    "pycharm": {
     "name": "#%%\n"
    }
   }
  },
  {
   "cell_type": "code",
   "execution_count": 92,
   "outputs": [
    {
     "data": {
      "text/plain": "array([[21, 14, 34, 32,  5]], dtype=int64)"
     },
     "execution_count": 92,
     "metadata": {},
     "output_type": "execute_result"
    }
   ],
   "source": [
    "input = scalerStd.transform([[25, 150]])\n",
    "breamSmeltModel.kneighbors(input, return_distance=False)"
   ],
   "metadata": {
    "collapsed": false,
    "pycharm": {
     "name": "#%%\n"
    }
   }
  },
  {
   "cell_type": "code",
   "execution_count": 93,
   "outputs": [
    {
     "data": {
      "text/plain": "1.0"
     },
     "execution_count": 93,
     "metadata": {},
     "output_type": "execute_result"
    }
   ],
   "source": [
    "breamSmeltModel.score(testInput, testTarget)"
   ],
   "metadata": {
    "collapsed": false,
    "pycharm": {
     "name": "#%%\n"
    }
   }
  },
  {
   "cell_type": "code",
   "execution_count": 94,
   "outputs": [
    {
     "name": "stdout",
     "output_type": "stream",
     "text": [
      "End\n"
     ]
    }
   ],
   "source": [
    "modelFile = open(\"./fishMarketBreamSmeltModel.pkl\", \"wb\")\n",
    "pickle.dump(breamSmeltModel, modelFile)\n",
    "\n",
    "modelFile.close()\n",
    "\n",
    "print(\"End\")"
   ],
   "metadata": {
    "collapsed": false,
    "pycharm": {
     "name": "#%%\n"
    }
   }
  },
  {
   "cell_type": "code",
   "execution_count": 95,
   "outputs": [
    {
     "name": "stdout",
     "output_type": "stream",
     "text": [
      "End\n"
     ]
    }
   ],
   "source": [
    "modelFile = open(\"./fishMarketBreamSmeltScaled.pkl\", \"wb\")\n",
    "pickle.dump(scalerStd, modelFile)\n",
    "modelFile.close()\n",
    "\n",
    "print(\"End\")"
   ],
   "metadata": {
    "collapsed": false,
    "pycharm": {
     "name": "#%%\n"
    }
   }
  }
 ],
 "metadata": {
  "kernelspec": {
   "display_name": "Python 3",
   "language": "python",
   "name": "python3"
  },
  "language_info": {
   "codemirror_mode": {
    "name": "ipython",
    "version": 2
   },
   "file_extension": ".py",
   "mimetype": "text/x-python",
   "name": "python",
   "nbconvert_exporter": "python",
   "pygments_lexer": "ipython2",
   "version": "2.7.6"
  }
 },
 "nbformat": 4,
 "nbformat_minor": 0
}