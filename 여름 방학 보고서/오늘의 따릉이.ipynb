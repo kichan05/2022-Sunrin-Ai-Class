{
 "cells": [
  {
   "cell_type": "code",
   "execution_count": 37,
   "outputs": [
    {
     "name": "stdout",
     "output_type": "stream",
     "text": [
      "Hello World\n"
     ]
    }
   ],
   "source": [
    "import pandas as pd\n",
    "import matplotlib.pyplot as plt\n",
    "import numpy as np\n",
    "import joblib\n",
    "\n",
    "print(\"Hello World\")"
   ],
   "metadata": {
    "collapsed": false,
    "pycharm": {
     "name": "#%%\n"
    }
   }
  },
  {
   "cell_type": "markdown",
   "source": [
    "#"
   ],
   "metadata": {
    "collapsed": false,
    "pycharm": {
     "name": "#%% md\n"
    }
   }
  },
  {
   "cell_type": "code",
   "execution_count": 3,
   "outputs": [
    {
     "data": {
      "text/plain": "           대여일자   대여건수  평균기온  강수량 요일\n0    2018-01-01   4950  -1.3  NaN  월\n1    2018-01-02   7136  -1.8  NaN  화\n2    2018-01-03   7156  -4.7  NaN  수\n3    2018-01-04   7102  -4.7  NaN  목\n4    2018-01-05   7705  -3.0  NaN  금\n..          ...    ...   ...  ... ..\n450  2019-03-27  35832  11.6  NaN  수\n451  2019-03-28  38806   9.4  NaN  목\n452  2019-03-29  43893   9.2  NaN  금\n453  2019-03-30  14001   5.2  1.8  토\n454  2019-03-31  22326   4.4  0.0  일\n\n[455 rows x 5 columns]",
      "text/html": "<div>\n<style scoped>\n    .dataframe tbody tr th:only-of-type {\n        vertical-align: middle;\n    }\n\n    .dataframe tbody tr th {\n        vertical-align: top;\n    }\n\n    .dataframe thead th {\n        text-align: right;\n    }\n</style>\n<table border=\"1\" class=\"dataframe\">\n  <thead>\n    <tr style=\"text-align: right;\">\n      <th></th>\n      <th>대여일자</th>\n      <th>대여건수</th>\n      <th>평균기온</th>\n      <th>강수량</th>\n      <th>요일</th>\n    </tr>\n  </thead>\n  <tbody>\n    <tr>\n      <th>0</th>\n      <td>2018-01-01</td>\n      <td>4950</td>\n      <td>-1.3</td>\n      <td>NaN</td>\n      <td>월</td>\n    </tr>\n    <tr>\n      <th>1</th>\n      <td>2018-01-02</td>\n      <td>7136</td>\n      <td>-1.8</td>\n      <td>NaN</td>\n      <td>화</td>\n    </tr>\n    <tr>\n      <th>2</th>\n      <td>2018-01-03</td>\n      <td>7156</td>\n      <td>-4.7</td>\n      <td>NaN</td>\n      <td>수</td>\n    </tr>\n    <tr>\n      <th>3</th>\n      <td>2018-01-04</td>\n      <td>7102</td>\n      <td>-4.7</td>\n      <td>NaN</td>\n      <td>목</td>\n    </tr>\n    <tr>\n      <th>4</th>\n      <td>2018-01-05</td>\n      <td>7705</td>\n      <td>-3.0</td>\n      <td>NaN</td>\n      <td>금</td>\n    </tr>\n    <tr>\n      <th>...</th>\n      <td>...</td>\n      <td>...</td>\n      <td>...</td>\n      <td>...</td>\n      <td>...</td>\n    </tr>\n    <tr>\n      <th>450</th>\n      <td>2019-03-27</td>\n      <td>35832</td>\n      <td>11.6</td>\n      <td>NaN</td>\n      <td>수</td>\n    </tr>\n    <tr>\n      <th>451</th>\n      <td>2019-03-28</td>\n      <td>38806</td>\n      <td>9.4</td>\n      <td>NaN</td>\n      <td>목</td>\n    </tr>\n    <tr>\n      <th>452</th>\n      <td>2019-03-29</td>\n      <td>43893</td>\n      <td>9.2</td>\n      <td>NaN</td>\n      <td>금</td>\n    </tr>\n    <tr>\n      <th>453</th>\n      <td>2019-03-30</td>\n      <td>14001</td>\n      <td>5.2</td>\n      <td>1.8</td>\n      <td>토</td>\n    </tr>\n    <tr>\n      <th>454</th>\n      <td>2019-03-31</td>\n      <td>22326</td>\n      <td>4.4</td>\n      <td>0.0</td>\n      <td>일</td>\n    </tr>\n  </tbody>\n</table>\n<p>455 rows × 5 columns</p>\n</div>"
     },
     "execution_count": 3,
     "metadata": {},
     "output_type": "execute_result"
    }
   ],
   "source": [
    "bike_data = pd.read_csv(\"seoule_bike_2018_2019.csv\", encoding=\"cp949\")\n",
    "\n",
    "bike_data"
   ],
   "metadata": {
    "collapsed": false,
    "pycharm": {
     "name": "#%%\n"
    }
   }
  },
  {
   "cell_type": "markdown",
   "source": [
    "# 데이터 전처리"
   ],
   "metadata": {
    "collapsed": false,
    "pycharm": {
     "name": "#%% md\n"
    }
   }
  },
  {
   "cell_type": "code",
   "execution_count": 7,
   "outputs": [
    {
     "data": {
      "text/plain": "           대여일자   대여건수  평균기온  강수량 요일\n0    2018-01-01   4950  -1.3  0.0  월\n1    2018-01-02   7136  -1.8  0.0  화\n2    2018-01-03   7156  -4.7  0.0  수\n3    2018-01-04   7102  -4.7  0.0  목\n4    2018-01-05   7705  -3.0  0.0  금\n..          ...    ...   ...  ... ..\n450  2019-03-27  35832  11.6  0.0  수\n451  2019-03-28  38806   9.4  0.0  목\n452  2019-03-29  43893   9.2  0.0  금\n453  2019-03-30  14001   5.2  1.8  토\n454  2019-03-31  22326   4.4  0.0  일\n\n[455 rows x 5 columns]",
      "text/html": "<div>\n<style scoped>\n    .dataframe tbody tr th:only-of-type {\n        vertical-align: middle;\n    }\n\n    .dataframe tbody tr th {\n        vertical-align: top;\n    }\n\n    .dataframe thead th {\n        text-align: right;\n    }\n</style>\n<table border=\"1\" class=\"dataframe\">\n  <thead>\n    <tr style=\"text-align: right;\">\n      <th></th>\n      <th>대여일자</th>\n      <th>대여건수</th>\n      <th>평균기온</th>\n      <th>강수량</th>\n      <th>요일</th>\n    </tr>\n  </thead>\n  <tbody>\n    <tr>\n      <th>0</th>\n      <td>2018-01-01</td>\n      <td>4950</td>\n      <td>-1.3</td>\n      <td>0.0</td>\n      <td>월</td>\n    </tr>\n    <tr>\n      <th>1</th>\n      <td>2018-01-02</td>\n      <td>7136</td>\n      <td>-1.8</td>\n      <td>0.0</td>\n      <td>화</td>\n    </tr>\n    <tr>\n      <th>2</th>\n      <td>2018-01-03</td>\n      <td>7156</td>\n      <td>-4.7</td>\n      <td>0.0</td>\n      <td>수</td>\n    </tr>\n    <tr>\n      <th>3</th>\n      <td>2018-01-04</td>\n      <td>7102</td>\n      <td>-4.7</td>\n      <td>0.0</td>\n      <td>목</td>\n    </tr>\n    <tr>\n      <th>4</th>\n      <td>2018-01-05</td>\n      <td>7705</td>\n      <td>-3.0</td>\n      <td>0.0</td>\n      <td>금</td>\n    </tr>\n    <tr>\n      <th>...</th>\n      <td>...</td>\n      <td>...</td>\n      <td>...</td>\n      <td>...</td>\n      <td>...</td>\n    </tr>\n    <tr>\n      <th>450</th>\n      <td>2019-03-27</td>\n      <td>35832</td>\n      <td>11.6</td>\n      <td>0.0</td>\n      <td>수</td>\n    </tr>\n    <tr>\n      <th>451</th>\n      <td>2019-03-28</td>\n      <td>38806</td>\n      <td>9.4</td>\n      <td>0.0</td>\n      <td>목</td>\n    </tr>\n    <tr>\n      <th>452</th>\n      <td>2019-03-29</td>\n      <td>43893</td>\n      <td>9.2</td>\n      <td>0.0</td>\n      <td>금</td>\n    </tr>\n    <tr>\n      <th>453</th>\n      <td>2019-03-30</td>\n      <td>14001</td>\n      <td>5.2</td>\n      <td>1.8</td>\n      <td>토</td>\n    </tr>\n    <tr>\n      <th>454</th>\n      <td>2019-03-31</td>\n      <td>22326</td>\n      <td>4.4</td>\n      <td>0.0</td>\n      <td>일</td>\n    </tr>\n  </tbody>\n</table>\n<p>455 rows × 5 columns</p>\n</div>"
     },
     "execution_count": 7,
     "metadata": {},
     "output_type": "execute_result"
    }
   ],
   "source": [
    "df_bike = bike_data.fillna(0) # 강수량 결측치 처리\n",
    "df_bike"
   ],
   "metadata": {
    "collapsed": false,
    "pycharm": {
     "name": "#%%\n"
    }
   }
  },
  {
   "cell_type": "code",
   "execution_count": 9,
   "outputs": [],
   "source": [
    "plt.rc(\"font\", family=\"Malgun Gothic\")\n",
    "plt.rcParams[\"axes.unicode_minus\"] = False\n",
    "\n",
    "#  폰트 깨짐 처리"
   ],
   "metadata": {
    "collapsed": false,
    "pycharm": {
     "name": "#%%\n"
    }
   }
  },
  {
   "cell_type": "code",
   "execution_count": 11,
   "outputs": [
    {
     "data": {
      "text/plain": "      대여건수  평균기온  강수량  금  목  수  월  일  토  화\n0     4950  -1.3  0.0  0  0  0  1  0  0  0\n1     7136  -1.8  0.0  0  0  0  0  0  0  1\n2     7156  -4.7  0.0  0  0  1  0  0  0  0\n3     7102  -4.7  0.0  0  1  0  0  0  0  0\n4     7705  -3.0  0.0  1  0  0  0  0  0  0\n..     ...   ...  ... .. .. .. .. .. .. ..\n450  35832  11.6  0.0  0  0  1  0  0  0  0\n451  38806   9.4  0.0  0  1  0  0  0  0  0\n452  43893   9.2  0.0  1  0  0  0  0  0  0\n453  14001   5.2  1.8  0  0  0  0  0  1  0\n454  22326   4.4  0.0  0  0  0  0  1  0  0\n\n[455 rows x 10 columns]",
      "text/html": "<div>\n<style scoped>\n    .dataframe tbody tr th:only-of-type {\n        vertical-align: middle;\n    }\n\n    .dataframe tbody tr th {\n        vertical-align: top;\n    }\n\n    .dataframe thead th {\n        text-align: right;\n    }\n</style>\n<table border=\"1\" class=\"dataframe\">\n  <thead>\n    <tr style=\"text-align: right;\">\n      <th></th>\n      <th>대여건수</th>\n      <th>평균기온</th>\n      <th>강수량</th>\n      <th>금</th>\n      <th>목</th>\n      <th>수</th>\n      <th>월</th>\n      <th>일</th>\n      <th>토</th>\n      <th>화</th>\n    </tr>\n  </thead>\n  <tbody>\n    <tr>\n      <th>0</th>\n      <td>4950</td>\n      <td>-1.3</td>\n      <td>0.0</td>\n      <td>0</td>\n      <td>0</td>\n      <td>0</td>\n      <td>1</td>\n      <td>0</td>\n      <td>0</td>\n      <td>0</td>\n    </tr>\n    <tr>\n      <th>1</th>\n      <td>7136</td>\n      <td>-1.8</td>\n      <td>0.0</td>\n      <td>0</td>\n      <td>0</td>\n      <td>0</td>\n      <td>0</td>\n      <td>0</td>\n      <td>0</td>\n      <td>1</td>\n    </tr>\n    <tr>\n      <th>2</th>\n      <td>7156</td>\n      <td>-4.7</td>\n      <td>0.0</td>\n      <td>0</td>\n      <td>0</td>\n      <td>1</td>\n      <td>0</td>\n      <td>0</td>\n      <td>0</td>\n      <td>0</td>\n    </tr>\n    <tr>\n      <th>3</th>\n      <td>7102</td>\n      <td>-4.7</td>\n      <td>0.0</td>\n      <td>0</td>\n      <td>1</td>\n      <td>0</td>\n      <td>0</td>\n      <td>0</td>\n      <td>0</td>\n      <td>0</td>\n    </tr>\n    <tr>\n      <th>4</th>\n      <td>7705</td>\n      <td>-3.0</td>\n      <td>0.0</td>\n      <td>1</td>\n      <td>0</td>\n      <td>0</td>\n      <td>0</td>\n      <td>0</td>\n      <td>0</td>\n      <td>0</td>\n    </tr>\n    <tr>\n      <th>...</th>\n      <td>...</td>\n      <td>...</td>\n      <td>...</td>\n      <td>...</td>\n      <td>...</td>\n      <td>...</td>\n      <td>...</td>\n      <td>...</td>\n      <td>...</td>\n      <td>...</td>\n    </tr>\n    <tr>\n      <th>450</th>\n      <td>35832</td>\n      <td>11.6</td>\n      <td>0.0</td>\n      <td>0</td>\n      <td>0</td>\n      <td>1</td>\n      <td>0</td>\n      <td>0</td>\n      <td>0</td>\n      <td>0</td>\n    </tr>\n    <tr>\n      <th>451</th>\n      <td>38806</td>\n      <td>9.4</td>\n      <td>0.0</td>\n      <td>0</td>\n      <td>1</td>\n      <td>0</td>\n      <td>0</td>\n      <td>0</td>\n      <td>0</td>\n      <td>0</td>\n    </tr>\n    <tr>\n      <th>452</th>\n      <td>43893</td>\n      <td>9.2</td>\n      <td>0.0</td>\n      <td>1</td>\n      <td>0</td>\n      <td>0</td>\n      <td>0</td>\n      <td>0</td>\n      <td>0</td>\n      <td>0</td>\n    </tr>\n    <tr>\n      <th>453</th>\n      <td>14001</td>\n      <td>5.2</td>\n      <td>1.8</td>\n      <td>0</td>\n      <td>0</td>\n      <td>0</td>\n      <td>0</td>\n      <td>0</td>\n      <td>1</td>\n      <td>0</td>\n    </tr>\n    <tr>\n      <th>454</th>\n      <td>22326</td>\n      <td>4.4</td>\n      <td>0.0</td>\n      <td>0</td>\n      <td>0</td>\n      <td>0</td>\n      <td>0</td>\n      <td>1</td>\n      <td>0</td>\n      <td>0</td>\n    </tr>\n  </tbody>\n</table>\n<p>455 rows × 10 columns</p>\n</div>"
     },
     "execution_count": 11,
     "metadata": {},
     "output_type": "execute_result"
    }
   ],
   "source": [
    "one_hot_week = pd.get_dummies(df_bike[\"요일\"])\n",
    "# get_dummies() 함수는 원핫인코딩 해준다.\n",
    "\n",
    "df_bike_new = pd.concat([df_bike, one_hot_week], axis=1)\n",
    "# 원핫 인코딩된 요일 df를 기존df에 붙여준다.\n",
    "# 이때 axis를 1로 주면 열로 붙인다\n",
    "\n",
    "df_bike_new.drop([\"대여일자\"], axis = 1, inplace=True)\n",
    "df_bike_new.drop([\"요일\"], axis = 1, inplace=True)\n",
    "# 필요 없는 대여 일자와 요일은 지워준다\n",
    "\n",
    "df_bike_new"
   ],
   "metadata": {
    "collapsed": false,
    "pycharm": {
     "name": "#%%\n"
    }
   }
  },
  {
   "cell_type": "code",
   "execution_count": 15,
   "outputs": [
    {
     "name": "stdout",
     "output_type": "stream",
     "text": [
      "(455, 9)\n"
     ]
    },
    {
     "data": {
      "text/plain": "     평균기온  강수량  금  목  수  월  일  토  화\n0    -1.3  0.0  0  0  0  1  0  0  0\n1    -1.8  0.0  0  0  0  0  0  0  1\n2    -4.7  0.0  0  0  1  0  0  0  0\n3    -4.7  0.0  0  1  0  0  0  0  0\n4    -3.0  0.0  1  0  0  0  0  0  0\n..    ...  ... .. .. .. .. .. .. ..\n450  11.6  0.0  0  0  1  0  0  0  0\n451   9.4  0.0  0  1  0  0  0  0  0\n452   9.2  0.0  1  0  0  0  0  0  0\n453   5.2  1.8  0  0  0  0  0  1  0\n454   4.4  0.0  0  0  0  0  1  0  0\n\n[455 rows x 9 columns]",
      "text/html": "<div>\n<style scoped>\n    .dataframe tbody tr th:only-of-type {\n        vertical-align: middle;\n    }\n\n    .dataframe tbody tr th {\n        vertical-align: top;\n    }\n\n    .dataframe thead th {\n        text-align: right;\n    }\n</style>\n<table border=\"1\" class=\"dataframe\">\n  <thead>\n    <tr style=\"text-align: right;\">\n      <th></th>\n      <th>평균기온</th>\n      <th>강수량</th>\n      <th>금</th>\n      <th>목</th>\n      <th>수</th>\n      <th>월</th>\n      <th>일</th>\n      <th>토</th>\n      <th>화</th>\n    </tr>\n  </thead>\n  <tbody>\n    <tr>\n      <th>0</th>\n      <td>-1.3</td>\n      <td>0.0</td>\n      <td>0</td>\n      <td>0</td>\n      <td>0</td>\n      <td>1</td>\n      <td>0</td>\n      <td>0</td>\n      <td>0</td>\n    </tr>\n    <tr>\n      <th>1</th>\n      <td>-1.8</td>\n      <td>0.0</td>\n      <td>0</td>\n      <td>0</td>\n      <td>0</td>\n      <td>0</td>\n      <td>0</td>\n      <td>0</td>\n      <td>1</td>\n    </tr>\n    <tr>\n      <th>2</th>\n      <td>-4.7</td>\n      <td>0.0</td>\n      <td>0</td>\n      <td>0</td>\n      <td>1</td>\n      <td>0</td>\n      <td>0</td>\n      <td>0</td>\n      <td>0</td>\n    </tr>\n    <tr>\n      <th>3</th>\n      <td>-4.7</td>\n      <td>0.0</td>\n      <td>0</td>\n      <td>1</td>\n      <td>0</td>\n      <td>0</td>\n      <td>0</td>\n      <td>0</td>\n      <td>0</td>\n    </tr>\n    <tr>\n      <th>4</th>\n      <td>-3.0</td>\n      <td>0.0</td>\n      <td>1</td>\n      <td>0</td>\n      <td>0</td>\n      <td>0</td>\n      <td>0</td>\n      <td>0</td>\n      <td>0</td>\n    </tr>\n    <tr>\n      <th>...</th>\n      <td>...</td>\n      <td>...</td>\n      <td>...</td>\n      <td>...</td>\n      <td>...</td>\n      <td>...</td>\n      <td>...</td>\n      <td>...</td>\n      <td>...</td>\n    </tr>\n    <tr>\n      <th>450</th>\n      <td>11.6</td>\n      <td>0.0</td>\n      <td>0</td>\n      <td>0</td>\n      <td>1</td>\n      <td>0</td>\n      <td>0</td>\n      <td>0</td>\n      <td>0</td>\n    </tr>\n    <tr>\n      <th>451</th>\n      <td>9.4</td>\n      <td>0.0</td>\n      <td>0</td>\n      <td>1</td>\n      <td>0</td>\n      <td>0</td>\n      <td>0</td>\n      <td>0</td>\n      <td>0</td>\n    </tr>\n    <tr>\n      <th>452</th>\n      <td>9.2</td>\n      <td>0.0</td>\n      <td>1</td>\n      <td>0</td>\n      <td>0</td>\n      <td>0</td>\n      <td>0</td>\n      <td>0</td>\n      <td>0</td>\n    </tr>\n    <tr>\n      <th>453</th>\n      <td>5.2</td>\n      <td>1.8</td>\n      <td>0</td>\n      <td>0</td>\n      <td>0</td>\n      <td>0</td>\n      <td>0</td>\n      <td>1</td>\n      <td>0</td>\n    </tr>\n    <tr>\n      <th>454</th>\n      <td>4.4</td>\n      <td>0.0</td>\n      <td>0</td>\n      <td>0</td>\n      <td>0</td>\n      <td>0</td>\n      <td>1</td>\n      <td>0</td>\n      <td>0</td>\n    </tr>\n  </tbody>\n</table>\n<p>455 rows × 9 columns</p>\n</div>"
     },
     "execution_count": 15,
     "metadata": {},
     "output_type": "execute_result"
    }
   ],
   "source": [
    "data_input = df_bike_new.drop([\"대여건수\"], axis=1)\n",
    "print(data_input.shape)\n",
    "data_input"
   ],
   "metadata": {
    "collapsed": false,
    "pycharm": {
     "name": "#%%\n"
    }
   }
  },
  {
   "cell_type": "code",
   "execution_count": 16,
   "outputs": [
    {
     "name": "stdout",
     "output_type": "stream",
     "text": [
      "(455,)\n"
     ]
    },
    {
     "data": {
      "text/plain": "0       4950\n1       7136\n2       7156\n3       7102\n4       7705\n       ...  \n450    35832\n451    38806\n452    43893\n453    14001\n454    22326\nName: 대여건수, Length: 455, dtype: int64"
     },
     "execution_count": 16,
     "metadata": {},
     "output_type": "execute_result"
    }
   ],
   "source": [
    "data_target = df_bike[\"대여건수\"]\n",
    "print(data_target.shape)\n",
    "data_target"
   ],
   "metadata": {
    "collapsed": false,
    "pycharm": {
     "name": "#%%\n"
    }
   }
  },
  {
   "cell_type": "markdown",
   "source": [
    "# 모델 학습"
   ],
   "metadata": {
    "collapsed": false,
    "pycharm": {
     "name": "#%% md\n"
    }
   }
  },
  {
   "cell_type": "code",
   "execution_count": 17,
   "outputs": [
    {
     "name": "stdout",
     "output_type": "stream",
     "text": [
      "(341, 9) (341,)\n",
      "(114, 9) (114,)\n"
     ]
    }
   ],
   "source": [
    "from sklearn.model_selection import train_test_split\n",
    "\n",
    "input_train, input_test, target_train, target_test = train_test_split(data_input, data_target, shuffle=True)\n",
    "\n",
    "print(input_train.shape, target_train.shape)\n",
    "print(input_test.shape, target_test.shape)"
   ],
   "metadata": {
    "collapsed": false,
    "pycharm": {
     "name": "#%%\n"
    }
   }
  },
  {
   "cell_type": "code",
   "execution_count": 18,
   "outputs": [
    {
     "data": {
      "text/plain": "LinearRegression()"
     },
     "execution_count": 18,
     "metadata": {},
     "output_type": "execute_result"
    }
   ],
   "source": [
    "from sklearn.linear_model import LinearRegression\n",
    "\n",
    "model_lr = LinearRegression()\n",
    "model_lr.fit(input_train, target_train)"
   ],
   "metadata": {
    "collapsed": false,
    "pycharm": {
     "name": "#%%\n"
    }
   }
  },
  {
   "cell_type": "code",
   "execution_count": 21,
   "outputs": [],
   "source": [
    "# 모델 평가"
   ],
   "metadata": {
    "collapsed": false,
    "pycharm": {
     "name": "#%%\n"
    }
   }
  },
  {
   "cell_type": "code",
   "execution_count": 19,
   "outputs": [
    {
     "data": {
      "text/plain": "<Figure size 432x288 with 1 Axes>",
      "image/png": "[encoded data removed]"
     },
     "metadata": {
      "needs_background": "light"
     },
     "output_type": "display_data"
    }
   ],
   "source": [
    "x = np.arange(np.min(target_test), np.max(target_test) + 1)\n",
    "\n",
    "plt.plot(x, x, \"r--\")\n",
    "#\n",
    "\n",
    "plt.scatter(target_test, model_lr.predict(input_test))\n",
    "# 실제 값, 예측한 값을 비교한다.\n",
    "\n",
    "plt.xlabel(\"실제 대여 건수\")\n",
    "plt.ylabel(\"예측 대여 건수\")\n",
    "\n",
    "plt.show()"
   ],
   "metadata": {
    "collapsed": false,
    "pycharm": {
     "name": "#%%\n"
    }
   }
  },
  {
   "cell_type": "code",
   "execution_count": 20,
   "outputs": [
    {
     "data": {
      "text/plain": "<Figure size 432x288 with 1 Axes>",
      "image/png": "[encoded data removed]"
     },
     "metadata": {
      "needs_background": "light"
     },
     "output_type": "display_data"
    }
   ],
   "source": [
    "x = np.arange(np.min(target_test), np.max(target_test) + 1)\n",
    "\n",
    "plt.plot(x, x, \"r--\")\n",
    "#\n",
    "\n",
    "plt.scatter(target_test, model_lr.predict(input_test))\n",
    "# 실제 값, 예측한 값을 비교한다.\n",
    "\n",
    "plt.xlabel(\"실제 대여 건수\")\n",
    "plt.ylabel(\"예측 대여 건수\")\n",
    "\n",
    "plt.show()"
   ],
   "metadata": {
    "collapsed": false,
    "pycharm": {
     "name": "#%%\n"
    }
   }
  },
  {
   "cell_type": "markdown",
   "source": [
    "# 모델 저장"
   ],
   "metadata": {
    "collapsed": false,
    "pycharm": {
     "name": "#%% md\n"
    }
   }
  },
  {
   "cell_type": "code",
   "execution_count": 24,
   "outputs": [
    {
     "name": "stdout",
     "output_type": "stream",
     "text": [
      "Hello World\n"
     ]
    }
   ],
   "source": [
    "from sklearn import datasets\n",
    "import pickle\n",
    "\n",
    "print(\"Hello World\")"
   ],
   "metadata": {
    "collapsed": false,
    "pycharm": {
     "name": "#%%\n"
    }
   }
  },
  {
   "cell_type": "code",
   "execution_count": 34,
   "outputs": [],
   "source": [
    "f = open(\"./to_day_SEOUL_BIKE.pkl\", \"wb\")\n",
    "save_model = pickle.dump(model_lr, f)\n",
    "f.close()\n"
   ],
   "metadata": {
    "collapsed": false,
    "pycharm": {
     "name": "#%%\n"
    }
   }
  },
  {
   "cell_type": "code",
   "execution_count": null,
   "outputs": [],
   "source": [],
   "metadata": {
    "collapsed": false,
    "pycharm": {
     "name": "#%%\n"
    }
   }
  }
 ],
 "metadata": {
  "kernelspec": {
   "display_name": "Python 3",
   "language": "python",
   "name": "python3"
  },
  "language_info": {
   "codemirror_mode": {
    "name": "ipython",
    "version": 2
   },
   "file_extension": ".py",
   "mimetype": "text/x-python",
   "name": "python",
   "nbconvert_exporter": "python",
   "pygments_lexer": "ipython2",
   "version": "2.7.6"
  }
 },
 "nbformat": 4,
 "nbformat_minor": 0
}